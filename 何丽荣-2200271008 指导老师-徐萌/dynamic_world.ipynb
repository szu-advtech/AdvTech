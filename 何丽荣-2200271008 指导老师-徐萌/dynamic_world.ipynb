{
 "cells": [
  {
   "cell_type": "code",
   "execution_count": null,
   "id": "5487894b",
   "metadata": {},
   "outputs": [],
   "source": [
    "import ee\n",
    "import geemap"
   ]
  },
  {
   "cell_type": "code",
   "execution_count": null,
   "id": "0cf15e80",
   "metadata": {},
   "outputs": [],
   "source": [
    "# method 1: 设置代理\n",
    "import os\n",
    "os.environ['HTTP_PROXY'] = 'http://127.0.0.1:7890'\n",
    "os.environ['HTTPS_PROXY'] = 'http://127.0.0.1:7890'"
   ]
  },
  {
   "cell_type": "code",
   "execution_count": null,
   "id": "4146711f",
   "metadata": {},
   "outputs": [],
   "source": [
    "Map = geemap.Map()\n",
    "# Map.add_basemap('HYBRID')\n",
    "# Map"
   ]
  },
  {
   "cell_type": "code",
   "execution_count": null,
   "id": "56fc0229",
   "metadata": {},
   "outputs": [],
   "source": [
    "# 通过在地图上画一个多边形选择区域\n",
    "region = Map.user_roi\n",
    "#beijing = ee.FeatureCollection(\"FAO/GAUL/2015/level1\").filterMetadata('ADM1_NAME', 'equals', \"Beijing Shi\").first().geometry()\n",
    "\n",
    "#print(type(beijing))\n",
    "#region = beijing\n",
    "# print(region)\n",
    "if region is None:\n",
    "    region = ee.Geometry.BBox(-89.7088, 42.9006, -89.0647, 43.2167)\n",
    "\n",
    "#Map.addLayer(region, {}, 'region')\n",
    "Map.centerObject(region)"
   ]
  },
  {
   "cell_type": "code",
   "execution_count": 1,
   "id": "dc196c68",
   "metadata": {
    "ExecuteTime": {
     "end_time": "2023-02-14T12:44:02.538912Z",
     "start_time": "2023-02-14T12:44:02.529332Z"
    }
   },
   "outputs": [
    {
     "name": "stdout",
     "output_type": "stream",
     "text": [
      "1\n"
     ]
    }
   ],
   "source": [
    "print(\"1\")"
   ]
  },
  {
   "cell_type": "code",
   "execution_count": null,
   "id": "ff2cc72c",
   "metadata": {},
   "outputs": [],
   "source": [
    "# 设置日期范围\n",
    "start_date = '2021-01-01'\n",
    "end_date = '2022-01-01'"
   ]
  },
  {
   "cell_type": "code",
   "execution_count": null,
   "id": "59b675ec",
   "metadata": {},
   "outputs": [],
   "source": [
    "# 创建一个 Sentinel-2 图像合成\n",
    "image = geemap.dynamic_world_s2(region, start_date, end_date)\n",
    "#image_cliped = image.clip(region)  #剪切边缘\n",
    "\n",
    "vis_params = {'bands': ['B4', 'B3', 'B2'], 'min': 0, 'max': 3000}\n",
    "Map.addLayer(image, vis_params, 'Sentinel-2 image')"
   ]
  },
  {
   "cell_type": "code",
   "execution_count": null,
   "id": "1482d157",
   "metadata": {},
   "outputs": [],
   "source": [
    "# 创建 Dynamic World 土地覆盖合成\n",
    "landcover = geemap.dynamic_world(region, start_date, end_date, return_type='visualize')\n",
    "\n",
    "# 创建 Dynamic World 土地覆盖分类合成，用于计算分类面积\n",
    "landcover_class = geemap.dynamic_world(region, start_date, end_date, return_type='class')\n",
    "#landcover = landcover.clip(region)   #剪切边缘\n",
    "\n",
    "Map.addLayer(landcover, {}, 'Land Cover')"
   ]
  },
  {
   "cell_type": "code",
   "execution_count": null,
   "id": "c36b66d5",
   "metadata": {},
   "outputs": [],
   "source": [
    "# 添加图例到地图上\n",
    "Map.add_legend(title=\"Dynamic World Land Cover\", builtin_legend='Dynamic_World')\n",
    "Map"
   ]
  },
  {
   "cell_type": "code",
   "execution_count": null,
   "id": "0cdfa9ac",
   "metadata": {},
   "outputs": [],
   "source": [
    "# 计算LULC分类面积和占比\n",
    "df = geemap.image_area_by_group(\n",
    "    landcover_class, scale=1000, denominator=1e6, decimal_places=4, verbose=True\n",
    ")\n",
    "\n",
    "df  # 打印计算结果"
   ]
  },
  {
   "cell_type": "code",
   "execution_count": null,
   "id": "35b2e8f8",
   "metadata": {},
   "outputs": [],
   "source": [
    "#下载\n",
    "df.to_csv('dw20210101_20220101_area.csv')"
   ]
  }
 ],
 "metadata": {
  "kernelspec": {
   "display_name": "Python 3 (ipykernel)",
   "language": "python",
   "name": "python3"
  },
  "language_info": {
   "codemirror_mode": {
    "name": "ipython",
    "version": 3
   },
   "file_extension": ".py",
   "mimetype": "text/x-python",
   "name": "python",
   "nbconvert_exporter": "python",
   "pygments_lexer": "ipython3",
   "version": "3.9.13"
  }
 },
 "nbformat": 4,
 "nbformat_minor": 5
}
