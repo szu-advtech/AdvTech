{
 "cells": [
  {
   "cell_type": "code",
   "execution_count": null,
   "id": "2b3b50c0",
   "metadata": {},
   "outputs": [],
   "source": [
    "!python federated_main_kvasir.py --model=Mobile_Net --dataset=kvasir --gpu=0 --iid=0 --epochs=100 --seed=123 --local_ep=3 --exp_id=20210101001 --num_local=0 --num_users=5"
   ]
  },
  {
   "cell_type": "code",
   "execution_count": null,
   "id": "fde9e7e7",
   "metadata": {},
   "outputs": [],
   "source": [
    "!python federated_main_covid.py --model=CovidNet --dataset=covid --gpu=0 --iid=0 --num_local=1 --epochs=100 --seed=123 --local_ep=3 --exp_id=20210101001 --num_users=5"
   ]
  },
  {
   "cell_type": "code",
   "execution_count": null,
   "id": "e6355959",
   "metadata": {
    "pycharm": {
     "is_executing": true
    }
   },
   "outputs": [],
   "source": [
    "!python federated_main_covid.py --model=resnetxt --dataset=covid --gpu=0 --iid=0 --num_local=1 --epochs=100 --seed=123 --local_ep=3 --exp_id=2028691 --num_users=5"
   ]
  },
  {
   "cell_type": "code",
   "execution_count": null,
   "id": "0e97dc19",
   "metadata": {
    "pycharm": {
     "is_executing": true
    }
   },
   "outputs": [],
   "source": [
    "!ls"
   ]
  },
  {
   "cell_type": "code",
   "execution_count": 9,
   "id": "e1783262",
   "metadata": {},
   "outputs": [
    {
     "name": "stdout",
     "output_type": "stream",
     "text": [
      "[ 56.41700494  54.2692825   52.01430499  70.56336261  62.2095332\n",
      "  55.9290823   52.19504596  39.83435655  36.18323375  54.57905177\n",
      "  37.74967515  34.2688167  101.87960803  38.60964615  40.20890321\n",
      "  43.01130849  73.34757062  39.23761899  48.643748    42.65023587\n",
      "  32.72541066  30.42508845  42.85110748  59.27953071  37.45670869\n",
      "  28.20231379  44.61011791  41.34142823  33.75296673  48.32748954\n",
      "  55.93885629  47.45311668  34.12926399  29.62786343  21.39628093\n",
      "  48.21818478  29.01947703  31.73067233  27.02000916  25.42935877\n",
      "  26.97532667  32.88527471  23.29352849  31.53461129  30.13054155\n",
      "  40.35978666  57.86748884  23.53435085  29.70390204  35.26271842\n",
      "  32.6302405   24.80691812  33.42592854  22.01208155  26.93506167\n",
      "  39.62902966  30.27872048  20.71992169  27.25783052  23.45825007\n",
      "  30.15108521  27.96522651  29.64526124  26.27981257  22.09293601\n",
      "  24.34019389  32.42807129  32.97537392  21.40337279  26.01332688\n",
      "  21.0598857   43.20409704  24.19843818  38.73746695  31.04645932\n",
      "  29.68667875  27.18858982  24.95619788  35.5342917   22.98112277\n",
      "  27.51072667  21.43753592  24.75376331  17.3890602   20.61963958\n",
      "  23.0276403   43.31806091  24.73408181  23.12195362  19.32043433\n",
      "  30.36482191  20.62903571  15.91438137  25.15581769  20.77012896\n",
      "  43.3894486   24.67259377  34.79893578  26.75257599  28.85593076]\n"
     ]
    }
   ],
   "source": [
    "test_acc = np.load('./temfig/20210101001_test_accuracy_1.npy')\n",
    "test_loss = np.load('./temfig/20210101001_local_test_loss_1.npy')\n",
    "local_test_loss = np.load('./temfig/20210101001_local_test_loss_1.npy')\n",
    "#train_loss = np.load('./temfig/20210101001_train_confusion_MA_1.npy')\n",
    "print(local_test_loss)"
   ]
  },
  {
   "cell_type": "code",
   "execution_count": 14,
   "id": "08d542cb",
   "metadata": {
    "scrolled": true
   },
   "outputs": [
    {
     "name": "stdout",
     "output_type": "stream",
     "text": [
      "[array([[582,  49],\n",
      "        [  1, 209]]) array([[ 25,   1],\n",
      "                            [ 40, 775]]) array([[260,  23,   0],\n",
      "                                                [ 17, 454,   0],\n",
      "                                                [ 30,   6,  51]])\n",
      " array([[587,  55,   1],\n",
      "        [  2, 193,   0],\n",
      "        [  0,   0,   0]]) array([[112,   6],\n",
      "                                 [ 22, 686]])]\n"
     ]
    }
   ],
   "source": [
    "import numpy as np\n",
    "train_acc = np.load('./temfig/202211_train_accuracy_1.npy')\n",
    "test_loss = np.load('./temfig/202211_local_test_loss_1.npy')\n",
    "train_loss = np.load('./temfig/202211_train_confusion_MA_1.npy',allow_pickle=True)\n",
    "print(train_loss)"
   ]
  },
  {
   "cell_type": "code",
   "execution_count": 1,
   "id": "4b9eca86",
   "metadata": {},
   "outputs": [
    {
     "name": "stdout",
     "output_type": "stream",
     "text": [
      "63\n"
     ]
    }
   ],
   "source": [
    "print(7 * 9)"
   ]
  },
  {
   "cell_type": "code",
   "execution_count": null,
   "id": "1fed2337",
   "metadata": {},
   "outputs": [],
   "source": []
  }
 ],
 "metadata": {
  "kernelspec": {
   "display_name": "Python 3 (ipykernel)",
   "language": "python",
   "name": "python3"
  },
  "language_info": {
   "codemirror_mode": {
    "name": "ipython",
    "version": 3
   },
   "file_extension": ".py",
   "mimetype": "text/x-python",
   "name": "python",
   "nbconvert_exporter": "python",
   "pygments_lexer": "ipython3",
   "version": "3.8.10"
  },
  "vscode": {
   "interpreter": {
    "hash": "751571c89d06b502b817d280f888290cbda9df1c16455be26d1d895c492b1367"
   }
  }
 },
 "nbformat": 4,
 "nbformat_minor": 5
}
