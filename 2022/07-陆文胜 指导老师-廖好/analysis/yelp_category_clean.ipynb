{
 "cells": [
  {
   "cell_type": "code",
   "execution_count": 2,
   "metadata": {},
   "outputs": [],
   "source": [
    "import pandas as pd\n",
    "import numpy as np\n",
    "import matplotlib.pyplot as plt\n",
    "from matplotlib.ticker import FuncFormatter\n",
    "from matplotlib.font_manager import FontProperties\n",
    "import json\n",
    "font = FontProperties(fname='font/Times-Roman.ttf')\n",
    "%matplotlib inline\n",
    "plt.rcParams['font.sans-serif']=['SimHei'] # 用来正常显示中文标签\n",
    "plt.rcParams['axes.unicode_minus']=False # 用来正常显示负号"
   ]
  },
  {
   "cell_type": "code",
   "execution_count": 15,
   "metadata": {},
   "outputs": [],
   "source": [
    "# path = \"/home/lx/Yelp_dataset/yelp_academic_dataset_business.json/\""
   ]
  },
  {
   "cell_type": "code",
   "execution_count": null,
   "metadata": {},
   "outputs": [],
   "source": [
    "# data = pd.read_csv(path+\"yelp_academic_dataset_business.json\",sep=\"\\t\",header=None)"
   ]
  },
  {
   "cell_type": "code",
   "execution_count": 14,
   "metadata": {},
   "outputs": [],
   "source": [
    "# business_filename = \"/home/lx/Yelp_dataset/yelp_academic_dataset_business.json/yelp_academic_dataset_business.json\"\n",
    "# with open(business_filename,\"r\") as business_file:\n",
    "# \tnum=1\n",
    "# \tfor line in business_file.readlines():\n",
    "# \t\tif(num>1):\n",
    "# \t\t\t#处理business.txt\n",
    "# \t\t\tif num%10000==0:\n",
    "# \t\t\t\tprint(\"business num:\"+str(num))\n",
    "# \t\t\tdict_line = json.loads(line) #json字符串转换成字典\n",
    "# \t\t\tattributes=dict_line['attributes']\n",
    "# \t\t\tif attributes:\n",
    "# \t\t\t\tif \"RestaurantsReservations\" in attributes:\n",
    "# \t\t\t\t\tnew_business_filename=\"data/yelp_business.json\"\n",
    "# \t\t\t\t\twith open(new_business_filename,'a+') as new_business_file:\n",
    "# \t\t\t\t\t\tnew_business_file.write(line)\n",
    "\t\t\t\t\t\t\n",
    "# \t\tnum = num + 1\n",
    "# business_file.close()"
   ]
  },
  {
   "cell_type": "code",
   "execution_count": 129,
   "metadata": {},
   "outputs": [
    {
     "name": "stdout",
     "output_type": "stream",
     "text": [
      "reviews_num:5000\n",
      "reviews_num:10000\n",
      "reviews_num:15000\n",
      "reviews_num:20000\n",
      "reviews_num:25000\n",
      "reviews_num:30000\n",
      "reviews_num:35000\n",
      "reviews_num:40000\n",
      "reviews_num:45000\n",
      "reviews_num:50000\n",
      "reviews_num:55000\n"
     ]
    }
   ],
   "source": [
    "business_filename = \"data/yelp_business.json\"\n",
    "close_num=0\n",
    "id_and_review_count_and_label_filename=\"data/yelp_business_category_label.txt\"\n",
    "\n",
    "with open(business_filename,\"r\") as business_file:\n",
    "    with open(id_and_review_count_and_label_filename,'a+') as id_and_review_count_and_label_file:\n",
    "        num=1\n",
    "        for line in business_file.readlines():\n",
    "            if num%5000==0:\n",
    "                print(\"reviews_num:\"+str(num))\n",
    "            dict_line = json.loads(line)\n",
    "            business_id = dict_line['business_id']\n",
    "            state= dict_line['state']\n",
    "            review_count = dict_line['review_count']\n",
    "            categories = dict_line['categories']\n",
    "            label=dict_line['is_open']\n",
    "            if label == 0:\n",
    "                close_num+=1\n",
    "            new_line=business_id+\"\\t\"+str(state)+\"\\t\"+str(review_count)+\"\\t\"+str(label)+\"\\t\"+str(categories)+\"\\n\"\n",
    "            id_and_review_count_and_label_file.write(new_line)\n",
    "            num+=1\n",
    "business_file.close()\n",
    "id_and_review_count_and_label_file.close()"
   ]
  },
  {
   "cell_type": "code",
   "execution_count": 130,
   "metadata": {},
   "outputs": [],
   "source": [
    "data = pd.read_csv(\"data/yelp_business_category_label.txt\",sep=\"\\t\",header=None)"
   ]
  },
  {
   "cell_type": "code",
   "execution_count": 131,
   "metadata": {},
   "outputs": [],
   "source": [
    "data.columns = ['itemid','state','nums','label','category']"
   ]
  },
  {
   "cell_type": "code",
   "execution_count": 132,
   "metadata": {},
   "outputs": [],
   "source": [
    "category = data[['category']]"
   ]
  },
  {
   "cell_type": "code",
   "execution_count": 62,
   "metadata": {},
   "outputs": [],
   "source": [
    "# category_list"
   ]
  },
  {
   "cell_type": "code",
   "execution_count": 133,
   "metadata": {},
   "outputs": [],
   "source": [
    "cate = []\n",
    "A = ['sandwiches', 'burgers','fast','pizza','italian','american','bars','mexican','coffee','cafes','tea','chinese','taiwanese','japanese','thai','thailand']\n",
    "for index, row in category.iterrows():\n",
    "    line = row['category']\n",
    "    line = line.replace(\" \", \",\")\n",
    "    line = line.split(',')\n",
    "    \n",
    "    new = []\n",
    "    for i in line:\n",
    "        new.append(i.lower())\n",
    "    \n",
    "    # 求交集\n",
    "    t = len(list(set(A).intersection(set(new))))\n",
    "   \n",
    "    if t==0:\n",
    "        cate.append('Others')\n",
    "        continue\n",
    "    \n",
    "    for i in new:\n",
    "        if i == 'sandwiches':\n",
    "            cate.append('Sandwiches')\n",
    "            break\n",
    "        elif i in ['burgers']:\n",
    "            cate.append('Burgers')\n",
    "            break\n",
    "        elif i in ['fast']:\n",
    "            cate.append('Fast')\n",
    "            break\n",
    "        elif i in ['pizza','italian']:\n",
    "            cate.append('Italian')\n",
    "            break\n",
    "        elif i in ['american']:\n",
    "            cate.append('American')\n",
    "            break\n",
    "        elif i in ['bars']:\n",
    "            cate.append('Bars')\n",
    "            break\n",
    "        elif i in ['mexican']:\n",
    "            cate.append('Mexican')\n",
    "            break\n",
    "        elif i in ['coffee','cafes','tea']:\n",
    "            cate.append('Coffee & Tea')\n",
    "            break\n",
    "        elif i in ['chinese','taiwanese']:\n",
    "            cate.append('Chinese')\n",
    "            break\n",
    "        elif i in ['japanese']:\n",
    "            cate.append('Japanese')\n",
    "            break\n",
    "        elif i in ['thai','thailand']:\n",
    "            cate.append('Thailand')\n",
    "            break\n",
    "        "
   ]
  },
  {
   "cell_type": "code",
   "execution_count": null,
   "metadata": {},
   "outputs": [],
   "source": []
  },
  {
   "cell_type": "code",
   "execution_count": 134,
   "metadata": {},
   "outputs": [],
   "source": [
    "new_category = pd.DataFrame(cate)\n",
    "new_category.columns= ['new_category']"
   ]
  },
  {
   "cell_type": "code",
   "execution_count": 135,
   "metadata": {},
   "outputs": [],
   "source": [
    "frame =[data,new_category]\n",
    "df = pd.concat(frame,axis=1 )"
   ]
  },
  {
   "cell_type": "code",
   "execution_count": 163,
   "metadata": {},
   "outputs": [
    {
     "data": {
      "text/html": [
       "<div>\n",
       "<style scoped>\n",
       "    .dataframe tbody tr th:only-of-type {\n",
       "        vertical-align: middle;\n",
       "    }\n",
       "\n",
       "    .dataframe tbody tr th {\n",
       "        vertical-align: top;\n",
       "    }\n",
       "\n",
       "    .dataframe thead th {\n",
       "        text-align: right;\n",
       "    }\n",
       "</style>\n",
       "<table border=\"1\" class=\"dataframe\">\n",
       "  <thead>\n",
       "    <tr style=\"text-align: right;\">\n",
       "      <th></th>\n",
       "      <th>nums</th>\n",
       "      <th>label</th>\n",
       "    </tr>\n",
       "  </thead>\n",
       "  <tbody>\n",
       "    <tr>\n",
       "      <td>count</td>\n",
       "      <td>11054.000000</td>\n",
       "      <td>11054.000000</td>\n",
       "    </tr>\n",
       "    <tr>\n",
       "      <td>mean</td>\n",
       "      <td>124.788945</td>\n",
       "      <td>0.667993</td>\n",
       "    </tr>\n",
       "    <tr>\n",
       "      <td>std</td>\n",
       "      <td>199.110578</td>\n",
       "      <td>0.470955</td>\n",
       "    </tr>\n",
       "    <tr>\n",
       "      <td>min</td>\n",
       "      <td>3.000000</td>\n",
       "      <td>0.000000</td>\n",
       "    </tr>\n",
       "    <tr>\n",
       "      <td>25%</td>\n",
       "      <td>20.000000</td>\n",
       "      <td>0.000000</td>\n",
       "    </tr>\n",
       "    <tr>\n",
       "      <td>50%</td>\n",
       "      <td>56.000000</td>\n",
       "      <td>1.000000</td>\n",
       "    </tr>\n",
       "    <tr>\n",
       "      <td>75%</td>\n",
       "      <td>149.000000</td>\n",
       "      <td>1.000000</td>\n",
       "    </tr>\n",
       "    <tr>\n",
       "      <td>max</td>\n",
       "      <td>3515.000000</td>\n",
       "      <td>1.000000</td>\n",
       "    </tr>\n",
       "  </tbody>\n",
       "</table>\n",
       "</div>"
      ],
      "text/plain": [
       "               nums         label\n",
       "count  11054.000000  11054.000000\n",
       "mean     124.788945      0.667993\n",
       "std      199.110578      0.470955\n",
       "min        3.000000      0.000000\n",
       "25%       20.000000      0.000000\n",
       "50%       56.000000      1.000000\n",
       "75%      149.000000      1.000000\n",
       "max     3515.000000      1.000000"
      ]
     },
     "execution_count": 163,
     "metadata": {},
     "output_type": "execute_result"
    }
   ],
   "source": [
    "# df = \n",
    "df[df['state']=='AZ'].describe()"
   ]
  },
  {
   "cell_type": "code",
   "execution_count": 164,
   "metadata": {},
   "outputs": [
    {
     "data": {
      "text/html": [
       "<div>\n",
       "<style scoped>\n",
       "    .dataframe tbody tr th:only-of-type {\n",
       "        vertical-align: middle;\n",
       "    }\n",
       "\n",
       "    .dataframe tbody tr th {\n",
       "        vertical-align: top;\n",
       "    }\n",
       "\n",
       "    .dataframe thead th {\n",
       "        text-align: right;\n",
       "    }\n",
       "</style>\n",
       "<table border=\"1\" class=\"dataframe\">\n",
       "  <thead>\n",
       "    <tr style=\"text-align: right;\">\n",
       "      <th></th>\n",
       "      <th>itemid</th>\n",
       "      <th>state</th>\n",
       "      <th>nums</th>\n",
       "      <th>label</th>\n",
       "      <th>category</th>\n",
       "      <th>new_category</th>\n",
       "    </tr>\n",
       "  </thead>\n",
       "  <tbody>\n",
       "    <tr>\n",
       "      <td>0</td>\n",
       "      <td>pQeaRpvuhoEqudo3uymHIQ</td>\n",
       "      <td>IL</td>\n",
       "      <td>5</td>\n",
       "      <td>1</td>\n",
       "      <td>Ethnic Food, Food Trucks, Specialty Food, Impo...</td>\n",
       "      <td>Others</td>\n",
       "    </tr>\n",
       "    <tr>\n",
       "      <td>1</td>\n",
       "      <td>CsLQLiRoafpJPJSkNX2h5Q</td>\n",
       "      <td>NC</td>\n",
       "      <td>5</td>\n",
       "      <td>0</td>\n",
       "      <td>Food, Restaurants, Grocery, Middle Eastern</td>\n",
       "      <td>Others</td>\n",
       "    </tr>\n",
       "    <tr>\n",
       "      <td>2</td>\n",
       "      <td>eBEfgOPG7pvFhb2wcG9I7w</td>\n",
       "      <td>ON</td>\n",
       "      <td>4</td>\n",
       "      <td>1</td>\n",
       "      <td>Restaurants, Cheesesteaks, Poutineries</td>\n",
       "      <td>Others</td>\n",
       "    </tr>\n",
       "    <tr>\n",
       "      <td>3</td>\n",
       "      <td>lu7vtrp_bE9PnxWfA8g4Pg</td>\n",
       "      <td>ON</td>\n",
       "      <td>7</td>\n",
       "      <td>1</td>\n",
       "      <td>Japanese, Fast Food, Food Court, Restaurants</td>\n",
       "      <td>Japanese</td>\n",
       "    </tr>\n",
       "    <tr>\n",
       "      <td>4</td>\n",
       "      <td>9sRGfSVEfLhN_km60YruTA</td>\n",
       "      <td>ON</td>\n",
       "      <td>3</td>\n",
       "      <td>1</td>\n",
       "      <td>Persian/Iranian, Turkish, Middle Eastern, Rest...</td>\n",
       "      <td>Others</td>\n",
       "    </tr>\n",
       "    <tr>\n",
       "      <td>...</td>\n",
       "      <td>...</td>\n",
       "      <td>...</td>\n",
       "      <td>...</td>\n",
       "      <td>...</td>\n",
       "      <td>...</td>\n",
       "      <td>...</td>\n",
       "    </tr>\n",
       "    <tr>\n",
       "      <td>55356</td>\n",
       "      <td>YZeUH6zYS0dq5QHLYZhUnQ</td>\n",
       "      <td>AZ</td>\n",
       "      <td>106</td>\n",
       "      <td>1</td>\n",
       "      <td>Nightlife, American (Traditional), Chicken Win...</td>\n",
       "      <td>American</td>\n",
       "    </tr>\n",
       "    <tr>\n",
       "      <td>55357</td>\n",
       "      <td>xVpE01l6ZXdEtVf5PkRpDg</td>\n",
       "      <td>WI</td>\n",
       "      <td>95</td>\n",
       "      <td>0</td>\n",
       "      <td>Nightlife, Diners, Bars, Southern, Restaurants</td>\n",
       "      <td>Bars</td>\n",
       "    </tr>\n",
       "    <tr>\n",
       "      <td>55358</td>\n",
       "      <td>hskVqZCPqy-omm9CHi44xQ</td>\n",
       "      <td>NC</td>\n",
       "      <td>16</td>\n",
       "      <td>1</td>\n",
       "      <td>Restaurants, Pizza, Sandwiches, Fast Food, Chi...</td>\n",
       "      <td>Italian</td>\n",
       "    </tr>\n",
       "    <tr>\n",
       "      <td>55359</td>\n",
       "      <td>9Q0fPWAjUweoFDk0kafuzQ</td>\n",
       "      <td>ON</td>\n",
       "      <td>5</td>\n",
       "      <td>0</td>\n",
       "      <td>Japanese, Sushi Bars, Restaurants</td>\n",
       "      <td>Japanese</td>\n",
       "    </tr>\n",
       "    <tr>\n",
       "      <td>55360</td>\n",
       "      <td>SYa2j1boLF8DcGVOYfHPcA</td>\n",
       "      <td>AZ</td>\n",
       "      <td>97</td>\n",
       "      <td>1</td>\n",
       "      <td>American (New), Food, Burgers, Restaurants, Fa...</td>\n",
       "      <td>American</td>\n",
       "    </tr>\n",
       "  </tbody>\n",
       "</table>\n",
       "<p>55361 rows × 6 columns</p>\n",
       "</div>"
      ],
      "text/plain": [
       "                       itemid state  nums  label  \\\n",
       "0      pQeaRpvuhoEqudo3uymHIQ    IL     5      1   \n",
       "1      CsLQLiRoafpJPJSkNX2h5Q    NC     5      0   \n",
       "2      eBEfgOPG7pvFhb2wcG9I7w    ON     4      1   \n",
       "3      lu7vtrp_bE9PnxWfA8g4Pg    ON     7      1   \n",
       "4      9sRGfSVEfLhN_km60YruTA    ON     3      1   \n",
       "...                       ...   ...   ...    ...   \n",
       "55356  YZeUH6zYS0dq5QHLYZhUnQ    AZ   106      1   \n",
       "55357  xVpE01l6ZXdEtVf5PkRpDg    WI    95      0   \n",
       "55358  hskVqZCPqy-omm9CHi44xQ    NC    16      1   \n",
       "55359  9Q0fPWAjUweoFDk0kafuzQ    ON     5      0   \n",
       "55360  SYa2j1boLF8DcGVOYfHPcA    AZ    97      1   \n",
       "\n",
       "                                                category new_category  \n",
       "0      Ethnic Food, Food Trucks, Specialty Food, Impo...       Others  \n",
       "1             Food, Restaurants, Grocery, Middle Eastern       Others  \n",
       "2                 Restaurants, Cheesesteaks, Poutineries       Others  \n",
       "3           Japanese, Fast Food, Food Court, Restaurants     Japanese  \n",
       "4      Persian/Iranian, Turkish, Middle Eastern, Rest...       Others  \n",
       "...                                                  ...          ...  \n",
       "55356  Nightlife, American (Traditional), Chicken Win...     American  \n",
       "55357     Nightlife, Diners, Bars, Southern, Restaurants         Bars  \n",
       "55358  Restaurants, Pizza, Sandwiches, Fast Food, Chi...      Italian  \n",
       "55359                  Japanese, Sushi Bars, Restaurants     Japanese  \n",
       "55360  American (New), Food, Burgers, Restaurants, Fa...     American  \n",
       "\n",
       "[55361 rows x 6 columns]"
      ]
     },
     "execution_count": 164,
     "metadata": {},
     "output_type": "execute_result"
    }
   ],
   "source": [
    "df"
   ]
  },
  {
   "cell_type": "code",
   "execution_count": 159,
   "metadata": {},
   "outputs": [],
   "source": [
    "def get_yelp_XY(df, city):\n",
    "    if city != \"\":\n",
    "        df = df[df['state']==city]\n",
    "    dff = df.groupby(by=['label'])\n",
    "    df0 = dff.get_group(0)\n",
    "    df1 = dff.get_group(1)\n",
    "\n",
    "    dicta = {}\n",
    "    for k, v in df['new_category'].value_counts().items():\n",
    "        dicta[k] = v\n",
    "    \n",
    "#     print(dicta)\n",
    "    dict0 = {}\n",
    "    for k, v in df0['new_category'].value_counts().items():\n",
    "        dict0[k] = v\n",
    "        #         dict0.append([k,v])\n",
    "#     dict0 = np.array(dict0)\n",
    "#     dict0 = dict0[np.lexsort(dict0[:,::-1].T)]\n",
    "#     dict0=dict(dict0)\n",
    "#     print(dict0)\n",
    "#     dicta = dictionairy(dicta)\n",
    "#     dict0 = dictionairy(dict0)\n",
    "    X = []\n",
    "    Y = []\n",
    "#     dict0\n",
    "    for k,v in dicta.items():\n",
    "        if k in dict0:\n",
    "            X.append(k)\n",
    "            Y.append(dict0[k]/v)\n",
    "        else :\n",
    "            X.append(k)\n",
    "            Y.append(0)\n",
    "    \n",
    "#     print(dicta)\n",
    "#     print(dict0)\n",
    "#     print(X0)\n",
    "#     print(Y0)\n",
    "    return X, Y"
   ]
  },
  {
   "cell_type": "code",
   "execution_count": 162,
   "metadata": {},
   "outputs": [
    {
     "data": {
      "text/plain": [
       "['Others',\n",
       " 'Bars',\n",
       " 'Italian',\n",
       " 'American',\n",
       " 'Sandwiches',\n",
       " 'Fast',\n",
       " 'Chinese',\n",
       " 'Mexican',\n",
       " 'Coffee & Tea',\n",
       " 'Burgers',\n",
       " 'Japanese',\n",
       " 'Thailand']"
      ]
     },
     "execution_count": 162,
     "metadata": {},
     "output_type": "execute_result"
    }
   ],
   "source": [
    "X0,Y0  = get_yelp_XY(df,\"\")\n",
    "X1,Y1  = get_yelp_XY(df,\"AZ\")\n",
    "X0"
   ]
  },
  {
   "cell_type": "code",
   "execution_count": 120,
   "metadata": {},
   "outputs": [
    {
     "data": {
      "text/plain": [
       "[0.3567122763371926,\n",
       " 0.28101937269372695,\n",
       " 0.2983425414364641,\n",
       " 0.3463249961638791,\n",
       " 0.25489727663640704,\n",
       " 0.13778139408733386,\n",
       " 0.32086499123319695,\n",
       " 0.32842686292548295,\n",
       " 0.29984496124031007,\n",
       " 0.26298960831334933,\n",
       " 0.35353535353535354,\n",
       " 0.34026465028355385]"
      ]
     },
     "execution_count": 120,
     "metadata": {},
     "output_type": "execute_result"
    }
   ],
   "source": [
    "Y"
   ]
  },
  {
   "cell_type": "code",
   "execution_count": 146,
   "metadata": {},
   "outputs": [],
   "source": [
    "# cate"
   ]
  },
  {
   "cell_type": "code",
   "execution_count": 88,
   "metadata": {},
   "outputs": [
    {
     "data": {
      "text/plain": [
       "True"
      ]
     },
     "execution_count": 88,
     "metadata": {},
     "output_type": "execute_result"
    }
   ],
   "source": [
    "'A'.lower() == 'a'"
   ]
  },
  {
   "cell_type": "code",
   "execution_count": null,
   "metadata": {},
   "outputs": [],
   "source": []
  },
  {
   "cell_type": "code",
   "execution_count": null,
   "metadata": {},
   "outputs": [],
   "source": []
  },
  {
   "cell_type": "code",
   "execution_count": null,
   "metadata": {},
   "outputs": [],
   "source": []
  },
  {
   "cell_type": "code",
   "execution_count": null,
   "metadata": {},
   "outputs": [],
   "source": []
  },
  {
   "cell_type": "code",
   "execution_count": null,
   "metadata": {},
   "outputs": [],
   "source": []
  }
 ],
 "metadata": {
  "kernelspec": {
   "display_name": "Python 3",
   "language": "python",
   "name": "python3"
  },
  "language_info": {
   "codemirror_mode": {
    "name": "ipython",
    "version": 3
   },
   "file_extension": ".py",
   "mimetype": "text/x-python",
   "name": "python",
   "nbconvert_exporter": "python",
   "pygments_lexer": "ipython3",
   "version": "3.7.3"
  }
 },
 "nbformat": 4,
 "nbformat_minor": 4
}
