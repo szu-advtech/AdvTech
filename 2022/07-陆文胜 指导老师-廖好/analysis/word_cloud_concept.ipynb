{
 "cells": [
  {
   "cell_type": "code",
   "execution_count": 62,
   "metadata": {},
   "outputs": [],
   "source": [
    "import numpy as np\n",
    "import pandas as pd\n",
    "import wordcloud\n",
    "import jieba\n",
    "import jieba.posseg as pseg\n",
    "from collections import Counter"
   ]
  },
  {
   "cell_type": "code",
   "execution_count": 63,
   "metadata": {},
   "outputs": [],
   "source": [
    "path = \"../data/City_1/clean_5_City_1/\""
   ]
  },
  {
   "cell_type": "code",
   "execution_count": 64,
   "metadata": {},
   "outputs": [],
   "source": [
    "itemid = pd.read_csv(path+\"itemID.txt\",sep=\"\\n\",header=None)\n",
    "concepts = pd.read_csv(path+\"concepts.txt\",sep=\"\\n\",header=None)\n",
    "label =  pd.read_csv(path+\"label.txt\",sep=\"\\n\",header=None)"
   ]
  },
  {
   "cell_type": "code",
   "execution_count": 65,
   "metadata": {},
   "outputs": [],
   "source": [
    "frame = [itemid,concepts, label]"
   ]
  },
  {
   "cell_type": "code",
   "execution_count": 66,
   "metadata": {},
   "outputs": [],
   "source": [
    "data = pd.concat(frame,axis = 1)\n",
    "data.columns=['itemid','concepts','label']"
   ]
  },
  {
   "cell_type": "code",
   "execution_count": 67,
   "metadata": {},
   "outputs": [],
   "source": [
    "label0 = ''\n",
    "label1 = ''\n",
    "for index, row in data.iterrows():\n",
    "    if row['label'] == 1 :\n",
    "        label1 += '\\t' + str(row['concepts'])\n",
    "    else :\n",
    "        label0 += '\\t' + str(row['concepts'])"
   ]
  },
  {
   "cell_type": "code",
   "execution_count": 68,
   "metadata": {},
   "outputs": [
    {
     "data": {
      "text/plain": [
       "<wordcloud.wordcloud.WordCloud at 0x7fa6ac560c88>"
      ]
     },
     "execution_count": 68,
     "metadata": {},
     "output_type": "execute_result"
    }
   ],
   "source": [
    "wc = wordcloud.WordCloud(font_path=\"font/simheittf.ttf\",\n",
    "                         width = 1000,\n",
    "                         height = 700,\n",
    "                         background_color='white',\n",
    "                         max_words=100)\n",
    "# msyh.ttc电脑本地字体，写可以写成绝对路径\n",
    "wc.generate(label1) # 加载词云文本\n",
    "wc.to_file(\"City_4_concepts_1.png\") # 保存词云文件"
   ]
  },
  {
   "cell_type": "code",
   "execution_count": 69,
   "metadata": {},
   "outputs": [],
   "source": [
    "# 统计词频\n",
    "\n",
    "## 定义一个 list\n",
    "L =list()\n",
    "## 获取带词性的词对象（没学过py不知道得到的是什么）\n",
    "words = pseg.cut(label1)\n",
    "i=0\n",
    "## 遍历这个词对象\n",
    "for word, flag in words:\n",
    "    ## 如果词性(flag)或者词(word)属于这个范围就直接跳过 自己填写\n",
    "    if flag==\"x\" or flag==\"p\"  or flag==\"uj\" or word==\"年\"or word==\"月\"or word==\"日\" :\n",
    "        continue\n",
    "    ## 打印计数 为了区分程序是不是挂了\n",
    "    i=i+1\n",
    "    ##把词追加到list中\n",
    "    L.append(word)\n",
    "## 计算出现次数\n",
    "getObj = Counter(L)\n",
    "# ## 写到./getObj.json文件里\n",
    "# f = open('./getObj.json', 'w')\n",
    "# f.write(str(getObj).replace(\"Counter(\",\"\").replace(\")\",\"\").replace(\"'\",'\"'))\n",
    "\n"
   ]
  },
  {
   "cell_type": "code",
   "execution_count": 70,
   "metadata": {},
   "outputs": [],
   "source": [
    "# getObj = sorted(getObj)\n",
    "t = getObj"
   ]
  },
  {
   "cell_type": "code",
   "execution_count": 72,
   "metadata": {},
   "outputs": [],
   "source": [
    "# t.most_common(100)\n",
    "stopword=['很','我', '不','人','菜','店','蛮','个','会','有点','会','时候','太','上','过','最','汤','量','肉','面','牛肉','少','饭','爱','个人','鸡','老','么','高','烤','甜','味','老公']"
   ]
  },
  {
   "cell_type": "code",
   "execution_count": 75,
   "metadata": {},
   "outputs": [
    {
     "data": {
      "text/plain": [
       "<wordcloud.wordcloud.WordCloud at 0x7fa6ac560c50>"
      ]
     },
     "execution_count": 75,
     "metadata": {},
     "output_type": "execute_result"
    }
   ],
   "source": [
    "wc = wordcloud.WordCloud(font_path=\"font/simheittf.ttf\",\n",
    "                         width = 1000,\n",
    "                         height = 700,\n",
    "                         background_color='white',\n",
    "                         max_words=100,\n",
    "                        stopwords=stopword)\n",
    "# msyh.ttc电脑本地字体，写可以写成绝对路径\n",
    "wc.generate(label1) # 加载词云文本\n",
    "wc.to_file(\"label.png\") # 保存词云文件"
   ]
  },
  {
   "cell_type": "code",
   "execution_count": null,
   "metadata": {},
   "outputs": [],
   "source": []
  },
  {
   "cell_type": "code",
   "execution_count": null,
   "metadata": {},
   "outputs": [],
   "source": []
  },
  {
   "cell_type": "code",
   "execution_count": null,
   "metadata": {},
   "outputs": [],
   "source": []
  },
  {
   "cell_type": "code",
   "execution_count": null,
   "metadata": {},
   "outputs": [],
   "source": []
  },
  {
   "cell_type": "code",
   "execution_count": null,
   "metadata": {},
   "outputs": [],
   "source": []
  },
  {
   "cell_type": "code",
   "execution_count": null,
   "metadata": {},
   "outputs": [],
   "source": []
  }
 ],
 "metadata": {
  "kernelspec": {
   "display_name": "Python 3",
   "language": "python",
   "name": "python3"
  },
  "language_info": {
   "codemirror_mode": {
    "name": "ipython",
    "version": 3
   },
   "file_extension": ".py",
   "mimetype": "text/x-python",
   "name": "python",
   "nbconvert_exporter": "python",
   "pygments_lexer": "ipython3",
   "version": "3.7.3"
  }
 },
 "nbformat": 4,
 "nbformat_minor": 4
}
