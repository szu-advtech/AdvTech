{
 "cells": [
  {
   "cell_type": "code",
   "execution_count": 94,
   "metadata": {},
   "outputs": [],
   "source": [
    "import pandas as pd\n",
    "import numpy as np\n",
    "import matplotlib.pyplot as plt\n",
    "from matplotlib.ticker import FuncFormatter\n",
    "from matplotlib.font_manager import FontProperties\n",
    "import json\n",
    "font = FontProperties(fname='font/Times-Roman.ttf')\n",
    "%matplotlib inline\n",
    "plt.rcParams['font.sans-serif']=['SimHei'] # 用来正常显示中文标签\n",
    "plt.rcParams['axes.unicode_minus']=False # 用来正常显示负号"
   ]
  },
  {
   "cell_type": "code",
   "execution_count": null,
   "metadata": {},
   "outputs": [],
   "source": []
  },
  {
   "cell_type": "code",
   "execution_count": 95,
   "metadata": {},
   "outputs": [],
   "source": [
    "# businesses_filename = \"/home/lx/DianPing Analysis/data/origin/businesses.txt\"\n",
    "# businesses1_filename = \"data/businesses_clean.txt\"\n",
    "\n",
    "# with open(businesses_filename,\"r\",encoding='utf-8') as businesses_file:\n",
    "#     with open(businesses1_filename,\"w\",encoding='utf-8') as businesses1_file:\n",
    "#         num=1\n",
    "#         businesses1_file.write(str(\"ID\")+\"\\t\"+str(\"NAME\")+\"\\t\"+str(\"CITY\")+\"\\t\"+str(\"SCORE\")+\"\\t\"+str(\"FLAVOR\")+\"\\t\"+str(\"ENVIRONMENT\")+\"\\t\"+str(\"SERVICE\")+\"\\t\"+str(\"SHARE\")+\"\\t\"+str(\"LAT\")+\"\\t\"+str(\"LNG\")+\"\\t\"+str(\"STYLE\")+\"\\t\"+str(\"COST\")+\"\\n\")\n",
    "#         for line in businesses_file.readlines():\n",
    "#             if(num>1):\n",
    "#                 str1 = \"^\"\n",
    "#                 split_index = line.index(str1)\n",
    "#                 json_line = line[split_index+1:]\n",
    "#                 dict_line = json.loads(json_line) #json字符串转换成字典\n",
    "#                 if (len(dict_line)<=2):\n",
    "#                     continue\n",
    "#                 ID=dict_line[\"0\"]\n",
    "#                 NAME=dict_line[\"1\"]\n",
    "#                 CITY=dict_line[\"2\"]\n",
    "#                 SCORE=dict_line[\"3\"]\n",
    "#                 FLAVOR=dict_line[\"4\"]\n",
    "#                 ENVIRONMENT=dict_line[\"5\"]\n",
    "#                 SERVICE=dict_line[\"6\"]\n",
    "#                 SHARE=dict_line[\"9\"]\n",
    "#                 LAT=dict_line[\"16\"]\n",
    "#                 LNG=dict_line[\"17\"]\n",
    "#                 STYLE=dict_line[\"18\"]\n",
    "#                 COST=dict_line[\"19\"]\n",
    "#                 businesses1_file.write(str(ID)+\"\\t\"+str(NAME)+\"\\t\"+str(CITY)+\"\\t\"+str(SCORE)+\"\\t\"+str(FLAVOR)+\"\\t\"+str(ENVIRONMENT)+\"\\t\"+str(SERVICE)+\"\\t\"+str(SHARE)+\"\\t\"+str(LAT)+\"\\t\"+str(LNG)+\"\\t\"+str(STYLE)+\"\\t\"+str(COST)+\"\\n\")\n",
    "#             num+=1\n",
    "#     businesses1_file.close()\n",
    "# businesses_file.close()"
   ]
  },
  {
   "cell_type": "code",
   "execution_count": 96,
   "metadata": {},
   "outputs": [],
   "source": [
    "df0 = pd.read_csv(\"/home/lx/CAML_Work/restaurant/restaurant_info/data/businesses_label.txt\",sep=\"\\t\",header=None)\n",
    "df0.columns =['ID','A','City','C','D','E','F','G','H','category','label']\n",
    "label = df0[['ID','label']]\n",
    "df1 = pd.read_csv(\"data/businesses_clean.txt\",sep=\"\\t\")\n",
    "# df1.columns =['ID','NAME','City','C','D','E','F','G','H','category','label']"
   ]
  },
  {
   "cell_type": "code",
   "execution_count": null,
   "metadata": {},
   "outputs": [],
   "source": []
  },
  {
   "cell_type": "code",
   "execution_count": null,
   "metadata": {},
   "outputs": [],
   "source": []
  },
  {
   "cell_type": "code",
   "execution_count": 97,
   "metadata": {},
   "outputs": [],
   "source": [
    "link = pd.merge(df1,label,on='ID')"
   ]
  },
  {
   "cell_type": "code",
   "execution_count": 98,
   "metadata": {},
   "outputs": [],
   "source": [
    "### \n",
    "df = pd.read_csv('/home/lx/DianPing Analysis/data/clean/reviews_1.txt', header=None, sep='\\t',names = ['userid','itemid','time','rate','flavor','environment','service','content','cost','atmosphere'])\n",
    "businesses = pd.read_csv('/home/lx/DianPing Analysis/data/clean/businesses_1.txt', header=None, sep='\\t',names = ['itemid','city','Score','flavor','environment','service','share','cost','style','atmosphere','tags','areas'])\n",
    "share = businesses[['itemid','share']]\n",
    "\n",
    "### 人均消费，分享数，餐厅类型差异\n"
   ]
  },
  {
   "cell_type": "code",
   "execution_count": 99,
   "metadata": {},
   "outputs": [],
   "source": [
    "share_counts= df.loc[:,'itemid'].value_counts()"
   ]
  },
  {
   "cell_type": "code",
   "execution_count": 100,
   "metadata": {},
   "outputs": [],
   "source": [
    "itemid_idx=share_counts.index\n",
    "itemid_value=share_counts.values"
   ]
  },
  {
   "cell_type": "code",
   "execution_count": 101,
   "metadata": {},
   "outputs": [],
   "source": [
    "flow = []\n",
    "for i in range(len(itemid_idx)):\n",
    "    temp=[]\n",
    "    temp.append(itemid_idx[i])\n",
    "    temp.append(itemid_value[i])\n",
    "    flow.append(temp)"
   ]
  },
  {
   "cell_type": "code",
   "execution_count": 102,
   "metadata": {},
   "outputs": [],
   "source": [
    "flow = pd.DataFrame(flow)\n",
    "flow.columns=['ID','FLOW']"
   ]
  },
  {
   "cell_type": "code",
   "execution_count": 103,
   "metadata": {},
   "outputs": [],
   "source": [
    "link2 = pd.merge(link,flow,on='ID')"
   ]
  },
  {
   "cell_type": "code",
   "execution_count": 104,
   "metadata": {},
   "outputs": [
    {
     "data": {
      "text/html": [
       "<div>\n",
       "<style scoped>\n",
       "    .dataframe tbody tr th:only-of-type {\n",
       "        vertical-align: middle;\n",
       "    }\n",
       "\n",
       "    .dataframe tbody tr th {\n",
       "        vertical-align: top;\n",
       "    }\n",
       "\n",
       "    .dataframe thead th {\n",
       "        text-align: right;\n",
       "    }\n",
       "</style>\n",
       "<table border=\"1\" class=\"dataframe\">\n",
       "  <thead>\n",
       "    <tr style=\"text-align: right;\">\n",
       "      <th></th>\n",
       "      <th>ID</th>\n",
       "      <th>NAME</th>\n",
       "      <th>CITY</th>\n",
       "      <th>SCORE</th>\n",
       "      <th>FLAVOR</th>\n",
       "      <th>ENVIRONMENT</th>\n",
       "      <th>SERVICE</th>\n",
       "      <th>SHARE</th>\n",
       "      <th>LAT</th>\n",
       "      <th>LNG</th>\n",
       "      <th>STYLE</th>\n",
       "      <th>COST</th>\n",
       "      <th>label</th>\n",
       "      <th>FLOW</th>\n",
       "    </tr>\n",
       "  </thead>\n",
       "  <tbody>\n",
       "    <tr>\n",
       "      <td>0</td>\n",
       "      <td>1738246</td>\n",
       "      <td>首义园小吃街</td>\n",
       "      <td>16</td>\n",
       "      <td>3.0</td>\n",
       "      <td>15</td>\n",
       "      <td>10</td>\n",
       "      <td>12</td>\n",
       "      <td>18</td>\n",
       "      <td>30.53567</td>\n",
       "      <td>114.30478</td>\n",
       "      <td>小吃</td>\n",
       "      <td>19.0</td>\n",
       "      <td>1</td>\n",
       "      <td>68</td>\n",
       "    </tr>\n",
       "    <tr>\n",
       "      <td>1</td>\n",
       "      <td>1883902</td>\n",
       "      <td>星巴克(东方广场东区店)</td>\n",
       "      <td>2</td>\n",
       "      <td>3.5</td>\n",
       "      <td>20</td>\n",
       "      <td>18</td>\n",
       "      <td>17</td>\n",
       "      <td>13</td>\n",
       "      <td>39.90887</td>\n",
       "      <td>116.41225</td>\n",
       "      <td>星巴克</td>\n",
       "      <td>33.0</td>\n",
       "      <td>1</td>\n",
       "      <td>30</td>\n",
       "    </tr>\n",
       "    <tr>\n",
       "      <td>2</td>\n",
       "      <td>1888231</td>\n",
       "      <td>绿色楼兰</td>\n",
       "      <td>2</td>\n",
       "      <td>4.0</td>\n",
       "      <td>22</td>\n",
       "      <td>19</td>\n",
       "      <td>18</td>\n",
       "      <td>96</td>\n",
       "      <td>40.03395</td>\n",
       "      <td>116.27479</td>\n",
       "      <td>新疆/清真</td>\n",
       "      <td>63.0</td>\n",
       "      <td>1</td>\n",
       "      <td>91</td>\n",
       "    </tr>\n",
       "    <tr>\n",
       "      <td>3</td>\n",
       "      <td>1888990</td>\n",
       "      <td>尹赖仕个旧烧烤鸡脚王(西坝一店)</td>\n",
       "      <td>267</td>\n",
       "      <td>3.5</td>\n",
       "      <td>22</td>\n",
       "      <td>9</td>\n",
       "      <td>14</td>\n",
       "      <td>62</td>\n",
       "      <td>25.03139</td>\n",
       "      <td>102.69261</td>\n",
       "      <td>烧烤</td>\n",
       "      <td>33.0</td>\n",
       "      <td>0</td>\n",
       "      <td>21</td>\n",
       "    </tr>\n",
       "    <tr>\n",
       "      <td>4</td>\n",
       "      <td>1889089</td>\n",
       "      <td>川亿鸡公煲(飞洲店)</td>\n",
       "      <td>1</td>\n",
       "      <td>3.0</td>\n",
       "      <td>16</td>\n",
       "      <td>11</td>\n",
       "      <td>12</td>\n",
       "      <td>13</td>\n",
       "      <td>31.18490</td>\n",
       "      <td>121.44261</td>\n",
       "      <td>川菜</td>\n",
       "      <td>34.0</td>\n",
       "      <td>0</td>\n",
       "      <td>63</td>\n",
       "    </tr>\n",
       "    <tr>\n",
       "      <td>...</td>\n",
       "      <td>...</td>\n",
       "      <td>...</td>\n",
       "      <td>...</td>\n",
       "      <td>...</td>\n",
       "      <td>...</td>\n",
       "      <td>...</td>\n",
       "      <td>...</td>\n",
       "      <td>...</td>\n",
       "      <td>...</td>\n",
       "      <td>...</td>\n",
       "      <td>...</td>\n",
       "      <td>...</td>\n",
       "      <td>...</td>\n",
       "      <td>...</td>\n",
       "    </tr>\n",
       "    <tr>\n",
       "      <td>29233</td>\n",
       "      <td>2355304</td>\n",
       "      <td>苏先生海鲜渔庄(源深体育中心店)</td>\n",
       "      <td>1</td>\n",
       "      <td>3.5</td>\n",
       "      <td>18</td>\n",
       "      <td>18</td>\n",
       "      <td>13</td>\n",
       "      <td>121</td>\n",
       "      <td>31.23055</td>\n",
       "      <td>121.53597</td>\n",
       "      <td>海鲜</td>\n",
       "      <td>113.0</td>\n",
       "      <td>1</td>\n",
       "      <td>100</td>\n",
       "    </tr>\n",
       "    <tr>\n",
       "      <td>29234</td>\n",
       "      <td>2355667</td>\n",
       "      <td>华农大芷园</td>\n",
       "      <td>4</td>\n",
       "      <td>4.0</td>\n",
       "      <td>22</td>\n",
       "      <td>16</td>\n",
       "      <td>15</td>\n",
       "      <td>32</td>\n",
       "      <td>23.15338</td>\n",
       "      <td>113.36597</td>\n",
       "      <td>简餐快餐</td>\n",
       "      <td>5.0</td>\n",
       "      <td>1</td>\n",
       "      <td>69</td>\n",
       "    </tr>\n",
       "    <tr>\n",
       "      <td>29235</td>\n",
       "      <td>2357290</td>\n",
       "      <td>得龙茶楼</td>\n",
       "      <td>1</td>\n",
       "      <td>3.5</td>\n",
       "      <td>17</td>\n",
       "      <td>16</td>\n",
       "      <td>14</td>\n",
       "      <td>39</td>\n",
       "      <td>31.16513</td>\n",
       "      <td>121.43027</td>\n",
       "      <td>茶馆</td>\n",
       "      <td>28.0</td>\n",
       "      <td>0</td>\n",
       "      <td>26</td>\n",
       "    </tr>\n",
       "    <tr>\n",
       "      <td>29236</td>\n",
       "      <td>2358637</td>\n",
       "      <td>真功夫(临沂沃尔玛店)</td>\n",
       "      <td>1</td>\n",
       "      <td>3.0</td>\n",
       "      <td>15</td>\n",
       "      <td>14</td>\n",
       "      <td>14</td>\n",
       "      <td>9</td>\n",
       "      <td>31.20368</td>\n",
       "      <td>121.51824</td>\n",
       "      <td>快餐简餐</td>\n",
       "      <td>26.0</td>\n",
       "      <td>1</td>\n",
       "      <td>52</td>\n",
       "    </tr>\n",
       "    <tr>\n",
       "      <td>29237</td>\n",
       "      <td>2359759</td>\n",
       "      <td>肯德基(浦南店)</td>\n",
       "      <td>1</td>\n",
       "      <td>3.0</td>\n",
       "      <td>16</td>\n",
       "      <td>16</td>\n",
       "      <td>13</td>\n",
       "      <td>7</td>\n",
       "      <td>31.23219</td>\n",
       "      <td>121.51402</td>\n",
       "      <td>快餐简餐</td>\n",
       "      <td>21.0</td>\n",
       "      <td>1</td>\n",
       "      <td>33</td>\n",
       "    </tr>\n",
       "  </tbody>\n",
       "</table>\n",
       "<p>29238 rows × 14 columns</p>\n",
       "</div>"
      ],
      "text/plain": [
       "            ID              NAME  CITY  SCORE  FLAVOR  ENVIRONMENT  SERVICE  \\\n",
       "0      1738246            首义园小吃街    16    3.0      15           10       12   \n",
       "1      1883902      星巴克(东方广场东区店)     2    3.5      20           18       17   \n",
       "2      1888231              绿色楼兰     2    4.0      22           19       18   \n",
       "3      1888990  尹赖仕个旧烧烤鸡脚王(西坝一店)   267    3.5      22            9       14   \n",
       "4      1889089        川亿鸡公煲(飞洲店)     1    3.0      16           11       12   \n",
       "...        ...               ...   ...    ...     ...          ...      ...   \n",
       "29233  2355304  苏先生海鲜渔庄(源深体育中心店)     1    3.5      18           18       13   \n",
       "29234  2355667             华农大芷园     4    4.0      22           16       15   \n",
       "29235  2357290              得龙茶楼     1    3.5      17           16       14   \n",
       "29236  2358637       真功夫(临沂沃尔玛店)     1    3.0      15           14       14   \n",
       "29237  2359759          肯德基(浦南店)     1    3.0      16           16       13   \n",
       "\n",
       "       SHARE       LAT        LNG  STYLE   COST  label  FLOW  \n",
       "0         18  30.53567  114.30478     小吃   19.0      1    68  \n",
       "1         13  39.90887  116.41225    星巴克   33.0      1    30  \n",
       "2         96  40.03395  116.27479  新疆/清真   63.0      1    91  \n",
       "3         62  25.03139  102.69261     烧烤   33.0      0    21  \n",
       "4         13  31.18490  121.44261     川菜   34.0      0    63  \n",
       "...      ...       ...        ...    ...    ...    ...   ...  \n",
       "29233    121  31.23055  121.53597     海鲜  113.0      1   100  \n",
       "29234     32  23.15338  113.36597   简餐快餐    5.0      1    69  \n",
       "29235     39  31.16513  121.43027     茶馆   28.0      0    26  \n",
       "29236      9  31.20368  121.51824   快餐简餐   26.0      1    52  \n",
       "29237      7  31.23219  121.51402   快餐简餐   21.0      1    33  \n",
       "\n",
       "[29238 rows x 14 columns]"
      ]
     },
     "execution_count": 104,
     "metadata": {},
     "output_type": "execute_result"
    }
   ],
   "source": [
    "link2"
   ]
  },
  {
   "cell_type": "code",
   "execution_count": 105,
   "metadata": {},
   "outputs": [],
   "source": [
    "city1 =  link2[link2['CITY']==1]\n",
    "city2 =  link2[link2['CITY']==2]\n",
    "city4 =  link2[link2['CITY']==4]"
   ]
  },
  {
   "cell_type": "code",
   "execution_count": 106,
   "metadata": {},
   "outputs": [
    {
     "data": {
      "text/html": [
       "<div>\n",
       "<style scoped>\n",
       "    .dataframe tbody tr th:only-of-type {\n",
       "        vertical-align: middle;\n",
       "    }\n",
       "\n",
       "    .dataframe tbody tr th {\n",
       "        vertical-align: top;\n",
       "    }\n",
       "\n",
       "    .dataframe thead th {\n",
       "        text-align: right;\n",
       "    }\n",
       "</style>\n",
       "<table border=\"1\" class=\"dataframe\">\n",
       "  <thead>\n",
       "    <tr style=\"text-align: right;\">\n",
       "      <th></th>\n",
       "      <th>ID</th>\n",
       "      <th>CITY</th>\n",
       "      <th>SCORE</th>\n",
       "      <th>FLAVOR</th>\n",
       "      <th>ENVIRONMENT</th>\n",
       "      <th>SERVICE</th>\n",
       "      <th>SHARE</th>\n",
       "      <th>LAT</th>\n",
       "      <th>LNG</th>\n",
       "      <th>COST</th>\n",
       "      <th>label</th>\n",
       "      <th>FLOW</th>\n",
       "    </tr>\n",
       "  </thead>\n",
       "  <tbody>\n",
       "    <tr>\n",
       "      <td>count</td>\n",
       "      <td>2.242000e+03</td>\n",
       "      <td>2242.0</td>\n",
       "      <td>2242.000000</td>\n",
       "      <td>2242.000000</td>\n",
       "      <td>2242.000000</td>\n",
       "      <td>2242.000000</td>\n",
       "      <td>2242.000000</td>\n",
       "      <td>2242.000000</td>\n",
       "      <td>2242.000000</td>\n",
       "      <td>2242.000000</td>\n",
       "      <td>2242.000000</td>\n",
       "      <td>2242.000000</td>\n",
       "    </tr>\n",
       "    <tr>\n",
       "      <td>mean</td>\n",
       "      <td>2.727783e+06</td>\n",
       "      <td>4.0</td>\n",
       "      <td>3.335192</td>\n",
       "      <td>16.687333</td>\n",
       "      <td>14.153434</td>\n",
       "      <td>13.511597</td>\n",
       "      <td>31.393845</td>\n",
       "      <td>46.221169</td>\n",
       "      <td>134.250221</td>\n",
       "      <td>47.766280</td>\n",
       "      <td>0.724799</td>\n",
       "      <td>38.766280</td>\n",
       "    </tr>\n",
       "    <tr>\n",
       "      <td>std</td>\n",
       "      <td>1.752236e+06</td>\n",
       "      <td>0.0</td>\n",
       "      <td>1.328531</td>\n",
       "      <td>6.658691</td>\n",
       "      <td>6.627031</td>\n",
       "      <td>5.847771</td>\n",
       "      <td>95.681429</td>\n",
       "      <td>148.443540</td>\n",
       "      <td>134.746945</td>\n",
       "      <td>44.821215</td>\n",
       "      <td>0.446715</td>\n",
       "      <td>31.008049</td>\n",
       "    </tr>\n",
       "    <tr>\n",
       "      <td>min</td>\n",
       "      <td>5.166700e+05</td>\n",
       "      <td>4.0</td>\n",
       "      <td>0.000000</td>\n",
       "      <td>0.000000</td>\n",
       "      <td>0.000000</td>\n",
       "      <td>0.000000</td>\n",
       "      <td>0.000000</td>\n",
       "      <td>12.958570</td>\n",
       "      <td>63.451320</td>\n",
       "      <td>0.000000</td>\n",
       "      <td>0.000000</td>\n",
       "      <td>1.000000</td>\n",
       "    </tr>\n",
       "    <tr>\n",
       "      <td>25%</td>\n",
       "      <td>5.217498e+05</td>\n",
       "      <td>4.0</td>\n",
       "      <td>3.000000</td>\n",
       "      <td>16.000000</td>\n",
       "      <td>12.000000</td>\n",
       "      <td>12.000000</td>\n",
       "      <td>0.000000</td>\n",
       "      <td>23.114292</td>\n",
       "      <td>113.267900</td>\n",
       "      <td>24.000000</td>\n",
       "      <td>0.000000</td>\n",
       "      <td>14.000000</td>\n",
       "    </tr>\n",
       "    <tr>\n",
       "      <td>50%</td>\n",
       "      <td>2.584516e+06</td>\n",
       "      <td>4.0</td>\n",
       "      <td>4.000000</td>\n",
       "      <td>18.000000</td>\n",
       "      <td>15.000000</td>\n",
       "      <td>14.000000</td>\n",
       "      <td>0.000000</td>\n",
       "      <td>23.125680</td>\n",
       "      <td>113.292620</td>\n",
       "      <td>42.000000</td>\n",
       "      <td>1.000000</td>\n",
       "      <td>30.000000</td>\n",
       "    </tr>\n",
       "    <tr>\n",
       "      <td>75%</td>\n",
       "      <td>4.282296e+06</td>\n",
       "      <td>4.0</td>\n",
       "      <td>4.000000</td>\n",
       "      <td>21.000000</td>\n",
       "      <td>18.000000</td>\n",
       "      <td>17.000000</td>\n",
       "      <td>22.000000</td>\n",
       "      <td>23.135380</td>\n",
       "      <td>113.326600</td>\n",
       "      <td>58.000000</td>\n",
       "      <td>1.000000</td>\n",
       "      <td>59.000000</td>\n",
       "    </tr>\n",
       "    <tr>\n",
       "      <td>max</td>\n",
       "      <td>5.587628e+06</td>\n",
       "      <td>4.0</td>\n",
       "      <td>5.000000</td>\n",
       "      <td>28.000000</td>\n",
       "      <td>31.000000</td>\n",
       "      <td>30.000000</td>\n",
       "      <td>1986.000000</td>\n",
       "      <td>1000.000000</td>\n",
       "      <td>1000.000000</td>\n",
       "      <td>804.000000</td>\n",
       "      <td>1.000000</td>\n",
       "      <td>141.000000</td>\n",
       "    </tr>\n",
       "  </tbody>\n",
       "</table>\n",
       "</div>"
      ],
      "text/plain": [
       "                 ID    CITY        SCORE       FLAVOR  ENVIRONMENT  \\\n",
       "count  2.242000e+03  2242.0  2242.000000  2242.000000  2242.000000   \n",
       "mean   2.727783e+06     4.0     3.335192    16.687333    14.153434   \n",
       "std    1.752236e+06     0.0     1.328531     6.658691     6.627031   \n",
       "min    5.166700e+05     4.0     0.000000     0.000000     0.000000   \n",
       "25%    5.217498e+05     4.0     3.000000    16.000000    12.000000   \n",
       "50%    2.584516e+06     4.0     4.000000    18.000000    15.000000   \n",
       "75%    4.282296e+06     4.0     4.000000    21.000000    18.000000   \n",
       "max    5.587628e+06     4.0     5.000000    28.000000    31.000000   \n",
       "\n",
       "           SERVICE        SHARE          LAT          LNG         COST  \\\n",
       "count  2242.000000  2242.000000  2242.000000  2242.000000  2242.000000   \n",
       "mean     13.511597    31.393845    46.221169   134.250221    47.766280   \n",
       "std       5.847771    95.681429   148.443540   134.746945    44.821215   \n",
       "min       0.000000     0.000000    12.958570    63.451320     0.000000   \n",
       "25%      12.000000     0.000000    23.114292   113.267900    24.000000   \n",
       "50%      14.000000     0.000000    23.125680   113.292620    42.000000   \n",
       "75%      17.000000    22.000000    23.135380   113.326600    58.000000   \n",
       "max      30.000000  1986.000000  1000.000000  1000.000000   804.000000   \n",
       "\n",
       "             label         FLOW  \n",
       "count  2242.000000  2242.000000  \n",
       "mean      0.724799    38.766280  \n",
       "std       0.446715    31.008049  \n",
       "min       0.000000     1.000000  \n",
       "25%       0.000000    14.000000  \n",
       "50%       1.000000    30.000000  \n",
       "75%       1.000000    59.000000  \n",
       "max       1.000000   141.000000  "
      ]
     },
     "execution_count": 106,
     "metadata": {},
     "output_type": "execute_result"
    }
   ],
   "source": [
    "city4.describe()"
   ]
  },
  {
   "cell_type": "code",
   "execution_count": 107,
   "metadata": {},
   "outputs": [
    {
     "data": {
      "text/html": [
       "<div>\n",
       "<style scoped>\n",
       "    .dataframe tbody tr th:only-of-type {\n",
       "        vertical-align: middle;\n",
       "    }\n",
       "\n",
       "    .dataframe tbody tr th {\n",
       "        vertical-align: top;\n",
       "    }\n",
       "\n",
       "    .dataframe thead th {\n",
       "        text-align: right;\n",
       "    }\n",
       "</style>\n",
       "<table border=\"1\" class=\"dataframe\">\n",
       "  <thead>\n",
       "    <tr style=\"text-align: right;\">\n",
       "      <th></th>\n",
       "      <th>ID</th>\n",
       "      <th>CITY</th>\n",
       "      <th>SCORE</th>\n",
       "      <th>FLAVOR</th>\n",
       "      <th>ENVIRONMENT</th>\n",
       "      <th>SERVICE</th>\n",
       "      <th>SHARE</th>\n",
       "      <th>LAT</th>\n",
       "      <th>LNG</th>\n",
       "      <th>COST</th>\n",
       "      <th>label</th>\n",
       "      <th>FLOW</th>\n",
       "    </tr>\n",
       "  </thead>\n",
       "  <tbody>\n",
       "    <tr>\n",
       "      <td>count</td>\n",
       "      <td>8.476000e+03</td>\n",
       "      <td>8476.0</td>\n",
       "      <td>8476.000000</td>\n",
       "      <td>8476.000000</td>\n",
       "      <td>8476.000000</td>\n",
       "      <td>8476.000000</td>\n",
       "      <td>8476.000000</td>\n",
       "      <td>8476.000000</td>\n",
       "      <td>8476.000000</td>\n",
       "      <td>8476.000000</td>\n",
       "      <td>8476.000000</td>\n",
       "      <td>8476.000000</td>\n",
       "    </tr>\n",
       "    <tr>\n",
       "      <td>mean</td>\n",
       "      <td>2.777838e+06</td>\n",
       "      <td>2.0</td>\n",
       "      <td>3.247227</td>\n",
       "      <td>18.096154</td>\n",
       "      <td>15.535040</td>\n",
       "      <td>15.243983</td>\n",
       "      <td>58.035984</td>\n",
       "      <td>57.227115</td>\n",
       "      <td>137.163934</td>\n",
       "      <td>62.766871</td>\n",
       "      <td>0.731123</td>\n",
       "      <td>45.025366</td>\n",
       "    </tr>\n",
       "    <tr>\n",
       "      <td>std</td>\n",
       "      <td>1.593232e+06</td>\n",
       "      <td>0.0</td>\n",
       "      <td>1.212530</td>\n",
       "      <td>6.324431</td>\n",
       "      <td>6.404945</td>\n",
       "      <td>5.818346</td>\n",
       "      <td>210.370045</td>\n",
       "      <td>270.362280</td>\n",
       "      <td>263.804075</td>\n",
       "      <td>84.294921</td>\n",
       "      <td>0.443402</td>\n",
       "      <td>34.563465</td>\n",
       "    </tr>\n",
       "    <tr>\n",
       "      <td>min</td>\n",
       "      <td>5.075390e+05</td>\n",
       "      <td>2.0</td>\n",
       "      <td>0.000000</td>\n",
       "      <td>0.000000</td>\n",
       "      <td>0.000000</td>\n",
       "      <td>0.000000</td>\n",
       "      <td>0.000000</td>\n",
       "      <td>-21424.418830</td>\n",
       "      <td>115.626530</td>\n",
       "      <td>0.000000</td>\n",
       "      <td>0.000000</td>\n",
       "      <td>1.000000</td>\n",
       "    </tr>\n",
       "    <tr>\n",
       "      <td>25%</td>\n",
       "      <td>1.923111e+06</td>\n",
       "      <td>2.0</td>\n",
       "      <td>3.000000</td>\n",
       "      <td>17.000000</td>\n",
       "      <td>13.000000</td>\n",
       "      <td>14.000000</td>\n",
       "      <td>0.000000</td>\n",
       "      <td>39.908027</td>\n",
       "      <td>116.341962</td>\n",
       "      <td>26.000000</td>\n",
       "      <td>0.000000</td>\n",
       "      <td>15.000000</td>\n",
       "    </tr>\n",
       "    <tr>\n",
       "      <td>50%</td>\n",
       "      <td>2.689204e+06</td>\n",
       "      <td>2.0</td>\n",
       "      <td>3.500000</td>\n",
       "      <td>19.000000</td>\n",
       "      <td>16.000000</td>\n",
       "      <td>16.000000</td>\n",
       "      <td>0.000000</td>\n",
       "      <td>39.934460</td>\n",
       "      <td>116.407165</td>\n",
       "      <td>47.000000</td>\n",
       "      <td>1.000000</td>\n",
       "      <td>36.000000</td>\n",
       "    </tr>\n",
       "    <tr>\n",
       "      <td>75%</td>\n",
       "      <td>4.119384e+06</td>\n",
       "      <td>2.0</td>\n",
       "      <td>4.000000</td>\n",
       "      <td>22.000000</td>\n",
       "      <td>19.000000</td>\n",
       "      <td>18.000000</td>\n",
       "      <td>25.000000</td>\n",
       "      <td>39.973600</td>\n",
       "      <td>116.454850</td>\n",
       "      <td>68.000000</td>\n",
       "      <td>1.000000</td>\n",
       "      <td>75.000000</td>\n",
       "    </tr>\n",
       "    <tr>\n",
       "      <td>max</td>\n",
       "      <td>5.590041e+06</td>\n",
       "      <td>2.0</td>\n",
       "      <td>5.000000</td>\n",
       "      <td>29.000000</td>\n",
       "      <td>33.000000</td>\n",
       "      <td>32.000000</td>\n",
       "      <td>5492.000000</td>\n",
       "      <td>1000.000000</td>\n",
       "      <td>21489.752830</td>\n",
       "      <td>2916.000000</td>\n",
       "      <td>1.000000</td>\n",
       "      <td>193.000000</td>\n",
       "    </tr>\n",
       "  </tbody>\n",
       "</table>\n",
       "</div>"
      ],
      "text/plain": [
       "                 ID    CITY        SCORE       FLAVOR  ENVIRONMENT  \\\n",
       "count  8.476000e+03  8476.0  8476.000000  8476.000000  8476.000000   \n",
       "mean   2.777838e+06     2.0     3.247227    18.096154    15.535040   \n",
       "std    1.593232e+06     0.0     1.212530     6.324431     6.404945   \n",
       "min    5.075390e+05     2.0     0.000000     0.000000     0.000000   \n",
       "25%    1.923111e+06     2.0     3.000000    17.000000    13.000000   \n",
       "50%    2.689204e+06     2.0     3.500000    19.000000    16.000000   \n",
       "75%    4.119384e+06     2.0     4.000000    22.000000    19.000000   \n",
       "max    5.590041e+06     2.0     5.000000    29.000000    33.000000   \n",
       "\n",
       "           SERVICE        SHARE           LAT           LNG         COST  \\\n",
       "count  8476.000000  8476.000000   8476.000000   8476.000000  8476.000000   \n",
       "mean     15.243983    58.035984     57.227115    137.163934    62.766871   \n",
       "std       5.818346   210.370045    270.362280    263.804075    84.294921   \n",
       "min       0.000000     0.000000 -21424.418830    115.626530     0.000000   \n",
       "25%      14.000000     0.000000     39.908027    116.341962    26.000000   \n",
       "50%      16.000000     0.000000     39.934460    116.407165    47.000000   \n",
       "75%      18.000000    25.000000     39.973600    116.454850    68.000000   \n",
       "max      32.000000  5492.000000   1000.000000  21489.752830  2916.000000   \n",
       "\n",
       "             label         FLOW  \n",
       "count  8476.000000  8476.000000  \n",
       "mean      0.731123    45.025366  \n",
       "std       0.443402    34.563465  \n",
       "min       0.000000     1.000000  \n",
       "25%       0.000000    15.000000  \n",
       "50%       1.000000    36.000000  \n",
       "75%       1.000000    75.000000  \n",
       "max       1.000000   193.000000  "
      ]
     },
     "execution_count": 107,
     "metadata": {},
     "output_type": "execute_result"
    }
   ],
   "source": [
    "city2.describe() \n",
    "# city1.describe()"
   ]
  },
  {
   "cell_type": "code",
   "execution_count": 108,
   "metadata": {},
   "outputs": [
    {
     "data": {
      "text/html": [
       "<div>\n",
       "<style scoped>\n",
       "    .dataframe tbody tr th:only-of-type {\n",
       "        vertical-align: middle;\n",
       "    }\n",
       "\n",
       "    .dataframe tbody tr th {\n",
       "        vertical-align: top;\n",
       "    }\n",
       "\n",
       "    .dataframe thead th {\n",
       "        text-align: right;\n",
       "    }\n",
       "</style>\n",
       "<table border=\"1\" class=\"dataframe\">\n",
       "  <thead>\n",
       "    <tr style=\"text-align: right;\">\n",
       "      <th></th>\n",
       "      <th>ID</th>\n",
       "      <th>CITY</th>\n",
       "      <th>SCORE</th>\n",
       "      <th>FLAVOR</th>\n",
       "      <th>ENVIRONMENT</th>\n",
       "      <th>SERVICE</th>\n",
       "      <th>SHARE</th>\n",
       "      <th>LAT</th>\n",
       "      <th>LNG</th>\n",
       "      <th>COST</th>\n",
       "      <th>label</th>\n",
       "      <th>FLOW</th>\n",
       "    </tr>\n",
       "  </thead>\n",
       "  <tbody>\n",
       "    <tr>\n",
       "      <td>count</td>\n",
       "      <td>1.150800e+04</td>\n",
       "      <td>11508.0</td>\n",
       "      <td>11508.000000</td>\n",
       "      <td>11508.000000</td>\n",
       "      <td>11508.000000</td>\n",
       "      <td>11508.000000</td>\n",
       "      <td>11508.000000</td>\n",
       "      <td>11508.000000</td>\n",
       "      <td>11508.000000</td>\n",
       "      <td>11508.000000</td>\n",
       "      <td>11508.000000</td>\n",
       "      <td>11508.000000</td>\n",
       "    </tr>\n",
       "    <tr>\n",
       "      <td>mean</td>\n",
       "      <td>3.096436e+06</td>\n",
       "      <td>1.0</td>\n",
       "      <td>3.249609</td>\n",
       "      <td>17.127216</td>\n",
       "      <td>14.295707</td>\n",
       "      <td>14.280327</td>\n",
       "      <td>88.604623</td>\n",
       "      <td>44.421780</td>\n",
       "      <td>136.975765</td>\n",
       "      <td>60.521203</td>\n",
       "      <td>0.666840</td>\n",
       "      <td>50.548575</td>\n",
       "    </tr>\n",
       "    <tr>\n",
       "      <td>std</td>\n",
       "      <td>1.575184e+06</td>\n",
       "      <td>0.0</td>\n",
       "      <td>1.204235</td>\n",
       "      <td>6.022767</td>\n",
       "      <td>5.986041</td>\n",
       "      <td>5.517392</td>\n",
       "      <td>395.895990</td>\n",
       "      <td>233.290597</td>\n",
       "      <td>226.791014</td>\n",
       "      <td>83.497613</td>\n",
       "      <td>0.471364</td>\n",
       "      <td>39.793787</td>\n",
       "    </tr>\n",
       "    <tr>\n",
       "      <td>min</td>\n",
       "      <td>5.000000e+05</td>\n",
       "      <td>1.0</td>\n",
       "      <td>0.000000</td>\n",
       "      <td>0.000000</td>\n",
       "      <td>0.000000</td>\n",
       "      <td>0.000000</td>\n",
       "      <td>0.000000</td>\n",
       "      <td>-21422.699160</td>\n",
       "      <td>94.394530</td>\n",
       "      <td>0.000000</td>\n",
       "      <td>0.000000</td>\n",
       "      <td>1.000000</td>\n",
       "    </tr>\n",
       "    <tr>\n",
       "      <td>25%</td>\n",
       "      <td>2.069564e+06</td>\n",
       "      <td>1.0</td>\n",
       "      <td>3.000000</td>\n",
       "      <td>16.000000</td>\n",
       "      <td>12.000000</td>\n",
       "      <td>13.000000</td>\n",
       "      <td>0.000000</td>\n",
       "      <td>31.195170</td>\n",
       "      <td>121.418910</td>\n",
       "      <td>17.000000</td>\n",
       "      <td>0.000000</td>\n",
       "      <td>15.000000</td>\n",
       "    </tr>\n",
       "    <tr>\n",
       "      <td>50%</td>\n",
       "      <td>3.046280e+06</td>\n",
       "      <td>1.0</td>\n",
       "      <td>3.500000</td>\n",
       "      <td>18.000000</td>\n",
       "      <td>14.000000</td>\n",
       "      <td>15.000000</td>\n",
       "      <td>0.000000</td>\n",
       "      <td>31.223965</td>\n",
       "      <td>121.460040</td>\n",
       "      <td>40.000000</td>\n",
       "      <td>1.000000</td>\n",
       "      <td>40.000000</td>\n",
       "    </tr>\n",
       "    <tr>\n",
       "      <td>75%</td>\n",
       "      <td>4.511322e+06</td>\n",
       "      <td>1.0</td>\n",
       "      <td>4.000000</td>\n",
       "      <td>20.000000</td>\n",
       "      <td>18.000000</td>\n",
       "      <td>17.000000</td>\n",
       "      <td>24.000000</td>\n",
       "      <td>31.250400</td>\n",
       "      <td>121.499705</td>\n",
       "      <td>70.000000</td>\n",
       "      <td>1.000000</td>\n",
       "      <td>92.000000</td>\n",
       "    </tr>\n",
       "    <tr>\n",
       "      <td>max</td>\n",
       "      <td>5.589089e+06</td>\n",
       "      <td>1.0</td>\n",
       "      <td>5.000000</td>\n",
       "      <td>30.000000</td>\n",
       "      <td>32.000000</td>\n",
       "      <td>34.000000</td>\n",
       "      <td>10054.000000</td>\n",
       "      <td>1000.000000</td>\n",
       "      <td>21486.490290</td>\n",
       "      <td>1284.000000</td>\n",
       "      <td>1.000000</td>\n",
       "      <td>226.000000</td>\n",
       "    </tr>\n",
       "  </tbody>\n",
       "</table>\n",
       "</div>"
      ],
      "text/plain": [
       "                 ID     CITY         SCORE        FLAVOR   ENVIRONMENT  \\\n",
       "count  1.150800e+04  11508.0  11508.000000  11508.000000  11508.000000   \n",
       "mean   3.096436e+06      1.0      3.249609     17.127216     14.295707   \n",
       "std    1.575184e+06      0.0      1.204235      6.022767      5.986041   \n",
       "min    5.000000e+05      1.0      0.000000      0.000000      0.000000   \n",
       "25%    2.069564e+06      1.0      3.000000     16.000000     12.000000   \n",
       "50%    3.046280e+06      1.0      3.500000     18.000000     14.000000   \n",
       "75%    4.511322e+06      1.0      4.000000     20.000000     18.000000   \n",
       "max    5.589089e+06      1.0      5.000000     30.000000     32.000000   \n",
       "\n",
       "            SERVICE         SHARE           LAT           LNG          COST  \\\n",
       "count  11508.000000  11508.000000  11508.000000  11508.000000  11508.000000   \n",
       "mean      14.280327     88.604623     44.421780    136.975765     60.521203   \n",
       "std        5.517392    395.895990    233.290597    226.791014     83.497613   \n",
       "min        0.000000      0.000000 -21422.699160     94.394530      0.000000   \n",
       "25%       13.000000      0.000000     31.195170    121.418910     17.000000   \n",
       "50%       15.000000      0.000000     31.223965    121.460040     40.000000   \n",
       "75%       17.000000     24.000000     31.250400    121.499705     70.000000   \n",
       "max       34.000000  10054.000000   1000.000000  21486.490290   1284.000000   \n",
       "\n",
       "              label          FLOW  \n",
       "count  11508.000000  11508.000000  \n",
       "mean       0.666840     50.548575  \n",
       "std        0.471364     39.793787  \n",
       "min        0.000000      1.000000  \n",
       "25%        0.000000     15.000000  \n",
       "50%        1.000000     40.000000  \n",
       "75%        1.000000     92.000000  \n",
       "max        1.000000    226.000000  "
      ]
     },
     "execution_count": 108,
     "metadata": {},
     "output_type": "execute_result"
    }
   ],
   "source": [
    "city1.describe()"
   ]
  },
  {
   "cell_type": "code",
   "execution_count": 109,
   "metadata": {},
   "outputs": [],
   "source": [
    "def get_flow_count(city):\n",
    "    flow = city[['FLOW']]\n",
    "#     print(flow)\n",
    "    dic = {}\n",
    "    for index, row in flow.iterrows():\n",
    "        line = row['FLOW']\n",
    "        if line not in dic:\n",
    "            dic[line] = 1\n",
    "        else :\n",
    "            dic[line] += 1\n",
    "    X,Y = dic.keys(), dic.values()\n",
    "    return list(X),list(Y)"
   ]
  },
  {
   "cell_type": "code",
   "execution_count": null,
   "metadata": {},
   "outputs": [],
   "source": []
  },
  {
   "cell_type": "code",
   "execution_count": 110,
   "metadata": {},
   "outputs": [],
   "source": [
    "x0,y0 = get_flow_count(link2)\n",
    "x1,y1 = get_flow_count(city1)\n",
    "x2,y2 = get_flow_count(city2)\n",
    "x4,y4 = get_flow_count(city4)\n",
    "#\n",
    "# list(x1)"
   ]
  },
  {
   "cell_type": "code",
   "execution_count": 111,
   "metadata": {},
   "outputs": [],
   "source": [
    "#### 评论数量"
   ]
  },
  {
   "cell_type": "code",
   "execution_count": 112,
   "metadata": {},
   "outputs": [
    {
     "name": "stderr",
     "output_type": "stream",
     "text": [
      "No handles with labels found to put in legend.\n"
     ]
    },
    {
     "data": {
      "image/png": "[encoded data removed]",
      "text/plain": [
       "<Figure size 1080x288 with 1 Axes>"
      ]
     },
     "metadata": {
      "needs_background": "light"
     },
     "output_type": "display_data"
    }
   ],
   "source": [
    "plt.figure(figsize=(15,4))\n",
    "plt.scatter(x0, y0, marker='o')\n",
    "plt.scatter(x1, y1, marker='o')\n",
    "plt.scatter(x2, y2, marker='o')\n",
    "plt.scatter(x4, y4, marker='o')\n",
    "\n",
    "plt.xlabel('Number of reviews',fontsize=20)\n",
    "plt.ylabel('Number of restaurants',fontsize=20)\n",
    "\n",
    "plt.xticks(fontsize=15)\n",
    "\n",
    "plt.yticks(fontsize=15)\n",
    "\n",
    "plt.legend(fontsize=15)\n",
    "plt.show()\n",
    "\n",
    "# plt.savefig(\"figure/dianping_category.png\",dpi=600)"
   ]
  },
  {
   "cell_type": "code",
   "execution_count": 113,
   "metadata": {},
   "outputs": [],
   "source": [
    "#### 分享数量"
   ]
  },
  {
   "cell_type": "code",
   "execution_count": 114,
   "metadata": {},
   "outputs": [],
   "source": [
    "def get_share_count(city):\n",
    "    flow = city[['SHARE']]\n",
    "#     print(flow)\n",
    "    dic = {}\n",
    "    for index, row in flow.iterrows():\n",
    "        line = row['SHARE']\n",
    "        if line not in dic:\n",
    "            dic[line] = 1\n",
    "        else :\n",
    "            dic[line] += 1\n",
    "    X,Y = dic.keys(), dic.values()\n",
    "    del(dic[0])\n",
    "    return list(X),list(Y)"
   ]
  },
  {
   "cell_type": "code",
   "execution_count": 115,
   "metadata": {},
   "outputs": [],
   "source": [
    "x0,y0 = get_share_count(link2)\n",
    "x1,y1 = get_share_count(city1)\n",
    "x2,y2 = get_share_count(city2)\n",
    "x4,y4 = get_share_count(city4)"
   ]
  },
  {
   "cell_type": "code",
   "execution_count": 116,
   "metadata": {},
   "outputs": [
    {
     "name": "stderr",
     "output_type": "stream",
     "text": [
      "No handles with labels found to put in legend.\n"
     ]
    },
    {
     "data": {
      "image/png": "[encoded data removed]",
      "text/plain": [
       "<Figure size 1080x288 with 1 Axes>"
      ]
     },
     "metadata": {
      "needs_background": "light"
     },
     "output_type": "display_data"
    }
   ],
   "source": [
    "plt.figure(figsize=(15,4))\n",
    "plt.scatter(x0, y0, marker='o')\n",
    "plt.scatter(x1, y1, marker='o')\n",
    "plt.scatter(x2, y2, marker='o')\n",
    "plt.scatter(x4, y4, marker='o')\n",
    "\n",
    "plt.xlabel('Number of share',fontsize=20)\n",
    "plt.ylabel('Number of restaurants',fontsize=20)\n",
    "\n",
    "plt.xticks(fontsize=15)\n",
    "\n",
    "plt.yticks(fontsize=15)\n",
    "\n",
    "plt.legend(fontsize=15)\n",
    "plt.show()"
   ]
  },
  {
   "cell_type": "code",
   "execution_count": 117,
   "metadata": {},
   "outputs": [
    {
     "data": {
      "text/plain": [
       "array([11508,  8476,  2242,  1054,   768,   547,   424,   417,   396,\n",
       "         359,   357,   347,   233,   229,   227,   205,   157,   143,\n",
       "         137,   119,    84,    73,    70,    51,    49,    44,    44,\n",
       "          42,    31,    29,    25,    24,    24,    24,    24,    22,\n",
       "          18,    17,    14,    12,     8,     7,     7,     7,     7,\n",
       "           6,     6,     5,     5,     5,     5,     4,     4,     4,\n",
       "           4,     4,     4,     4,     4,     4,     3,     3,     3,\n",
       "           3,     3,     3,     3,     3,     3,     2,     2,     2,\n",
       "           2,     2,     2,     2,     2,     2,     2,     2,     1,\n",
       "           1,     1,     1,     1,     1,     1,     1,     1,     1,\n",
       "           1,     1,     1,     1,     1,     1,     1,     1,     1])"
      ]
     },
     "execution_count": 117,
     "metadata": {},
     "output_type": "execute_result"
    }
   ],
   "source": [
    "link2['CITY'].value_counts().values"
   ]
  },
  {
   "cell_type": "code",
   "execution_count": 139,
   "metadata": {},
   "outputs": [
    {
     "data": {
      "text/plain": [
       "[63.52,\n",
       " 40.791666666666664,\n",
       " 45.25,\n",
       " 58.041666666666664,\n",
       " 51.541666666666664,\n",
       " 48.72727272727273,\n",
       " 35.05555555555556,\n",
       " 29.470588235294116,\n",
       " 32.42857142857143,\n",
       " 59.333333333333336]"
      ]
     },
     "execution_count": 139,
     "metadata": {},
     "output_type": "execute_result"
    }
   ],
   "source": [
    "low3040city =  link2['CITY'].value_counts().index[30:40]\n",
    "low3040 = link2['CITY'].value_counts().values[30:40]\n",
    "low3040_cost = []\n",
    "for i in low3040city:\n",
    "    t = get_city_cost_mean(i)\n",
    "    low3040_cost.append(t)\n",
    "low3040_cost"
   ]
  },
  {
   "cell_type": "code",
   "execution_count": 136,
   "metadata": {},
   "outputs": [
    {
     "data": {
      "text/plain": [
       "array([25, 24, 24, 24, 24, 22, 18, 17, 14, 12])"
      ]
     },
     "execution_count": 136,
     "metadata": {},
     "output_type": "execute_result"
    }
   ],
   "source": []
  },
  {
   "cell_type": "code",
   "execution_count": 140,
   "metadata": {},
   "outputs": [],
   "source": [
    "#### 消费 , 更高的人均消费，更低的倒闭率\n",
    "top5_city = link2['CITY'].value_counts().index[:10]\n",
    "low5_city = link2['CITY'].value_counts().index[30:40]\n",
    "top5 = link2['CITY'].value_counts().values[:10]\n",
    "low5 = link2['CITY'].value_counts().values[30:40]\n",
    "top5_cost = []\n",
    "for i in top5_city:\n",
    "    t = get_city_cost_mean(i)\n",
    "    top5_cost.append(t)\n",
    "\n",
    "low5_cost = []\n",
    "for i in low5_city:\n",
    "    t = get_city_cost_mean(i)\n",
    "    low5_cost.append(t)\n"
   ]
  },
  {
   "cell_type": "code",
   "execution_count": 121,
   "metadata": {},
   "outputs": [],
   "source": [
    "def get_city_cost_mean(city):\n",
    "    t = link2[link2['CITY']==city]['COST'].mean()\n",
    "    return t\n",
    "    "
   ]
  },
  {
   "cell_type": "code",
   "execution_count": 122,
   "metadata": {},
   "outputs": [],
   "source": [
    "\n",
    "# low1010_cost = []\n",
    "# for i in low3040city:\n",
    "#     t = get_city_cost_mean(i)\n",
    "#     low1010_cost.append(t)"
   ]
  },
  {
   "cell_type": "code",
   "execution_count": 143,
   "metadata": {},
   "outputs": [
    {
     "data": {
      "image/png": "[encoded data removed]",
      "text/plain": [
       "<Figure size 1080x288 with 1 Axes>"
      ]
     },
     "metadata": {
      "needs_background": "light"
     },
     "output_type": "display_data"
    },
    {
     "data": {
      "text/plain": [
       "<Figure size 432x288 with 0 Axes>"
      ]
     },
     "metadata": {},
     "output_type": "display_data"
    }
   ],
   "source": [
    "plt.figure(figsize=(15,4))\n",
    "X0 = ['1','2','3','4','5','6','7','8','9','10']\n",
    "plt.plot(X0, top5_cost, marker='o',mfc='w',label=\"Top10\")\n",
    "plt.plot(X0, low5_cost, marker='o',mfc='w',label=\"Low10\")\n",
    "plt.xlabel('Ranking',fontsize=20)\n",
    "plt.ylabel('Per capita consumption',fontsize=20)\n",
    "\n",
    "# def to_percent(temp, position):\n",
    "#     return '%1.0f'%(100*temp) + '%'\n",
    "# plt.gca().yaxis.set_major_formatter(FuncFormatter(to_percent))\n",
    "\n",
    "plt.xticks(fontsize=15)\n",
    "\n",
    "plt.yticks(fontsize=15)\n",
    "\n",
    "plt.legend(fontsize=15)\n",
    "plt.show()\n",
    "\n",
    "plt.savefig(\"figure/dianping_category.png\",dpi=600)"
   ]
  },
  {
   "cell_type": "code",
   "execution_count": 131,
   "metadata": {},
   "outputs": [
    {
     "data": {
      "text/plain": [
       "[60.5212026416406,\n",
       " 62.76687116564417,\n",
       " 47.76628010704728,\n",
       " 51.22770398481973,\n",
       " 50.13671875]"
      ]
     },
     "execution_count": 131,
     "metadata": {},
     "output_type": "execute_result"
    }
   ],
   "source": [
    "top5_cost"
   ]
  },
  {
   "cell_type": "code",
   "execution_count": 132,
   "metadata": {},
   "outputs": [
    {
     "data": {
      "text/plain": [
       "[52.678048780487806,\n",
       " 42.70700636942675,\n",
       " 50.91608391608391,\n",
       " 49.09489051094891,\n",
       " 52.94957983193277]"
      ]
     },
     "execution_count": 132,
     "metadata": {},
     "output_type": "execute_result"
    }
   ],
   "source": [
    "low5_cost"
   ]
  },
  {
   "cell_type": "code",
   "execution_count": 126,
   "metadata": {},
   "outputs": [
    {
     "ename": "NameError",
     "evalue": "name 'Top5' is not defined",
     "output_type": "error",
     "traceback": [
      "\u001b[0;31m---------------------------------------------------------------------------\u001b[0m",
      "\u001b[0;31mNameError\u001b[0m                                 Traceback (most recent call last)",
      "\u001b[0;32m<ipython-input-126-a984b89acabc>\u001b[0m in \u001b[0;36m<module>\u001b[0;34m\u001b[0m\n\u001b[1;32m      1\u001b[0m \u001b[0;31m### 大城市和小城市城市的倒闭率\u001b[0m\u001b[0;34m\u001b[0m\u001b[0;34m\u001b[0m\u001b[0;34m\u001b[0m\u001b[0m\n\u001b[0;32m----> 2\u001b[0;31m \u001b[0mTop5\u001b[0m\u001b[0;34m,\u001b[0m\u001b[0mTop5\u001b[0m\u001b[0;34m\u001b[0m\u001b[0;34m\u001b[0m\u001b[0m\n\u001b[0m",
      "\u001b[0;31mNameError\u001b[0m: name 'Top5' is not defined"
     ]
    }
   ],
   "source": [
    "# ### 大城市和小城市城市的倒闭率\n",
    "# Top5,Top5"
   ]
  },
  {
   "cell_type": "code",
   "execution_count": null,
   "metadata": {},
   "outputs": [],
   "source": [
    "# label = pd.read_csv(\"/home/lx/CAML_Work/restaurant/restaurant_info/data/businesses_label.txt\",sep=\"\\t\",header=None)\n",
    "# category = pd.read_csv(\"/home/lx/DianPing Analysis/data/clean/businesses_style.txt\",sep=\"\\t\",header=None)\n",
    "# label.columns =['itemid','A','City','C','D','E','F','G','H','category','label']\n",
    "# category.columns=['itemid','category']"
   ]
  },
  {
   "cell_type": "code",
   "execution_count": null,
   "metadata": {},
   "outputs": [],
   "source": [
    "# style = pd.read_csv(\"/home/lx/DianPing Analysis/data/clean/businesses_style.txt\",sep=\"\\t\",header=None)\n",
    "# share = pd.read_csv(\"/home/lx/DianPing Analysis/data/clean/businesses_share.txt\",sep=\"\\t\",header=None)\n",
    "# rating = pd.read_csv(\"/home/lx/DianPing Analysis/data/clean/businesses_rating.txt\",sep=\"\\t\",header=None)\n",
    "# flow = pd.read_csv(\"/home/lx/DianPing Analysis/data/clean/businesses_flow.txt\",sep=\"\\t\",header=None)\n",
    "# style.columns = ['itemid','style']\n",
    "# share.columns = ['itemid','share']\n",
    "# rating.columns = ['itemid','rating']\n",
    "# flow.columns = ['itemid','flow']"
   ]
  },
  {
   "cell_type": "code",
   "execution_count": null,
   "metadata": {},
   "outputs": [],
   "source": [
    "# link1 = pd.merge(style,share,on='itemid')\n",
    "# link2 = pd.merge(link1,rating,on='itemid')\n",
    "# link3 = pd.merge(link2,flow,on='itemid')\n",
    "# link3 = pd.merge(category,link3,on='itemid')"
   ]
  },
  {
   "cell_type": "code",
   "execution_count": null,
   "metadata": {},
   "outputs": [],
   "source": [
    "# link3.describe()"
   ]
  },
  {
   "cell_type": "code",
   "execution_count": null,
   "metadata": {},
   "outputs": [],
   "source": []
  },
  {
   "cell_type": "code",
   "execution_count": null,
   "metadata": {},
   "outputs": [],
   "source": [
    "style"
   ]
  },
  {
   "cell_type": "code",
   "execution_count": null,
   "metadata": {},
   "outputs": [],
   "source": []
  },
  {
   "cell_type": "code",
   "execution_count": null,
   "metadata": {},
   "outputs": [],
   "source": []
  },
  {
   "cell_type": "code",
   "execution_count": null,
   "metadata": {},
   "outputs": [],
   "source": []
  },
  {
   "cell_type": "code",
   "execution_count": null,
   "metadata": {},
   "outputs": [],
   "source": []
  },
  {
   "cell_type": "code",
   "execution_count": null,
   "metadata": {},
   "outputs": [],
   "source": []
  },
  {
   "cell_type": "code",
   "execution_count": null,
   "metadata": {},
   "outputs": [],
   "source": []
  },
  {
   "cell_type": "code",
   "execution_count": null,
   "metadata": {},
   "outputs": [],
   "source": []
  },
  {
   "cell_type": "code",
   "execution_count": null,
   "metadata": {},
   "outputs": [],
   "source": []
  },
  {
   "cell_type": "code",
   "execution_count": null,
   "metadata": {},
   "outputs": [],
   "source": []
  },
  {
   "cell_type": "code",
   "execution_count": null,
   "metadata": {},
   "outputs": [],
   "source": []
  },
  {
   "cell_type": "code",
   "execution_count": null,
   "metadata": {},
   "outputs": [],
   "source": []
  },
  {
   "cell_type": "code",
   "execution_count": null,
   "metadata": {},
   "outputs": [],
   "source": []
  },
  {
   "cell_type": "code",
   "execution_count": null,
   "metadata": {},
   "outputs": [],
   "source": []
  },
  {
   "cell_type": "code",
   "execution_count": null,
   "metadata": {},
   "outputs": [],
   "source": []
  },
  {
   "cell_type": "code",
   "execution_count": null,
   "metadata": {},
   "outputs": [],
   "source": []
  },
  {
   "cell_type": "code",
   "execution_count": null,
   "metadata": {},
   "outputs": [],
   "source": []
  },
  {
   "cell_type": "code",
   "execution_count": null,
   "metadata": {},
   "outputs": [],
   "source": []
  },
  {
   "cell_type": "code",
   "execution_count": null,
   "metadata": {},
   "outputs": [],
   "source": []
  },
  {
   "cell_type": "code",
   "execution_count": null,
   "metadata": {},
   "outputs": [],
   "source": []
  },
  {
   "cell_type": "code",
   "execution_count": null,
   "metadata": {},
   "outputs": [],
   "source": []
  },
  {
   "cell_type": "code",
   "execution_count": null,
   "metadata": {},
   "outputs": [],
   "source": []
  },
  {
   "cell_type": "code",
   "execution_count": null,
   "metadata": {},
   "outputs": [],
   "source": []
  },
  {
   "cell_type": "code",
   "execution_count": null,
   "metadata": {},
   "outputs": [],
   "source": []
  },
  {
   "cell_type": "code",
   "execution_count": null,
   "metadata": {},
   "outputs": [],
   "source": []
  },
  {
   "cell_type": "code",
   "execution_count": null,
   "metadata": {},
   "outputs": [],
   "source": []
  },
  {
   "cell_type": "code",
   "execution_count": null,
   "metadata": {},
   "outputs": [],
   "source": []
  },
  {
   "cell_type": "code",
   "execution_count": null,
   "metadata": {},
   "outputs": [],
   "source": []
  },
  {
   "cell_type": "code",
   "execution_count": null,
   "metadata": {},
   "outputs": [],
   "source": []
  },
  {
   "cell_type": "code",
   "execution_count": null,
   "metadata": {},
   "outputs": [],
   "source": []
  },
  {
   "cell_type": "code",
   "execution_count": null,
   "metadata": {},
   "outputs": [],
   "source": []
  },
  {
   "cell_type": "code",
   "execution_count": null,
   "metadata": {},
   "outputs": [],
   "source": []
  },
  {
   "cell_type": "code",
   "execution_count": null,
   "metadata": {},
   "outputs": [],
   "source": []
  },
  {
   "cell_type": "code",
   "execution_count": null,
   "metadata": {},
   "outputs": [],
   "source": []
  },
  {
   "cell_type": "code",
   "execution_count": null,
   "metadata": {},
   "outputs": [],
   "source": []
  },
  {
   "cell_type": "code",
   "execution_count": null,
   "metadata": {},
   "outputs": [],
   "source": []
  },
  {
   "cell_type": "code",
   "execution_count": null,
   "metadata": {},
   "outputs": [],
   "source": [
    " "
   ]
  }
 ],
 "metadata": {
  "kernelspec": {
   "display_name": "Python 3",
   "language": "python",
   "name": "python3"
  },
  "language_info": {
   "codemirror_mode": {
    "name": "ipython",
    "version": 3
   },
   "file_extension": ".py",
   "mimetype": "text/x-python",
   "name": "python",
   "nbconvert_exporter": "python",
   "pygments_lexer": "ipython3",
   "version": "3.7.3"
  }
 },
 "nbformat": 4,
 "nbformat_minor": 4
}
