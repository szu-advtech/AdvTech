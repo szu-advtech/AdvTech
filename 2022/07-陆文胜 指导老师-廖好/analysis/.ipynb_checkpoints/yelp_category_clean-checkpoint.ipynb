{
 "cells": [
  {
   "cell_type": "code",
   "execution_count": 2,
   "metadata": {},
   "outputs": [],
   "source": [
    "import pandas as pd\n",
    "import numpy as np\n",
    "import matplotlib.pyplot as plt\n",
    "from matplotlib.ticker import FuncFormatter\n",
    "from matplotlib.font_manager import FontProperties\n",
    "import json\n",
    "font = FontProperties(fname='font/Times-Roman.ttf')\n",
    "%matplotlib inline\n",
    "plt.rcParams['font.sans-serif']=['SimHei'] # 用来正常显示中文标签\n",
    "plt.rcParams['axes.unicode_minus']=False # 用来正常显示负号"
   ]
  },
  {
   "cell_type": "code",
   "execution_count": 15,
   "metadata": {},
   "outputs": [],
   "source": [
    "# path = \"/home/lx/Yelp_dataset/yelp_academic_dataset_business.json/\""
   ]
  },
  {
   "cell_type": "code",
   "execution_count": null,
   "metadata": {},
   "outputs": [],
   "source": [
    "# data = pd.read_csv(path+\"yelp_academic_dataset_business.json\",sep=\"\\t\",header=None)"
   ]
  },
  {
   "cell_type": "code",
   "execution_count": 14,
   "metadata": {},
   "outputs": [],
   "source": [
    "# business_filename = \"/home/lx/Yelp_dataset/yelp_academic_dataset_business.json/yelp_academic_dataset_business.json\"\n",
    "# with open(business_filename,\"r\") as business_file:\n",
    "# \tnum=1\n",
    "# \tfor line in business_file.readlines():\n",
    "# \t\tif(num>1):\n",
    "# \t\t\t#处理business.txt\n",
    "# \t\t\tif num%10000==0:\n",
    "# \t\t\t\tprint(\"business num:\"+str(num))\n",
    "# \t\t\tdict_line = json.loads(line) #json字符串转换成字典\n",
    "# \t\t\tattributes=dict_line['attributes']\n",
    "# \t\t\tif attributes:\n",
    "# \t\t\t\tif \"RestaurantsReservations\" in attributes:\n",
    "# \t\t\t\t\tnew_business_filename=\"data/yelp_business.json\"\n",
    "# \t\t\t\t\twith open(new_business_filename,'a+') as new_business_file:\n",
    "# \t\t\t\t\t\tnew_business_file.write(line)\n",
    "\t\t\t\t\t\t\n",
    "# \t\tnum = num + 1\n",
    "# business_file.close()"
   ]
  },
  {
   "cell_type": "code",
   "execution_count": 13,
   "metadata": {},
   "outputs": [],
   "source": [
    "# business_filename = \"data/yelp_business.json\"\n",
    "# close_num=0\n",
    "# id_and_review_count_and_label_filename=\"data/yelp_business_category_label.txt\"\n",
    "\n",
    "# with open(business_filename,\"r\") as business_file:\n",
    "#     with open(id_and_review_count_and_label_filename,'a+') as id_and_review_count_and_label_file:\n",
    "#         num=1\n",
    "#         for line in business_file.readlines():\n",
    "#             if num%5000==0:\n",
    "#                 print(\"reviews_num:\"+str(num))\n",
    "#             dict_line = json.loads(line)\n",
    "#             business_id = dict_line['business_id']\n",
    "#             review_count = dict_line['review_count']\n",
    "#             categories = dict_line['categories']\n",
    "#             label=dict_line['is_open']\n",
    "#             if label == 0:\n",
    "#                 close_num+=1\n",
    "#             new_line=business_id+\"\\t\"+str(review_count)+\"\\t\"+str(label)+\"\\t\"+str(categories)+\"\\n\"\n",
    "#             id_and_review_count_and_label_file.write(new_line)\n",
    "#             num+=1\n",
    "# business_file.close()\n",
    "# id_and_review_count_and_label_file.close()"
   ]
  },
  {
   "cell_type": "code",
   "execution_count": 17,
   "metadata": {},
   "outputs": [],
   "source": [
    "data = pd.read_csv(\"data/yelp_business_category_label.txt\",sep=\"\\t\",header=None)"
   ]
  },
  {
   "cell_type": "code",
   "execution_count": 20,
   "metadata": {},
   "outputs": [],
   "source": [
    "data.columns = ['itemid','nums','label','category']"
   ]
  },
  {
   "cell_type": "code",
   "execution_count": 23,
   "metadata": {},
   "outputs": [],
   "source": [
    "category = data[['category']]"
   ]
  },
  {
   "cell_type": "code",
   "execution_count": 35,
   "metadata": {},
   "outputs": [],
   "source": [
    "category_list = {}\n",
    "for index, row in category.iterrows():\n",
    "    line = row['category']\n",
    "    line = line.split(',')\n",
    "    for i in line:\n",
    "        if i not in category_list:\n",
    "            category_list[i] = 1\n",
    "        else:\n",
    "            category_list[i] += 1"
   ]
  },
  {
   "cell_type": "code",
   "execution_count": 48,
   "metadata": {},
   "outputs": [],
   "source": [
    "def dictionairy(key_value):  \n",
    "    L = []\n",
    "    for i in sorted (key_value) : \n",
    "        L.append([i, key_value[i]])\n",
    "    return L"
   ]
  },
  {
   "cell_type": "code",
   "execution_count": 58,
   "metadata": {},
   "outputs": [],
   "source": [
    "# del[category_list[' Lounges']\n",
    "# sorted(category_list.items(), key = lambda kv:(kv[1], kv[0]))\n",
    "category_list = sorted(category_list.items(), key=lambda x: x[1], reverse=True)"
   ]
  },
  {
   "cell_type": "code",
   "execution_count": 62,
   "metadata": {},
   "outputs": [],
   "source": [
    "# category_list"
   ]
  },
  {
   "cell_type": "code",
   "execution_count": 90,
   "metadata": {},
   "outputs": [],
   "source": [
    "cate = []\n",
    "A = ['sandwiches', 'burgers','fast','pizza','italian','american','bars','mexican','coffee','cafes','tea','chinese','taiwanese','japanese','thai','thailand']\n",
    "for index, row in category.iterrows():\n",
    "    line = row['category']\n",
    "    line = line.replace(\" \", \",\")\n",
    "    line = line.split(',')\n",
    "    \n",
    "    new = []\n",
    "    for i in line:\n",
    "        new.append(i.lower())\n",
    "    \n",
    "    # 求交集\n",
    "    t = len(list(set(A).intersection(set(line))))\n",
    "    if t==0:\n",
    "        cate.append('Others')\n",
    "        continue\n",
    "    \n",
    "    for i in line:\n",
    "        if i == 'sandwiches':\n",
    "            cate.append('Sandwiches')\n",
    "            break\n",
    "        elif i in ['burgers']:\n",
    "            cate.append('Burgers')\n",
    "            break\n",
    "        elif i in ['fast']:\n",
    "            cate.append('Fast')\n",
    "            break\n",
    "        elif i in ['pizza','italian']:\n",
    "            cate.append('Italian')\n",
    "            break\n",
    "        elif i in ['american']:\n",
    "            cate.append('American')\n",
    "            break\n",
    "        elif i in ['bars']:\n",
    "            cate.append('Bars')\n",
    "            break\n",
    "        elif i in ['mexican']:\n",
    "            cate.append('Mexican')\n",
    "            break\n",
    "        elif i in ['coffee','cafes','tea']:\n",
    "            cate.append('Coffee & Tea')\n",
    "            break\n",
    "        elif i in ['chinese','taiwanese']:\n",
    "            cate.append('Chinese')\n",
    "            break\n",
    "        elif i in ['japanese']:\n",
    "            cate.append('Japanese')\n",
    "            break\n",
    "        elif i in ['thai','thailand']:\n",
    "            cate.append('Thailand')\n",
    "            break\n",
    "        "
   ]
  },
  {
   "cell_type": "code",
   "execution_count": 81,
   "metadata": {},
   "outputs": [],
   "source": [
    "t = {}\n",
    "for index, row in category.iterrows():\n",
    "    line = row['category']\n",
    "    line = line.replace(\" \", \",\")\n",
    "    line = line.split(',')\n",
    "    for i in line:\n",
    "        if i not in t:\n",
    "            t[i] = 1\n",
    "        else:\n",
    "            t[i] += 1"
   ]
  },
  {
   "cell_type": "code",
   "execution_count": 84,
   "metadata": {},
   "outputs": [],
   "source": [
    "t = sorted(t.items(), key=lambda x: x[1], reverse=True)"
   ]
  },
  {
   "cell_type": "code",
   "execution_count": 87,
   "metadata": {},
   "outputs": [],
   "source": [
    "# t"
   ]
  },
  {
   "cell_type": "code",
   "execution_count": 88,
   "metadata": {},
   "outputs": [
    {
     "data": {
      "text/plain": [
       "True"
      ]
     },
     "execution_count": 88,
     "metadata": {},
     "output_type": "execute_result"
    }
   ],
   "source": [
    "'A'.lower() == 'a'"
   ]
  },
  {
   "cell_type": "code",
   "execution_count": null,
   "metadata": {},
   "outputs": [],
   "source": []
  },
  {
   "cell_type": "code",
   "execution_count": null,
   "metadata": {},
   "outputs": [],
   "source": []
  },
  {
   "cell_type": "code",
   "execution_count": null,
   "metadata": {},
   "outputs": [],
   "source": []
  },
  {
   "cell_type": "code",
   "execution_count": null,
   "metadata": {},
   "outputs": [],
   "source": []
  },
  {
   "cell_type": "code",
   "execution_count": null,
   "metadata": {},
   "outputs": [],
   "source": []
  }
 ],
 "metadata": {
  "kernelspec": {
   "display_name": "Python 3",
   "language": "python",
   "name": "python3"
  },
  "language_info": {
   "codemirror_mode": {
    "name": "ipython",
    "version": 3
   },
   "file_extension": ".py",
   "mimetype": "text/x-python",
   "name": "python",
   "nbconvert_exporter": "python",
   "pygments_lexer": "ipython3",
   "version": "3.7.3"
  }
 },
 "nbformat": 4,
 "nbformat_minor": 4
}
