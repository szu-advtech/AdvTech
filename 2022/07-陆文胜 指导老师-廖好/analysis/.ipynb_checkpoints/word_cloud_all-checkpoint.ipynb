{
 "cells": [
  {
   "cell_type": "code",
   "execution_count": 1,
   "metadata": {},
   "outputs": [],
   "source": [
    "import numpy as np\n",
    "import pandas as pd\n",
    "import wordcloud\n",
    "import jieba\n",
    "import jieba.posseg as pseg\n",
    "from collections import Counter"
   ]
  },
  {
   "cell_type": "code",
   "execution_count": 2,
   "metadata": {},
   "outputs": [],
   "source": [
    "path1 = \"../data/City_1/clean_5_City_1/\"\n",
    "path2 = \"../data/City_2/clean_5_City_2/\"\n",
    "path4 = \"../data/City_4/clean_n_a_City_4/\""
   ]
  },
  {
   "cell_type": "code",
   "execution_count": 3,
   "metadata": {},
   "outputs": [],
   "source": [
    "itemid1 = pd.read_csv(path1+\"itemID.txt\",sep=\"\\n\",header=None)\n",
    "concepts1 = pd.read_csv(path1+\"concepts.txt\",sep=\"\\n\",header=None)\n",
    "label1 =  pd.read_csv(path1+\"label.txt\",sep=\"\\n\",header=None)\n",
    "frame1 = [itemid1,concepts1, label1]\n",
    "data1 = pd.concat(frame1,axis = 1)\n",
    "data1.columns=['itemid','concepts','label']\n",
    "\n",
    "itemid2 = pd.read_csv(path2+\"itemID.txt\",sep=\"\\n\",header=None)\n",
    "concepts2 = pd.read_csv(path2+\"concepts.txt\",sep=\"\\n\",header=None)\n",
    "label2 =  pd.read_csv(path2+\"label.txt\",sep=\"\\n\",header=None)\n",
    "frame2 = [itemid2,concepts2, label2]\n",
    "data2 = pd.concat(frame2,axis = 1)\n",
    "data2.columns=['itemid','concepts','label']\n",
    "\n",
    "itemid4 = pd.read_csv(path4+\"itemID.txt\",sep=\"\\n\",header=None)\n",
    "concepts4 = pd.read_csv(path4+\"concepts.txt\",sep=\"\\n\",header=None)\n",
    "label4 =  pd.read_csv(path4+\"label.txt\",sep=\"\\n\",header=None)\n",
    "frame4 = [itemid4,concepts4, label4]\n",
    "data4 = pd.concat(frame4,axis = 1)\n",
    "data4.columns=['itemid','concepts','label']"
   ]
  },
  {
   "cell_type": "code",
   "execution_count": 4,
   "metadata": {},
   "outputs": [],
   "source": [
    "frame = [data1,data2, data4]\n",
    "data = pd.concat(frame,axis = 0)\n",
    "# data2.columns=['itemid','concepts','label']"
   ]
  },
  {
   "cell_type": "code",
   "execution_count": 5,
   "metadata": {},
   "outputs": [
    {
     "data": {
      "text/html": [
       "<div>\n",
       "<style scoped>\n",
       "    .dataframe tbody tr th:only-of-type {\n",
       "        vertical-align: middle;\n",
       "    }\n",
       "\n",
       "    .dataframe tbody tr th {\n",
       "        vertical-align: top;\n",
       "    }\n",
       "\n",
       "    .dataframe thead th {\n",
       "        text-align: right;\n",
       "    }\n",
       "</style>\n",
       "<table border=\"1\" class=\"dataframe\">\n",
       "  <thead>\n",
       "    <tr style=\"text-align: right;\">\n",
       "      <th></th>\n",
       "      <th>itemid</th>\n",
       "      <th>concepts</th>\n",
       "      <th>label</th>\n",
       "    </tr>\n",
       "  </thead>\n",
       "  <tbody>\n",
       "    <tr>\n",
       "      <td>0</td>\n",
       "      <td>0</td>\n",
       "      <td>爆料\\t家人\\t西塘\\t爸妈\\t奶奶\\t结果\\t虫\\t小姐\\t很\\t样子\\t换\\t零头</td>\n",
       "      <td>1</td>\n",
       "    </tr>\n",
       "    <tr>\n",
       "      <td>1</td>\n",
       "      <td>0</td>\n",
       "      <td>鸡公\\t堡\\t真\\t区别\\t性价比\\t关键\\t鸡公\\t堡\\t会\\t衣服\\t鸡\\t少\\t不\\t...</td>\n",
       "      <td>1</td>\n",
       "    </tr>\n",
       "    <tr>\n",
       "      <td>2</td>\n",
       "      <td>0</td>\n",
       "      <td>老公\\t我\\t中饭\\t飞州\\t国际\\t家\\t我\\t清淡\\t结果\\t鸡公\\t煲\\t鸡煲\\t中煲...</td>\n",
       "      <td>1</td>\n",
       "    </tr>\n",
       "    <tr>\n",
       "      <td>3</td>\n",
       "      <td>0</td>\n",
       "      <td>我\\t个\\t地方\\t先\\t走\\t中意\\t张\\t菜单\\t鸡公\\t煲\\t真\\t哈\\t小\\t煲\\t...</td>\n",
       "      <td>1</td>\n",
       "    </tr>\n",
       "    <tr>\n",
       "      <td>4</td>\n",
       "      <td>0</td>\n",
       "      <td>鸡公\\t煲\\t微辣\\t鸡肉\\t中煲\\t量\\t味道\\t鸡公\\t煲用\\t炉\\t很\\t费时\\t大煲...</td>\n",
       "      <td>1</td>\n",
       "    </tr>\n",
       "    <tr>\n",
       "      <td>...</td>\n",
       "      <td>...</td>\n",
       "      <td>...</td>\n",
       "      <td>...</td>\n",
       "    </tr>\n",
       "    <tr>\n",
       "      <td>64789</td>\n",
       "      <td>1930</td>\n",
       "      <td>小时候\\t广州\\t味道\\t老字号\\t久\\t店\\t大\\t种类\\t不足\\t根本\\t河粉\\t味道\\t好</td>\n",
       "      <td>0</td>\n",
       "    </tr>\n",
       "    <tr>\n",
       "      <td>64790</td>\n",
       "      <td>1930</td>\n",
       "      <td>垃圾\\t依家\\t大鱼\\t蛋粉\\t价钱\\t价钱\\t味道\\t成正比</td>\n",
       "      <td>0</td>\n",
       "    </tr>\n",
       "    <tr>\n",
       "      <td>64791</td>\n",
       "      <td>1930</td>\n",
       "      <td>好\\t耐\\t历史\\t葛\\t鱼蛋\\t粉店\\t鱼蛋\\t汤底\\t鱼皮\\t荣昌\\t果\\t甘差\\t起码...</td>\n",
       "      <td>0</td>\n",
       "    </tr>\n",
       "    <tr>\n",
       "      <td>64792</td>\n",
       "      <td>1930</td>\n",
       "      <td>鱼\\t蛋粉\\t鱼皮\\t粉\\t汤底\\t咸\\t河粉\\t环境\\t太细\\t感觉\\t邋遢\\t细细\\t妈...</td>\n",
       "      <td>0</td>\n",
       "    </tr>\n",
       "    <tr>\n",
       "      <td>64793</td>\n",
       "      <td>1930</td>\n",
       "      <td>皮\\t一大\\t碟\\t分量\\t松脆\\t五彩\\t蛋\\t面\\t粉\\t牛\\t牛\\t味\\t爽\\t爽\\t...</td>\n",
       "      <td>0</td>\n",
       "    </tr>\n",
       "  </tbody>\n",
       "</table>\n",
       "<p>698196 rows × 3 columns</p>\n",
       "</div>"
      ],
      "text/plain": [
       "       itemid                                           concepts  label\n",
       "0           0        爆料\\t家人\\t西塘\\t爸妈\\t奶奶\\t结果\\t虫\\t小姐\\t很\\t样子\\t换\\t零头      1\n",
       "1           0  鸡公\\t堡\\t真\\t区别\\t性价比\\t关键\\t鸡公\\t堡\\t会\\t衣服\\t鸡\\t少\\t不\\t...      1\n",
       "2           0  老公\\t我\\t中饭\\t飞州\\t国际\\t家\\t我\\t清淡\\t结果\\t鸡公\\t煲\\t鸡煲\\t中煲...      1\n",
       "3           0  我\\t个\\t地方\\t先\\t走\\t中意\\t张\\t菜单\\t鸡公\\t煲\\t真\\t哈\\t小\\t煲\\t...      1\n",
       "4           0  鸡公\\t煲\\t微辣\\t鸡肉\\t中煲\\t量\\t味道\\t鸡公\\t煲用\\t炉\\t很\\t费时\\t大煲...      1\n",
       "...       ...                                                ...    ...\n",
       "64789    1930   小时候\\t广州\\t味道\\t老字号\\t久\\t店\\t大\\t种类\\t不足\\t根本\\t河粉\\t味道\\t好      0\n",
       "64790    1930                    垃圾\\t依家\\t大鱼\\t蛋粉\\t价钱\\t价钱\\t味道\\t成正比      0\n",
       "64791    1930  好\\t耐\\t历史\\t葛\\t鱼蛋\\t粉店\\t鱼蛋\\t汤底\\t鱼皮\\t荣昌\\t果\\t甘差\\t起码...      0\n",
       "64792    1930  鱼\\t蛋粉\\t鱼皮\\t粉\\t汤底\\t咸\\t河粉\\t环境\\t太细\\t感觉\\t邋遢\\t细细\\t妈...      0\n",
       "64793    1930  皮\\t一大\\t碟\\t分量\\t松脆\\t五彩\\t蛋\\t面\\t粉\\t牛\\t牛\\t味\\t爽\\t爽\\t...      0\n",
       "\n",
       "[698196 rows x 3 columns]"
      ]
     },
     "execution_count": 5,
     "metadata": {},
     "output_type": "execute_result"
    }
   ],
   "source": [
    "data.dropna()"
   ]
  },
  {
   "cell_type": "code",
   "execution_count": 6,
   "metadata": {},
   "outputs": [],
   "source": [
    "label0 = ''\n",
    "label1 = ''\n",
    "label2 = ''\n",
    "for index, row in data.iterrows():\n",
    "    if row['label'] == 1 :\n",
    "        label1 += '\\t' + str(row['concepts'])\n",
    "    else :\n",
    "        label0 += '\\t' + str(row['concepts'])\n",
    "    label2 += '\\t' + str(row['concepts'])"
   ]
  },
  {
   "cell_type": "code",
   "execution_count": null,
   "metadata": {},
   "outputs": [
    {
     "name": "stderr",
     "output_type": "stream",
     "text": [
      "Building prefix dict from the default dictionary ...\n",
      "Loading model from cache /tmp/jieba.cache\n",
      "Loading model cost 0.704 seconds.\n",
      "Prefix dict has been built succesfully.\n"
     ]
    }
   ],
   "source": [
    "## 定义一个 list\n",
    "L1 =list()\n",
    "## 获取带词性的词对象（没学过py不知道得到的是什么）\n",
    "words1 = pseg.cut(label1)\n",
    "i1=0\n",
    "## 遍历这个词对象\n",
    "for word, flag in words1:\n",
    "    ## 如果词性(flag)或者词(word)属于这个范围就直接跳过 自己填写\n",
    "    if flag==\"x\" or flag==\"p\"  or flag==\"uj\" or word==\"年\"or word==\"月\"or word==\"日\" :\n",
    "        continue\n",
    "    ## 打印计数 为了区分程序是不是挂了\n",
    "    i1=i1+1\n",
    "    ##把词追加到list中\n",
    "    L1.append(word)\n",
    "## 计算出现次数\n",
    "getObj1 = Counter(L1)\n",
    "\n",
    "## 定义一个 list\n",
    "L0 =list()\n",
    "## 获取带词性的词对象（没学过py不知道得到的是什么）\n",
    "words0 = pseg.cut(label0)\n",
    "i0=0\n",
    "## 遍历这个词对象\n",
    "for word, flag in words0:\n",
    "    ## 如果词性(flag)或者词(word)属于这个范围就直接跳过 自己填写\n",
    "    if flag==\"x\" or flag==\"p\"  or flag==\"uj\" or word==\"年\"or word==\"月\"or word==\"日\" :\n",
    "        continue\n",
    "    ## 打印计数 为了区分程序是不是挂了\n",
    "    i0=i0+1\n",
    "    ##把词追加到list中\n",
    "    L0.append(word)\n",
    "## 计算出现次数\n",
    "getObj0 = Counter(L0)"
   ]
  },
  {
   "cell_type": "code",
   "execution_count": null,
   "metadata": {},
   "outputs": [],
   "source": []
  },
  {
   "cell_type": "code",
   "execution_count": null,
   "metadata": {},
   "outputs": [],
   "source": [
    "stopword0=['很','我', '不','人','菜','店','蛮','个','会','有点','会','时候','太','上','过','最','汤','量','肉','面','牛肉','少','饭','爱','个人','鸡','老','么','高','烤','甜','味','老公']"
   ]
  },
  {
   "cell_type": "code",
   "execution_count": null,
   "metadata": {},
   "outputs": [],
   "source": [
    "stopword1=['很','我', '不','人','菜','店','蛮','个','会','有点','会','时候','太','上','过','最','汤','量','肉','面','牛肉','少','饭','爱','个人','鸡','老','么','高','烤','甜','味','老公']"
   ]
  },
  {
   "cell_type": "code",
   "execution_count": null,
   "metadata": {},
   "outputs": [],
   "source": [
    "wc = wordcloud.WordCloud(font_path=\"font/simheittf.ttf\",\n",
    "                         width = 1000,\n",
    "                         height = 700,\n",
    "                         background_color='white',\n",
    "                         max_words=50)\n",
    "# msyh.ttc电脑本地字体，写可以写成绝对路径\n",
    "wc.generate(label1) # 加载词云文本\n",
    "wc.to_file(\"figure/dianping_1.png\") # 保存词云文件\n"
   ]
  },
  {
   "cell_type": "code",
   "execution_count": null,
   "metadata": {},
   "outputs": [],
   "source": []
  },
  {
   "cell_type": "code",
   "execution_count": 11,
   "metadata": {},
   "outputs": [
    {
     "data": {
      "text/plain": [
       "<wordcloud.wordcloud.WordCloud at 0x7f1fff6e9c88>"
      ]
     },
     "execution_count": 11,
     "metadata": {},
     "output_type": "execute_result"
    }
   ],
   "source": [
    "wc = wordcloud.WordCloud(font_path=\"font/simheittf.ttf\",\n",
    "                         width = 1000,\n",
    "                         height = 700,\n",
    "                         background_color='white',\n",
    "                         max_words=50)\n",
    "# msyh.ttc电脑本地字体，写可以写成绝对路径\n",
    "wc.generate(label0) # 加载词云文本\n",
    "wc.to_file(\"figure/dianping_0.png\") # 保存词云文件"
   ]
  },
  {
   "cell_type": "code",
   "execution_count": null,
   "metadata": {},
   "outputs": [],
   "source": []
  },
  {
   "cell_type": "code",
   "execution_count": null,
   "metadata": {},
   "outputs": [],
   "source": []
  },
  {
   "cell_type": "code",
   "execution_count": null,
   "metadata": {},
   "outputs": [],
   "source": []
  }
 ],
 "metadata": {
  "kernelspec": {
   "display_name": "Python 3",
   "language": "python",
   "name": "python3"
  },
  "language_info": {
   "codemirror_mode": {
    "name": "ipython",
    "version": 3
   },
   "file_extension": ".py",
   "mimetype": "text/x-python",
   "name": "python",
   "nbconvert_exporter": "python",
   "pygments_lexer": "ipython3",
   "version": "3.7.3"
  }
 },
 "nbformat": 4,
 "nbformat_minor": 4
}
