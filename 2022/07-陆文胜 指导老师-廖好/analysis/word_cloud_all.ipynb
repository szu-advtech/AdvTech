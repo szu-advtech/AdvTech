{
 "cells": [
  {
   "cell_type": "code",
   "execution_count": 8,
   "metadata": {},
   "outputs": [],
   "source": [
    "import numpy as np\n",
    "import pandas as pd\n",
    "import wordcloud\n",
    "import jieba\n",
    "import jieba.posseg as pseg\n",
    "from collections import Counter"
   ]
  },
  {
   "cell_type": "code",
   "execution_count": 9,
   "metadata": {},
   "outputs": [],
   "source": [
    "path1 = \"../data/City_1/clean_5_City_1/\"\n",
    "path2 = \"../data/City_2/clean_5_City_2/\"\n",
    "path4 = \"../data/City_4/clean_n_a_City_4/\""
   ]
  },
  {
   "cell_type": "code",
   "execution_count": 10,
   "metadata": {},
   "outputs": [],
   "source": [
    "itemid1 = pd.read_csv(path1+\"itemID.txt\",sep=\"\\n\",header=None)\n",
    "concepts1 = pd.read_csv(path1+\"concepts.txt\",sep=\"\\n\",header=None)\n",
    "label1 =  pd.read_csv(path1+\"label.txt\",sep=\"\\n\",header=None)\n",
    "frame1 = [itemid1,concepts1, label1]\n",
    "data1 = pd.concat(frame1,axis = 1)\n",
    "data1.columns=['itemid','concepts','label']\n",
    "\n",
    "itemid2 = pd.read_csv(path2+\"itemID.txt\",sep=\"\\n\",header=None)\n",
    "concepts2 = pd.read_csv(path2+\"concepts.txt\",sep=\"\\n\",header=None)\n",
    "label2 =  pd.read_csv(path2+\"label.txt\",sep=\"\\n\",header=None)\n",
    "frame2 = [itemid2,concepts2, label2]\n",
    "data2 = pd.concat(frame2,axis = 1)\n",
    "data2.columns=['itemid','concepts','label']\n",
    "\n",
    "itemid4 = pd.read_csv(path4+\"itemID.txt\",sep=\"\\n\",header=None)\n",
    "concepts4 = pd.read_csv(path4+\"concepts.txt\",sep=\"\\n\",header=None)\n",
    "label4 =  pd.read_csv(path4+\"label.txt\",sep=\"\\n\",header=None)\n",
    "frame4 = [itemid4,concepts4, label4]\n",
    "data4 = pd.concat(frame4,axis = 1)\n",
    "data4.columns=['itemid','concepts','label']"
   ]
  },
  {
   "cell_type": "code",
   "execution_count": 11,
   "metadata": {},
   "outputs": [],
   "source": [
    "frame = [data1,data2, data4]\n",
    "data = pd.concat(frame,axis = 0)\n",
    "# data2.columns=['itemid','concepts','label']"
   ]
  },
  {
   "cell_type": "code",
   "execution_count": 12,
   "metadata": {},
   "outputs": [
    {
     "data": {
      "text/html": [
       "<div>\n",
       "<style scoped>\n",
       "    .dataframe tbody tr th:only-of-type {\n",
       "        vertical-align: middle;\n",
       "    }\n",
       "\n",
       "    .dataframe tbody tr th {\n",
       "        vertical-align: top;\n",
       "    }\n",
       "\n",
       "    .dataframe thead th {\n",
       "        text-align: right;\n",
       "    }\n",
       "</style>\n",
       "<table border=\"1\" class=\"dataframe\">\n",
       "  <thead>\n",
       "    <tr style=\"text-align: right;\">\n",
       "      <th></th>\n",
       "      <th>itemid</th>\n",
       "      <th>concepts</th>\n",
       "      <th>label</th>\n",
       "    </tr>\n",
       "  </thead>\n",
       "  <tbody>\n",
       "    <tr>\n",
       "      <td>0</td>\n",
       "      <td>0</td>\n",
       "      <td>爆料\\t家人\\t西塘\\t爸妈\\t奶奶\\t结果\\t虫\\t小姐\\t很\\t样子\\t换\\t零头</td>\n",
       "      <td>1</td>\n",
       "    </tr>\n",
       "    <tr>\n",
       "      <td>1</td>\n",
       "      <td>0</td>\n",
       "      <td>鸡公\\t堡\\t真\\t区别\\t性价比\\t关键\\t鸡公\\t堡\\t会\\t衣服\\t鸡\\t少\\t不\\t...</td>\n",
       "      <td>1</td>\n",
       "    </tr>\n",
       "    <tr>\n",
       "      <td>2</td>\n",
       "      <td>0</td>\n",
       "      <td>老公\\t我\\t中饭\\t飞州\\t国际\\t家\\t我\\t清淡\\t结果\\t鸡公\\t煲\\t鸡煲\\t中煲...</td>\n",
       "      <td>1</td>\n",
       "    </tr>\n",
       "    <tr>\n",
       "      <td>3</td>\n",
       "      <td>0</td>\n",
       "      <td>我\\t个\\t地方\\t先\\t走\\t中意\\t张\\t菜单\\t鸡公\\t煲\\t真\\t哈\\t小\\t煲\\t...</td>\n",
       "      <td>1</td>\n",
       "    </tr>\n",
       "    <tr>\n",
       "      <td>4</td>\n",
       "      <td>0</td>\n",
       "      <td>鸡公\\t煲\\t微辣\\t鸡肉\\t中煲\\t量\\t味道\\t鸡公\\t煲用\\t炉\\t很\\t费时\\t大煲...</td>\n",
       "      <td>1</td>\n",
       "    </tr>\n",
       "    <tr>\n",
       "      <td>...</td>\n",
       "      <td>...</td>\n",
       "      <td>...</td>\n",
       "      <td>...</td>\n",
       "    </tr>\n",
       "    <tr>\n",
       "      <td>64789</td>\n",
       "      <td>1930</td>\n",
       "      <td>小时候\\t广州\\t味道\\t老字号\\t久\\t店\\t大\\t种类\\t不足\\t根本\\t河粉\\t味道\\t好</td>\n",
       "      <td>0</td>\n",
       "    </tr>\n",
       "    <tr>\n",
       "      <td>64790</td>\n",
       "      <td>1930</td>\n",
       "      <td>垃圾\\t依家\\t大鱼\\t蛋粉\\t价钱\\t价钱\\t味道\\t成正比</td>\n",
       "      <td>0</td>\n",
       "    </tr>\n",
       "    <tr>\n",
       "      <td>64791</td>\n",
       "      <td>1930</td>\n",
       "      <td>好\\t耐\\t历史\\t葛\\t鱼蛋\\t粉店\\t鱼蛋\\t汤底\\t鱼皮\\t荣昌\\t果\\t甘差\\t起码...</td>\n",
       "      <td>0</td>\n",
       "    </tr>\n",
       "    <tr>\n",
       "      <td>64792</td>\n",
       "      <td>1930</td>\n",
       "      <td>鱼\\t蛋粉\\t鱼皮\\t粉\\t汤底\\t咸\\t河粉\\t环境\\t太细\\t感觉\\t邋遢\\t细细\\t妈...</td>\n",
       "      <td>0</td>\n",
       "    </tr>\n",
       "    <tr>\n",
       "      <td>64793</td>\n",
       "      <td>1930</td>\n",
       "      <td>皮\\t一大\\t碟\\t分量\\t松脆\\t五彩\\t蛋\\t面\\t粉\\t牛\\t牛\\t味\\t爽\\t爽\\t...</td>\n",
       "      <td>0</td>\n",
       "    </tr>\n",
       "  </tbody>\n",
       "</table>\n",
       "<p>698196 rows × 3 columns</p>\n",
       "</div>"
      ],
      "text/plain": [
       "       itemid                                           concepts  label\n",
       "0           0        爆料\\t家人\\t西塘\\t爸妈\\t奶奶\\t结果\\t虫\\t小姐\\t很\\t样子\\t换\\t零头      1\n",
       "1           0  鸡公\\t堡\\t真\\t区别\\t性价比\\t关键\\t鸡公\\t堡\\t会\\t衣服\\t鸡\\t少\\t不\\t...      1\n",
       "2           0  老公\\t我\\t中饭\\t飞州\\t国际\\t家\\t我\\t清淡\\t结果\\t鸡公\\t煲\\t鸡煲\\t中煲...      1\n",
       "3           0  我\\t个\\t地方\\t先\\t走\\t中意\\t张\\t菜单\\t鸡公\\t煲\\t真\\t哈\\t小\\t煲\\t...      1\n",
       "4           0  鸡公\\t煲\\t微辣\\t鸡肉\\t中煲\\t量\\t味道\\t鸡公\\t煲用\\t炉\\t很\\t费时\\t大煲...      1\n",
       "...       ...                                                ...    ...\n",
       "64789    1930   小时候\\t广州\\t味道\\t老字号\\t久\\t店\\t大\\t种类\\t不足\\t根本\\t河粉\\t味道\\t好      0\n",
       "64790    1930                    垃圾\\t依家\\t大鱼\\t蛋粉\\t价钱\\t价钱\\t味道\\t成正比      0\n",
       "64791    1930  好\\t耐\\t历史\\t葛\\t鱼蛋\\t粉店\\t鱼蛋\\t汤底\\t鱼皮\\t荣昌\\t果\\t甘差\\t起码...      0\n",
       "64792    1930  鱼\\t蛋粉\\t鱼皮\\t粉\\t汤底\\t咸\\t河粉\\t环境\\t太细\\t感觉\\t邋遢\\t细细\\t妈...      0\n",
       "64793    1930  皮\\t一大\\t碟\\t分量\\t松脆\\t五彩\\t蛋\\t面\\t粉\\t牛\\t牛\\t味\\t爽\\t爽\\t...      0\n",
       "\n",
       "[698196 rows x 3 columns]"
      ]
     },
     "execution_count": 12,
     "metadata": {},
     "output_type": "execute_result"
    }
   ],
   "source": [
    "data.dropna()"
   ]
  },
  {
   "cell_type": "code",
   "execution_count": 13,
   "metadata": {},
   "outputs": [],
   "source": [
    "label0 = ''\n",
    "label1 = ''\n",
    "label2 = ''\n",
    "for index, row in data.iterrows():\n",
    "    if row['label'] == 1 :\n",
    "        label1 += '\\t' + str(row['concepts'])\n",
    "    else :\n",
    "        label0 += '\\t' + str(row['concepts'])\n",
    "    label2 += '\\t' + str(row['concepts'])"
   ]
  },
  {
   "cell_type": "code",
   "execution_count": 14,
   "metadata": {},
   "outputs": [
    {
     "ename": "KeyboardInterrupt",
     "evalue": "",
     "output_type": "error",
     "traceback": [
      "\u001b[0;31m---------------------------------------------------------------------------\u001b[0m",
      "\u001b[0;31mKeyboardInterrupt\u001b[0m                         Traceback (most recent call last)",
      "\u001b[0;32m<ipython-input-14-5502472f0fe7>\u001b[0m in \u001b[0;36m<module>\u001b[0;34m\u001b[0m\n\u001b[1;32m     39\u001b[0m \u001b[0mi2\u001b[0m\u001b[0;34m=\u001b[0m\u001b[0;36m0\u001b[0m\u001b[0;34m\u001b[0m\u001b[0;34m\u001b[0m\u001b[0m\n\u001b[1;32m     40\u001b[0m \u001b[0;31m## 遍历这个词对象\u001b[0m\u001b[0;34m\u001b[0m\u001b[0;34m\u001b[0m\u001b[0;34m\u001b[0m\u001b[0m\n\u001b[0;32m---> 41\u001b[0;31m \u001b[0;32mfor\u001b[0m \u001b[0mword\u001b[0m\u001b[0;34m,\u001b[0m \u001b[0mflag\u001b[0m \u001b[0;32min\u001b[0m \u001b[0mwords2\u001b[0m\u001b[0;34m:\u001b[0m\u001b[0;34m\u001b[0m\u001b[0;34m\u001b[0m\u001b[0m\n\u001b[0m\u001b[1;32m     42\u001b[0m     \u001b[0;31m## 如果词性(flag)或者词(word)属于这个范围就直接跳过 自己填写\u001b[0m\u001b[0;34m\u001b[0m\u001b[0;34m\u001b[0m\u001b[0;34m\u001b[0m\u001b[0m\n\u001b[1;32m     43\u001b[0m     \u001b[0;32mif\u001b[0m \u001b[0mflag\u001b[0m\u001b[0;34m==\u001b[0m\u001b[0;34m\"x\"\u001b[0m \u001b[0;32mor\u001b[0m \u001b[0mflag\u001b[0m\u001b[0;34m==\u001b[0m\u001b[0;34m\"p\"\u001b[0m  \u001b[0;32mor\u001b[0m \u001b[0mflag\u001b[0m\u001b[0;34m==\u001b[0m\u001b[0;34m\"uj\"\u001b[0m \u001b[0;32mor\u001b[0m \u001b[0mword\u001b[0m\u001b[0;34m==\u001b[0m\u001b[0;34m\"年\"\u001b[0m\u001b[0;32mor\u001b[0m \u001b[0mword\u001b[0m\u001b[0;34m==\u001b[0m\u001b[0;34m\"月\"\u001b[0m\u001b[0;32mor\u001b[0m \u001b[0mword\u001b[0m\u001b[0;34m==\u001b[0m\u001b[0;34m\"日\"\u001b[0m \u001b[0;34m:\u001b[0m\u001b[0;34m\u001b[0m\u001b[0;34m\u001b[0m\u001b[0m\n",
      "\u001b[0;32m~/miniconda3/lib/python3.7/site-packages/jieba/posseg/__init__.py\u001b[0m in \u001b[0;36mcut\u001b[0;34m(sentence, HMM)\u001b[0m\n\u001b[1;32m    279\u001b[0m     \u001b[0;32mglobal\u001b[0m \u001b[0mdt\u001b[0m\u001b[0;34m\u001b[0m\u001b[0;34m\u001b[0m\u001b[0m\n\u001b[1;32m    280\u001b[0m     \u001b[0;32mif\u001b[0m \u001b[0mjieba\u001b[0m\u001b[0;34m.\u001b[0m\u001b[0mpool\u001b[0m \u001b[0;32mis\u001b[0m \u001b[0;32mNone\u001b[0m\u001b[0;34m:\u001b[0m\u001b[0;34m\u001b[0m\u001b[0;34m\u001b[0m\u001b[0m\n\u001b[0;32m--> 281\u001b[0;31m         \u001b[0;32mfor\u001b[0m \u001b[0mw\u001b[0m \u001b[0;32min\u001b[0m \u001b[0mdt\u001b[0m\u001b[0;34m.\u001b[0m\u001b[0mcut\u001b[0m\u001b[0;34m(\u001b[0m\u001b[0msentence\u001b[0m\u001b[0;34m,\u001b[0m \u001b[0mHMM\u001b[0m\u001b[0;34m=\u001b[0m\u001b[0mHMM\u001b[0m\u001b[0;34m)\u001b[0m\u001b[0;34m:\u001b[0m\u001b[0;34m\u001b[0m\u001b[0;34m\u001b[0m\u001b[0m\n\u001b[0m\u001b[1;32m    282\u001b[0m             \u001b[0;32myield\u001b[0m \u001b[0mw\u001b[0m\u001b[0;34m\u001b[0m\u001b[0;34m\u001b[0m\u001b[0m\n\u001b[1;32m    283\u001b[0m     \u001b[0;32melse\u001b[0m\u001b[0;34m:\u001b[0m\u001b[0;34m\u001b[0m\u001b[0;34m\u001b[0m\u001b[0m\n",
      "\u001b[0;32m~/miniconda3/lib/python3.7/site-packages/jieba/posseg/__init__.py\u001b[0m in \u001b[0;36mcut\u001b[0;34m(self, sentence, HMM)\u001b[0m\n\u001b[1;32m    247\u001b[0m \u001b[0;34m\u001b[0m\u001b[0m\n\u001b[1;32m    248\u001b[0m     \u001b[0;32mdef\u001b[0m \u001b[0mcut\u001b[0m\u001b[0;34m(\u001b[0m\u001b[0mself\u001b[0m\u001b[0;34m,\u001b[0m \u001b[0msentence\u001b[0m\u001b[0;34m,\u001b[0m \u001b[0mHMM\u001b[0m\u001b[0;34m=\u001b[0m\u001b[0;32mTrue\u001b[0m\u001b[0;34m)\u001b[0m\u001b[0;34m:\u001b[0m\u001b[0;34m\u001b[0m\u001b[0;34m\u001b[0m\u001b[0m\n\u001b[0;32m--> 249\u001b[0;31m         \u001b[0;32mfor\u001b[0m \u001b[0mw\u001b[0m \u001b[0;32min\u001b[0m \u001b[0mself\u001b[0m\u001b[0;34m.\u001b[0m\u001b[0m__cut_internal\u001b[0m\u001b[0;34m(\u001b[0m\u001b[0msentence\u001b[0m\u001b[0;34m,\u001b[0m \u001b[0mHMM\u001b[0m\u001b[0;34m=\u001b[0m\u001b[0mHMM\u001b[0m\u001b[0;34m)\u001b[0m\u001b[0;34m:\u001b[0m\u001b[0;34m\u001b[0m\u001b[0;34m\u001b[0m\u001b[0m\n\u001b[0m\u001b[1;32m    250\u001b[0m             \u001b[0;32myield\u001b[0m \u001b[0mw\u001b[0m\u001b[0;34m\u001b[0m\u001b[0;34m\u001b[0m\u001b[0m\n\u001b[1;32m    251\u001b[0m \u001b[0;34m\u001b[0m\u001b[0m\n",
      "\u001b[0;32m~/miniconda3/lib/python3.7/site-packages/jieba/posseg/__init__.py\u001b[0m in \u001b[0;36m__cut_internal\u001b[0;34m(self, sentence, HMM)\u001b[0m\n\u001b[1;32m    224\u001b[0m         \u001b[0;32mfor\u001b[0m \u001b[0mblk\u001b[0m \u001b[0;32min\u001b[0m \u001b[0mblocks\u001b[0m\u001b[0;34m:\u001b[0m\u001b[0;34m\u001b[0m\u001b[0;34m\u001b[0m\u001b[0m\n\u001b[1;32m    225\u001b[0m             \u001b[0;32mif\u001b[0m \u001b[0mre_han_internal\u001b[0m\u001b[0;34m.\u001b[0m\u001b[0mmatch\u001b[0m\u001b[0;34m(\u001b[0m\u001b[0mblk\u001b[0m\u001b[0;34m)\u001b[0m\u001b[0;34m:\u001b[0m\u001b[0;34m\u001b[0m\u001b[0;34m\u001b[0m\u001b[0m\n\u001b[0;32m--> 226\u001b[0;31m                 \u001b[0;32mfor\u001b[0m \u001b[0mword\u001b[0m \u001b[0;32min\u001b[0m \u001b[0mcut_blk\u001b[0m\u001b[0;34m(\u001b[0m\u001b[0mblk\u001b[0m\u001b[0;34m)\u001b[0m\u001b[0;34m:\u001b[0m\u001b[0;34m\u001b[0m\u001b[0;34m\u001b[0m\u001b[0m\n\u001b[0m\u001b[1;32m    227\u001b[0m                     \u001b[0;32myield\u001b[0m \u001b[0mword\u001b[0m\u001b[0;34m\u001b[0m\u001b[0;34m\u001b[0m\u001b[0m\n\u001b[1;32m    228\u001b[0m             \u001b[0;32melse\u001b[0m\u001b[0;34m:\u001b[0m\u001b[0;34m\u001b[0m\u001b[0;34m\u001b[0m\u001b[0m\n",
      "\u001b[0;32m~/miniconda3/lib/python3.7/site-packages/jieba/posseg/__init__.py\u001b[0m in \u001b[0;36m__cut_DAG\u001b[0;34m(self, sentence)\u001b[0m\n\u001b[1;32m    207\u001b[0m             \u001b[0;32melif\u001b[0m \u001b[0;32mnot\u001b[0m \u001b[0mself\u001b[0m\u001b[0;34m.\u001b[0m\u001b[0mtokenizer\u001b[0m\u001b[0;34m.\u001b[0m\u001b[0mFREQ\u001b[0m\u001b[0;34m.\u001b[0m\u001b[0mget\u001b[0m\u001b[0;34m(\u001b[0m\u001b[0mbuf\u001b[0m\u001b[0;34m)\u001b[0m\u001b[0;34m:\u001b[0m\u001b[0;34m\u001b[0m\u001b[0;34m\u001b[0m\u001b[0m\n\u001b[1;32m    208\u001b[0m                 \u001b[0mrecognized\u001b[0m \u001b[0;34m=\u001b[0m \u001b[0mself\u001b[0m\u001b[0;34m.\u001b[0m\u001b[0m__cut_detail\u001b[0m\u001b[0;34m(\u001b[0m\u001b[0mbuf\u001b[0m\u001b[0;34m)\u001b[0m\u001b[0;34m\u001b[0m\u001b[0;34m\u001b[0m\u001b[0m\n\u001b[0;32m--> 209\u001b[0;31m                 \u001b[0;32mfor\u001b[0m \u001b[0mt\u001b[0m \u001b[0;32min\u001b[0m \u001b[0mrecognized\u001b[0m\u001b[0;34m:\u001b[0m\u001b[0;34m\u001b[0m\u001b[0;34m\u001b[0m\u001b[0m\n\u001b[0m\u001b[1;32m    210\u001b[0m                     \u001b[0;32myield\u001b[0m \u001b[0mt\u001b[0m\u001b[0;34m\u001b[0m\u001b[0;34m\u001b[0m\u001b[0m\n\u001b[1;32m    211\u001b[0m             \u001b[0;32melse\u001b[0m\u001b[0;34m:\u001b[0m\u001b[0;34m\u001b[0m\u001b[0;34m\u001b[0m\u001b[0m\n",
      "\u001b[0;32m~/miniconda3/lib/python3.7/site-packages/jieba/posseg/__init__.py\u001b[0m in \u001b[0;36m__cut_detail\u001b[0;34m(self, sentence)\u001b[0m\n\u001b[1;32m    137\u001b[0m         \u001b[0;32mfor\u001b[0m \u001b[0mblk\u001b[0m \u001b[0;32min\u001b[0m \u001b[0mblocks\u001b[0m\u001b[0;34m:\u001b[0m\u001b[0;34m\u001b[0m\u001b[0;34m\u001b[0m\u001b[0m\n\u001b[1;32m    138\u001b[0m             \u001b[0;32mif\u001b[0m \u001b[0mre_han_detail\u001b[0m\u001b[0;34m.\u001b[0m\u001b[0mmatch\u001b[0m\u001b[0;34m(\u001b[0m\u001b[0mblk\u001b[0m\u001b[0;34m)\u001b[0m\u001b[0;34m:\u001b[0m\u001b[0;34m\u001b[0m\u001b[0;34m\u001b[0m\u001b[0m\n\u001b[0;32m--> 139\u001b[0;31m                 \u001b[0;32mfor\u001b[0m \u001b[0mword\u001b[0m \u001b[0;32min\u001b[0m \u001b[0mself\u001b[0m\u001b[0;34m.\u001b[0m\u001b[0m__cut\u001b[0m\u001b[0;34m(\u001b[0m\u001b[0mblk\u001b[0m\u001b[0;34m)\u001b[0m\u001b[0;34m:\u001b[0m\u001b[0;34m\u001b[0m\u001b[0;34m\u001b[0m\u001b[0m\n\u001b[0m\u001b[1;32m    140\u001b[0m                     \u001b[0;32myield\u001b[0m \u001b[0mword\u001b[0m\u001b[0;34m\u001b[0m\u001b[0;34m\u001b[0m\u001b[0m\n\u001b[1;32m    141\u001b[0m             \u001b[0;32melse\u001b[0m\u001b[0;34m:\u001b[0m\u001b[0;34m\u001b[0m\u001b[0;34m\u001b[0m\u001b[0m\n",
      "\u001b[0;32m~/miniconda3/lib/python3.7/site-packages/jieba/posseg/__init__.py\u001b[0m in \u001b[0;36m__cut\u001b[0;34m(self, sentence)\u001b[0m\n\u001b[1;32m    117\u001b[0m     \u001b[0;32mdef\u001b[0m \u001b[0m__cut\u001b[0m\u001b[0;34m(\u001b[0m\u001b[0mself\u001b[0m\u001b[0;34m,\u001b[0m \u001b[0msentence\u001b[0m\u001b[0;34m)\u001b[0m\u001b[0;34m:\u001b[0m\u001b[0;34m\u001b[0m\u001b[0;34m\u001b[0m\u001b[0m\n\u001b[1;32m    118\u001b[0m         prob, pos_list = viterbi(\n\u001b[0;32m--> 119\u001b[0;31m             sentence, char_state_tab_P, start_P, trans_P, emit_P)\n\u001b[0m\u001b[1;32m    120\u001b[0m         \u001b[0mbegin\u001b[0m\u001b[0;34m,\u001b[0m \u001b[0mnexti\u001b[0m \u001b[0;34m=\u001b[0m \u001b[0;36m0\u001b[0m\u001b[0;34m,\u001b[0m \u001b[0;36m0\u001b[0m\u001b[0;34m\u001b[0m\u001b[0;34m\u001b[0m\u001b[0m\n\u001b[1;32m    121\u001b[0m \u001b[0;34m\u001b[0m\u001b[0m\n",
      "\u001b[0;32m~/miniconda3/lib/python3.7/site-packages/jieba/posseg/viterbi.py\u001b[0m in \u001b[0;36mviterbi\u001b[0;34m(obs, states, start_p, trans_p, emit_p)\u001b[0m\n\u001b[1;32m     36\u001b[0m         \u001b[0;32mfor\u001b[0m \u001b[0my\u001b[0m \u001b[0;32min\u001b[0m \u001b[0mobs_states\u001b[0m\u001b[0;34m:\u001b[0m\u001b[0;34m\u001b[0m\u001b[0;34m\u001b[0m\u001b[0m\n\u001b[1;32m     37\u001b[0m             prob, state = max((V[t - 1][y0] + trans_p[y0].get(y, MIN_INF) +\n\u001b[0;32m---> 38\u001b[0;31m                                emit_p[y].get(obs[t], MIN_FLOAT), y0) for y0 in prev_states)\n\u001b[0m\u001b[1;32m     39\u001b[0m             \u001b[0mV\u001b[0m\u001b[0;34m[\u001b[0m\u001b[0mt\u001b[0m\u001b[0;34m]\u001b[0m\u001b[0;34m[\u001b[0m\u001b[0my\u001b[0m\u001b[0;34m]\u001b[0m \u001b[0;34m=\u001b[0m \u001b[0mprob\u001b[0m\u001b[0;34m\u001b[0m\u001b[0;34m\u001b[0m\u001b[0m\n\u001b[1;32m     40\u001b[0m             \u001b[0mmem_path\u001b[0m\u001b[0;34m[\u001b[0m\u001b[0mt\u001b[0m\u001b[0;34m]\u001b[0m\u001b[0;34m[\u001b[0m\u001b[0my\u001b[0m\u001b[0;34m]\u001b[0m \u001b[0;34m=\u001b[0m \u001b[0mstate\u001b[0m\u001b[0;34m\u001b[0m\u001b[0;34m\u001b[0m\u001b[0m\n",
      "\u001b[0;32m~/miniconda3/lib/python3.7/site-packages/jieba/posseg/viterbi.py\u001b[0m in \u001b[0;36m<genexpr>\u001b[0;34m(.0)\u001b[0m\n\u001b[1;32m     36\u001b[0m         \u001b[0;32mfor\u001b[0m \u001b[0my\u001b[0m \u001b[0;32min\u001b[0m \u001b[0mobs_states\u001b[0m\u001b[0;34m:\u001b[0m\u001b[0;34m\u001b[0m\u001b[0;34m\u001b[0m\u001b[0m\n\u001b[1;32m     37\u001b[0m             prob, state = max((V[t - 1][y0] + trans_p[y0].get(y, MIN_INF) +\n\u001b[0;32m---> 38\u001b[0;31m                                emit_p[y].get(obs[t], MIN_FLOAT), y0) for y0 in prev_states)\n\u001b[0m\u001b[1;32m     39\u001b[0m             \u001b[0mV\u001b[0m\u001b[0;34m[\u001b[0m\u001b[0mt\u001b[0m\u001b[0;34m]\u001b[0m\u001b[0;34m[\u001b[0m\u001b[0my\u001b[0m\u001b[0;34m]\u001b[0m \u001b[0;34m=\u001b[0m \u001b[0mprob\u001b[0m\u001b[0;34m\u001b[0m\u001b[0;34m\u001b[0m\u001b[0m\n\u001b[1;32m     40\u001b[0m             \u001b[0mmem_path\u001b[0m\u001b[0;34m[\u001b[0m\u001b[0mt\u001b[0m\u001b[0;34m]\u001b[0m\u001b[0;34m[\u001b[0m\u001b[0my\u001b[0m\u001b[0;34m]\u001b[0m \u001b[0;34m=\u001b[0m \u001b[0mstate\u001b[0m\u001b[0;34m\u001b[0m\u001b[0;34m\u001b[0m\u001b[0m\n",
      "\u001b[0;31mKeyboardInterrupt\u001b[0m: "
     ]
    }
   ],
   "source": [
    "# ## 定义一个 list\n",
    "# L1 =list()\n",
    "# ## 获取带词性的词对象（没学过py不知道得到的是什么）\n",
    "# words1 = pseg.cut(label1)\n",
    "# i1=0\n",
    "# ## 遍历这个词对象\n",
    "# for word, flag in words1:\n",
    "#     ## 如果词性(flag)或者词(word)属于这个范围就直接跳过 自己填写\n",
    "#     if flag==\"x\" or flag==\"p\"  or flag==\"uj\" or word==\"年\"or word==\"月\"or word==\"日\" :\n",
    "#         continue\n",
    "#     ## 打印计数 为了区分程序是不是挂了\n",
    "#     i1=i1+1\n",
    "#     ##把词追加到list中\n",
    "#     L1.append(word)\n",
    "# ## 计算出现次数\n",
    "# getObj1 = Counter(L1)\n",
    "\n",
    "# ## 定义一个 list\n",
    "# L0 =list()\n",
    "# ## 获取带词性的词对象（没学过py不知道得到的是什么）\n",
    "# words0 = pseg.cut(label0)\n",
    "# i0=0\n",
    "# ## 遍历这个词对象\n",
    "# for word, flag in words0:\n",
    "#     ## 如果词性(flag)或者词(word)属于这个范围就直接跳过 自己填写\n",
    "#     if flag==\"x\" or flag==\"p\"  or flag==\"uj\" or word==\"年\"or word==\"月\"or word==\"日\" :\n",
    "#         continue\n",
    "#     ## 打印计数 为了区分程序是不是挂了\n",
    "#     i0=i0+1\n",
    "#     ##把词追加到list中\n",
    "#     L0.append(word)\n",
    "# ## 计算出现次数\n",
    "# getObj0 = Counter(L0)\n",
    "\n",
    "\n",
    "L2 =list()\n",
    "## 获取带词性的词对象（没学过py不知道得到的是什么）\n",
    "words2 = pseg.cut(label2)\n",
    "i2=0\n",
    "## 遍历这个词对象\n",
    "for word, flag in words2:\n",
    "    ## 如果词性(flag)或者词(word)属于这个范围就直接跳过 自己填写\n",
    "    if flag==\"x\" or flag==\"p\"  or flag==\"uj\" or word==\"年\"or word==\"月\"or word==\"日\" :\n",
    "        continue\n",
    "    ## 打印计数 为了区分程序是不是挂了\n",
    "    i2=i2+1\n",
    "    ##把词追加到list中\n",
    "    L2.append(word)\n",
    "## 计算出现次数\n",
    "getObj2 = Counter(L2)"
   ]
  },
  {
   "cell_type": "code",
   "execution_count": null,
   "metadata": {},
   "outputs": [],
   "source": [
    "getObj2"
   ]
  },
  {
   "cell_type": "code",
   "execution_count": null,
   "metadata": {},
   "outputs": [],
   "source": [
    "stopword0=['很','我', '不','人','菜','店','蛮','个','会','有点','会','时候','太','上','过','最','汤','量','肉','面','牛肉','少','饭','爱','个人','鸡','老','么','高','烤','甜','味','老公']"
   ]
  },
  {
   "cell_type": "code",
   "execution_count": null,
   "metadata": {},
   "outputs": [],
   "source": [
    "stopword1=['很','我', '不','人','菜','店','蛮','个','会','有点','会','时候','太','上','过','最','汤','量','肉','面','牛肉','少','饭','爱','个人','鸡','老','么','高','烤','甜','味','老公']"
   ]
  },
  {
   "cell_type": "code",
   "execution_count": null,
   "metadata": {},
   "outputs": [],
   "source": [
    "wc = wordcloud.WordCloud(font_path=\"font/simheittf.ttf\",\n",
    "                         width = 1000,\n",
    "                         height = 700,\n",
    "                         background_color='white',\n",
    "                         max_words=50)\n",
    "# msyh.ttc电脑本地字体，写可以写成绝对路径\n",
    "wc.generate(label1) # 加载词云文本\n",
    "wc.to_file(\"figure/dianping_1.png\") # 保存词云文件\n"
   ]
  },
  {
   "cell_type": "code",
   "execution_count": null,
   "metadata": {},
   "outputs": [],
   "source": []
  },
  {
   "cell_type": "code",
   "execution_count": 11,
   "metadata": {},
   "outputs": [
    {
     "data": {
      "text/plain": [
       "<wordcloud.wordcloud.WordCloud at 0x7f1fff6e9c88>"
      ]
     },
     "execution_count": 11,
     "metadata": {},
     "output_type": "execute_result"
    }
   ],
   "source": [
    "wc = wordcloud.WordCloud(font_path=\"font/simheittf.ttf\",\n",
    "                         width = 1000,\n",
    "                         height = 700,\n",
    "                         background_color='white',\n",
    "                         max_words=50)\n",
    "# msyh.ttc电脑本地字体，写可以写成绝对路径\n",
    "wc.generate(label0) # 加载词云文本\n",
    "wc.to_file(\"figure/dianping_0.png\") # 保存词云文件"
   ]
  },
  {
   "cell_type": "code",
   "execution_count": null,
   "metadata": {},
   "outputs": [],
   "source": []
  },
  {
   "cell_type": "code",
   "execution_count": 15,
   "metadata": {},
   "outputs": [],
   "source": [
    "path1 = \"../data/AZ/\"\n",
    "path2 = \"../data/ON/\"\n",
    "path4 = \"../data/NV/\"\n",
    "\n",
    "itemid1 = pd.read_csv(path1+\"itemID.txt\",sep=\"\\n\",header=None)\n",
    "concepts1 = pd.read_csv(path1+\"concepts.txt\",sep=\"\\n\",header=None)\n",
    "label1 =  pd.read_csv(path1+\"label.txt\",sep=\"\\n\",header=None)\n",
    "frame1 = [itemid1,concepts1, label1]\n",
    "data1 = pd.concat(frame1,axis = 1)\n",
    "data1.columns=['itemid','concepts','label']\n",
    "\n",
    "itemid2 = pd.read_csv(path2+\"itemID.txt\",sep=\"\\n\",header=None)\n",
    "concepts2 = pd.read_csv(path2+\"concepts.txt\",sep=\"\\n\",header=None)\n",
    "label2 =  pd.read_csv(path2+\"label.txt\",sep=\"\\n\",header=None)\n",
    "frame2 = [itemid2,concepts2, label2]\n",
    "data2 = pd.concat(frame2,axis = 1)\n",
    "data2.columns=['itemid','concepts','label']\n",
    "\n",
    "itemid4 = pd.read_csv(path4+\"itemID.txt\",sep=\"\\n\",header=None)\n",
    "concepts4 = pd.read_csv(path4+\"concepts.txt\",sep=\"\\n\",header=None)\n",
    "label4 =  pd.read_csv(path4+\"label.txt\",sep=\"\\n\",header=None)\n",
    "frame4 = [itemid4,concepts4, label4]\n",
    "data4 = pd.concat(frame4,axis = 1)\n",
    "data4.columns=['itemid','concepts','label']"
   ]
  },
  {
   "cell_type": "code",
   "execution_count": 18,
   "metadata": {},
   "outputs": [],
   "source": [
    "frame = [data1,data2, data4]\n",
    "data = pd.concat(frame,axis = 0)\n",
    "# data2.columns=['itemid','concepts','label']\n",
    "data.dropna()\n",
    "label0 = ''\n",
    "label1 = ''\n",
    "label2 = ''\n",
    "for index, row in data.iterrows():\n",
    "#     if row['label'] == 1 :\n",
    "#         label1 += '\\t' + str(row['concepts'])\n",
    "#     else :\n",
    "#         label0 += '\\t' + str(row['concepts'])\n",
    "    label2 += '\\t' + str(row['concepts'])\n",
    "# L2 =list()\n",
    "## 获取带词性的词对象（没学过py不知道得到的是什么）\n",
    "# words2 = pseg.cut(label2)\n",
    "# i2=0\n",
    "# ## 遍历这个词对象\n",
    "# for word, flag in words2:\n",
    "#     ## 如果词性(flag)或者词(word)属于这个范围就直接跳过 自己填写\n",
    "#     if flag==\"x\" or flag==\"p\"  or flag==\"uj\" or word==\"年\"or word==\"月\"or word==\"日\" :\n",
    "#         continue\n",
    "#     ## 打印计数 为了区分程序是不是挂了\n",
    "#     i2=i2+1\n",
    "#     ##把词追加到list中\n",
    "#     L2.append(word)\n",
    "# ## 计算出现次数\n",
    "# getObj2 = Counter(L2)"
   ]
  },
  {
   "cell_type": "code",
   "execution_count": 19,
   "metadata": {},
   "outputs": [
    {
     "data": {
      "text/plain": [
       "<wordcloud.wordcloud.WordCloud at 0x7f794fd09438>"
      ]
     },
     "execution_count": 19,
     "metadata": {},
     "output_type": "execute_result"
    }
   ],
   "source": [
    "wc = wordcloud.WordCloud(font_path=\"font/simheittf.ttf\",\n",
    "                         width = 1000,\n",
    "                         height = 700,\n",
    "                         background_color='white',\n",
    "                         max_words=50)\n",
    "# msyh.ttc电脑本地字体，写可以写成绝对路径\n",
    "wc.generate(label2) # 加载词云文本\n",
    "wc.to_file(\"figure/yelp_cloud.png\") # 保存词云文件"
   ]
  }
 ],
 "metadata": {
  "kernelspec": {
   "display_name": "Python 3",
   "language": "python",
   "name": "python3"
  },
  "language_info": {
   "codemirror_mode": {
    "name": "ipython",
    "version": 3
   },
   "file_extension": ".py",
   "mimetype": "text/x-python",
   "name": "python",
   "nbconvert_exporter": "python",
   "pygments_lexer": "ipython3",
   "version": "3.7.3"
  }
 },
 "nbformat": 4,
 "nbformat_minor": 4
}
