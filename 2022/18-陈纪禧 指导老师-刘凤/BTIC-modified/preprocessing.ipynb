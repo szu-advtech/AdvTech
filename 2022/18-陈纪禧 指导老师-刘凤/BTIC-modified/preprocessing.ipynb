{
 "cells": [
  {
   "cell_type": "markdown",
   "metadata": {},
   "source": [
    "### 为每行数据找到相似度最高的新闻\n",
    "结果存在 new 后缀的表中"
   ]
  },
  {
   "cell_type": "code",
   "execution_count": 1,
   "metadata": {
    "collapsed": true
   },
   "outputs": [],
   "source": [
    "import os\n",
    "import pandas as pd\n",
    "import numpy as np\n",
    "from tqdm import tqdm\n",
    "import spacy\n",
    "image_path = '/data1/cjx/fakeddit_images'\n",
    "data_path = './fakeddit'\n",
    "save_path = './fakeddit'\n",
    "train_path = f\"{data_path}/train.tsv\"\n",
    "valid_path = f\"{data_path}/valid.tsv\"\n",
    "test_path = f\"{data_path}/test.tsv\"\n",
    "train_df = pd.read_csv(train_path, sep='\\t')\n",
    "valid_df = pd.read_csv(valid_path, sep='\\t')\n",
    "test_df = pd.read_csv(test_path, sep='\\t')"
   ]
  },
  {
   "cell_type": "code",
   "execution_count": 2,
   "metadata": {},
   "outputs": [
    {
     "name": "stdout",
     "output_type": "stream",
     "text": [
      "(28180, 16)\n",
      "(2965, 16)\n",
      "(2964, 16)\n"
     ]
    }
   ],
   "source": [
    "print(train_df.shape)\n",
    "print(valid_df.shape)\n",
    "print(test_df.shape)"
   ]
  },
  {
   "cell_type": "code",
   "execution_count": 3,
   "metadata": {},
   "outputs": [],
   "source": [
    "spload = spacy.load('en_core_web_trf')"
   ]
  },
  {
   "cell_type": "code",
   "execution_count": 20,
   "metadata": {},
   "outputs": [],
   "source": [
    "import warnings\n",
    "warnings.filterwarnings(\"ignore\")\n",
    "\n",
    "def new_data(data_frame: pd.DataFrame):\n",
    "    df1 = data_frame[data_frame['2_way_label'] == 1].reset_index(drop=True)\n",
    "    df0 = data_frame[data_frame['2_way_label'] == 0].reset_index(drop=True)\n",
    "\n",
    "    df1_spacy = [spload(data['title']) for i, data in df1.iterrows()]\n",
    "    df0_spacy = [spload(data['title']) for i, data in df0.iterrows()]\n",
    "\n",
    "    # 各取第五个\n",
    "    k = 5\n",
    "    k1 = df1['id'][k]\n",
    "    k0 = df0['id'][k]\n",
    "    start_df = data_frame.loc[data_frame.isin([k1, k0]).any(axis=1)]\n",
    "    # 取最后一个 index\n",
    "    s = start_df.index[-1]\n",
    "    \n",
    "    reff = pd.DataFrame()\n",
    "    for i in tqdm(range(s, len(data_frame))):\n",
    "        # 遍历 df\n",
    "        title_I = data_frame['title'][i]\n",
    "        doc = spload(title_I)\n",
    "\n",
    "        # 取出在本条数据之前的所有数据\n",
    "        ref1 = df1[(df1.index < i)]\n",
    "        ref0 = df0[(df0.index < i)]\n",
    "        # 将之前的所有数据都与本数据的 title，计算相似度\n",
    "        ref1_sim = [doc.similarity(df1_spacy[j]) for j in range(len(ref1))]\n",
    "        ref0_sim = [doc.similarity(df0_spacy[j]) for j in range(len(ref0))]\n",
    "\n",
    "        ref1['sim'] = ref1_sim\n",
    "        ref0['sim'] = ref0_sim\n",
    "\n",
    "        # 按 title 相似度进行降序排序，取前五个\n",
    "        ref1_id = ref1.sort_values(by=['sim'], ascending=False).head(k)['id']\n",
    "        # 将拼接完后的数据转为一行，并加上列名\n",
    "        ref1_list = ref1_id.to_frame().T\n",
    "        ref1_list.columns = ['i11', 'i12', 'i13', 'i14', 'i15']\n",
    "\n",
    "        ref0_id = ref0.sort_values(by=['sim'], ascending=False).head(k)['id']\n",
    "        ref0_list = ref0_id.to_frame().T\n",
    "        ref0_list.columns = ['i01', 'i02', 'i03', 'i04', 'i05']\n",
    "\n",
    "        # 至此，每条数据都在真假新闻中找到了最相似的各 5 条\n",
    "        # 将这 10 条的信息全都存在同一行里，通过 id 来索引出这些数据\n",
    "        ref = pd.concat([ref1_list, ref0_list], axis=1).reset_index(drop=True)\n",
    "        ref['Id'] = data_frame['id'][i]\n",
    "        reff = pd.concat([reff, ref], axis=0)\n",
    "    \n",
    "    reff.reset_index(drop=True)\n",
    "    return reff"
   ]
  },
  {
   "cell_type": "code",
   "execution_count": 25,
   "metadata": {},
   "outputs": [
    {
     "name": "stderr",
     "output_type": "stream",
     "text": [
      "100%|██████████| 282/282 [00:10<00:00, 26.03it/s]\n"
     ]
    }
   ],
   "source": [
    "# 先取子集测试一下\n",
    "sample_test = test_df.sample(frac=0.1).reset_index(drop=True)\n",
    "sample_test_new_df = new_data(sample_test)\n",
    "sample_test_new_df"
   ]
  },
  {
   "cell_type": "code",
   "execution_count": 27,
   "metadata": {},
   "outputs": [
    {
     "name": "stderr",
     "output_type": "stream",
     "text": [
      "100%|██████████| 2953/2953 [03:06<00:00, 15.84it/s]\n"
     ]
    }
   ],
   "source": [
    "test_new_df = new_data(test_df)\n",
    "test_new_df.to_csv(f\"{data_path}/test_new.tsv\", sep='\\t', index=False)\n",
    "test_new_df"
   ]
  },
  {
   "cell_type": "code",
   "execution_count": 30,
   "metadata": {},
   "outputs": [
    {
     "name": "stderr",
     "output_type": "stream",
     "text": [
      "100%|██████████| 2949/2949 [03:06<00:00, 15.81it/s]\n"
     ]
    },
    {
     "data": {
      "text/html": [
       "<div>\n",
       "<style scoped>\n",
       "    .dataframe tbody tr th:only-of-type {\n",
       "        vertical-align: middle;\n",
       "    }\n",
       "\n",
       "    .dataframe tbody tr th {\n",
       "        vertical-align: top;\n",
       "    }\n",
       "\n",
       "    .dataframe thead th {\n",
       "        text-align: right;\n",
       "    }\n",
       "</style>\n",
       "<table border=\"1\" class=\"dataframe\">\n",
       "  <thead>\n",
       "    <tr style=\"text-align: right;\">\n",
       "      <th></th>\n",
       "      <th>i11</th>\n",
       "      <th>i12</th>\n",
       "      <th>i13</th>\n",
       "      <th>i14</th>\n",
       "      <th>i15</th>\n",
       "      <th>i01</th>\n",
       "      <th>i02</th>\n",
       "      <th>i03</th>\n",
       "      <th>i04</th>\n",
       "      <th>i05</th>\n",
       "      <th>Id</th>\n",
       "    </tr>\n",
       "  </thead>\n",
       "  <tbody>\n",
       "    <tr>\n",
       "      <th>0</th>\n",
       "      <td>d1zybe</td>\n",
       "      <td>bg0vzf</td>\n",
       "      <td>8gq24i</td>\n",
       "      <td>c7sq2z</td>\n",
       "      <td>64v0a6</td>\n",
       "      <td>c6fp7pw</td>\n",
       "      <td>djjw878</td>\n",
       "      <td>ckhqliy</td>\n",
       "      <td>brjk5i</td>\n",
       "      <td>2410qm</td>\n",
       "      <td>d1zybe</td>\n",
       "    </tr>\n",
       "    <tr>\n",
       "      <th>0</th>\n",
       "      <td>bg0vzf</td>\n",
       "      <td>bvey9g</td>\n",
       "      <td>37ld7z</td>\n",
       "      <td>74qnsg</td>\n",
       "      <td>cm1d43</td>\n",
       "      <td>90j5n3</td>\n",
       "      <td>c6fp7pw</td>\n",
       "      <td>d4mkm72</td>\n",
       "      <td>e4k481p</td>\n",
       "      <td>9diunr</td>\n",
       "      <td>90j5n3</td>\n",
       "    </tr>\n",
       "    <tr>\n",
       "      <th>0</th>\n",
       "      <td>bg3q34</td>\n",
       "      <td>bg0vzf</td>\n",
       "      <td>2249xx</td>\n",
       "      <td>cutrnx</td>\n",
       "      <td>37ld7z</td>\n",
       "      <td>c6fp7pw</td>\n",
       "      <td>djjw878</td>\n",
       "      <td>6uj9jf</td>\n",
       "      <td>e4k481p</td>\n",
       "      <td>9diunr</td>\n",
       "      <td>bg3q34</td>\n",
       "    </tr>\n",
       "    <tr>\n",
       "      <th>0</th>\n",
       "      <td>c61tn8</td>\n",
       "      <td>bg0vzf</td>\n",
       "      <td>2249xx</td>\n",
       "      <td>80a0gy</td>\n",
       "      <td>cutrnx</td>\n",
       "      <td>c6fp7pw</td>\n",
       "      <td>58597u</td>\n",
       "      <td>com1b8</td>\n",
       "      <td>6uj9jf</td>\n",
       "      <td>e4k481p</td>\n",
       "      <td>c61tn8</td>\n",
       "    </tr>\n",
       "    <tr>\n",
       "      <th>0</th>\n",
       "      <td>cbkt52</td>\n",
       "      <td>bg0vzf</td>\n",
       "      <td>9hkvc2</td>\n",
       "      <td>1gmzqo</td>\n",
       "      <td>80a0gy</td>\n",
       "      <td>c6fp7pw</td>\n",
       "      <td>djjw878</td>\n",
       "      <td>cnhvvaq</td>\n",
       "      <td>com1b8</td>\n",
       "      <td>6uj9jf</td>\n",
       "      <td>cbkt52</td>\n",
       "    </tr>\n",
       "    <tr>\n",
       "      <th>...</th>\n",
       "      <td>...</td>\n",
       "      <td>...</td>\n",
       "      <td>...</td>\n",
       "      <td>...</td>\n",
       "      <td>...</td>\n",
       "      <td>...</td>\n",
       "      <td>...</td>\n",
       "      <td>...</td>\n",
       "      <td>...</td>\n",
       "      <td>...</td>\n",
       "      <td>...</td>\n",
       "    </tr>\n",
       "    <tr>\n",
       "      <th>0</th>\n",
       "      <td>4a0ygz</td>\n",
       "      <td>bg0vzf</td>\n",
       "      <td>4v4weh</td>\n",
       "      <td>34bf5s</td>\n",
       "      <td>bnii28</td>\n",
       "      <td>c6fp7pw</td>\n",
       "      <td>8pz7mp</td>\n",
       "      <td>cnijpmt</td>\n",
       "      <td>d7jgkbj</td>\n",
       "      <td>c7xzcm8</td>\n",
       "      <td>4a0ygz</td>\n",
       "    </tr>\n",
       "    <tr>\n",
       "      <th>0</th>\n",
       "      <td>bg0vzf</td>\n",
       "      <td>b32v4z</td>\n",
       "      <td>34bf5s</td>\n",
       "      <td>bnii28</td>\n",
       "      <td>cpdb96</td>\n",
       "      <td>3a7685</td>\n",
       "      <td>c6fp7pw</td>\n",
       "      <td>8pz7mp</td>\n",
       "      <td>cnijpmt</td>\n",
       "      <td>d7jgkbj</td>\n",
       "      <td>3a7685</td>\n",
       "    </tr>\n",
       "    <tr>\n",
       "      <th>0</th>\n",
       "      <td>ctje18</td>\n",
       "      <td>b32v4z</td>\n",
       "      <td>34bf5s</td>\n",
       "      <td>bnii28</td>\n",
       "      <td>cpdb96</td>\n",
       "      <td>c6fp7pw</td>\n",
       "      <td>8pz7mp</td>\n",
       "      <td>cnijpmt</td>\n",
       "      <td>d7jgkbj</td>\n",
       "      <td>c7xzcm8</td>\n",
       "      <td>ctje18</td>\n",
       "    </tr>\n",
       "    <tr>\n",
       "      <th>0</th>\n",
       "      <td>bg0vzf</td>\n",
       "      <td>b32v4z</td>\n",
       "      <td>34bf5s</td>\n",
       "      <td>bnii28</td>\n",
       "      <td>cpdb96</td>\n",
       "      <td>c6trw3q</td>\n",
       "      <td>c6fp7pw</td>\n",
       "      <td>8pz7mp</td>\n",
       "      <td>cnijpmt</td>\n",
       "      <td>d7jgkbj</td>\n",
       "      <td>c6trw3q</td>\n",
       "    </tr>\n",
       "    <tr>\n",
       "      <th>0</th>\n",
       "      <td>bg0vzf</td>\n",
       "      <td>b32v4z</td>\n",
       "      <td>34bf5s</td>\n",
       "      <td>bnii28</td>\n",
       "      <td>cpdb96</td>\n",
       "      <td>6nbdov</td>\n",
       "      <td>8pz7mp</td>\n",
       "      <td>cnijpmt</td>\n",
       "      <td>d7jgkbj</td>\n",
       "      <td>c7xzcm8</td>\n",
       "      <td>6nbdov</td>\n",
       "    </tr>\n",
       "  </tbody>\n",
       "</table>\n",
       "<p>2949 rows × 11 columns</p>\n",
       "</div>"
      ],
      "text/plain": [
       "       i11     i12     i13     i14     i15      i01      i02      i03  \\\n",
       "0   d1zybe  bg0vzf  8gq24i  c7sq2z  64v0a6  c6fp7pw  djjw878  ckhqliy   \n",
       "0   bg0vzf  bvey9g  37ld7z  74qnsg  cm1d43   90j5n3  c6fp7pw  d4mkm72   \n",
       "0   bg3q34  bg0vzf  2249xx  cutrnx  37ld7z  c6fp7pw  djjw878   6uj9jf   \n",
       "0   c61tn8  bg0vzf  2249xx  80a0gy  cutrnx  c6fp7pw   58597u   com1b8   \n",
       "0   cbkt52  bg0vzf  9hkvc2  1gmzqo  80a0gy  c6fp7pw  djjw878  cnhvvaq   \n",
       "..     ...     ...     ...     ...     ...      ...      ...      ...   \n",
       "0   4a0ygz  bg0vzf  4v4weh  34bf5s  bnii28  c6fp7pw   8pz7mp  cnijpmt   \n",
       "0   bg0vzf  b32v4z  34bf5s  bnii28  cpdb96   3a7685  c6fp7pw   8pz7mp   \n",
       "0   ctje18  b32v4z  34bf5s  bnii28  cpdb96  c6fp7pw   8pz7mp  cnijpmt   \n",
       "0   bg0vzf  b32v4z  34bf5s  bnii28  cpdb96  c6trw3q  c6fp7pw   8pz7mp   \n",
       "0   bg0vzf  b32v4z  34bf5s  bnii28  cpdb96   6nbdov   8pz7mp  cnijpmt   \n",
       "\n",
       "        i04      i05       Id  \n",
       "0    brjk5i   2410qm   d1zybe  \n",
       "0   e4k481p   9diunr   90j5n3  \n",
       "0   e4k481p   9diunr   bg3q34  \n",
       "0    6uj9jf  e4k481p   c61tn8  \n",
       "0    com1b8   6uj9jf   cbkt52  \n",
       "..      ...      ...      ...  \n",
       "0   d7jgkbj  c7xzcm8   4a0ygz  \n",
       "0   cnijpmt  d7jgkbj   3a7685  \n",
       "0   d7jgkbj  c7xzcm8   ctje18  \n",
       "0   cnijpmt  d7jgkbj  c6trw3q  \n",
       "0   d7jgkbj  c7xzcm8   6nbdov  \n",
       "\n",
       "[2949 rows x 11 columns]"
      ]
     },
     "execution_count": 30,
     "metadata": {},
     "output_type": "execute_result"
    }
   ],
   "source": [
    "valid_new_df = new_data(valid_df)\n",
    "valid_new_df.to_csv(f\"{data_path}/valid_new.tsv\", sep='\\t', index=False)\n",
    "valid_new_df"
   ]
  },
  {
   "cell_type": "code",
   "execution_count": 31,
   "metadata": {},
   "outputs": [
    {
     "name": "stderr",
     "output_type": "stream",
     "text": [
      "100%|██████████| 28164/28164 [2:02:20<00:00,  3.84it/s]  \n"
     ]
    },
    {
     "data": {
      "text/html": [
       "<div>\n",
       "<style scoped>\n",
       "    .dataframe tbody tr th:only-of-type {\n",
       "        vertical-align: middle;\n",
       "    }\n",
       "\n",
       "    .dataframe tbody tr th {\n",
       "        vertical-align: top;\n",
       "    }\n",
       "\n",
       "    .dataframe thead th {\n",
       "        text-align: right;\n",
       "    }\n",
       "</style>\n",
       "<table border=\"1\" class=\"dataframe\">\n",
       "  <thead>\n",
       "    <tr style=\"text-align: right;\">\n",
       "      <th></th>\n",
       "      <th>i11</th>\n",
       "      <th>i12</th>\n",
       "      <th>i13</th>\n",
       "      <th>i14</th>\n",
       "      <th>i15</th>\n",
       "      <th>i01</th>\n",
       "      <th>i02</th>\n",
       "      <th>i03</th>\n",
       "      <th>i04</th>\n",
       "      <th>i05</th>\n",
       "      <th>Id</th>\n",
       "    </tr>\n",
       "  </thead>\n",
       "  <tbody>\n",
       "    <tr>\n",
       "      <th>0</th>\n",
       "      <td>3mec8i</td>\n",
       "      <td>73u8p7</td>\n",
       "      <td>aw55am</td>\n",
       "      <td>b0wuix</td>\n",
       "      <td>2my28w</td>\n",
       "      <td>c49r5ki</td>\n",
       "      <td>8bgzk5</td>\n",
       "      <td>cvt0if9</td>\n",
       "      <td>911dhn</td>\n",
       "      <td>b15ysv</td>\n",
       "      <td>3mec8i</td>\n",
       "    </tr>\n",
       "    <tr>\n",
       "      <th>0</th>\n",
       "      <td>73u8p7</td>\n",
       "      <td>4axhlf</td>\n",
       "      <td>c5zkjs</td>\n",
       "      <td>co6coo</td>\n",
       "      <td>1zv1pp</td>\n",
       "      <td>76tfzo</td>\n",
       "      <td>c49r5ki</td>\n",
       "      <td>9ejhpn</td>\n",
       "      <td>cj52438</td>\n",
       "      <td>cvvxm2e</td>\n",
       "      <td>76tfzo</td>\n",
       "    </tr>\n",
       "    <tr>\n",
       "      <th>0</th>\n",
       "      <td>73u8p7</td>\n",
       "      <td>aw55am</td>\n",
       "      <td>5n01a0</td>\n",
       "      <td>c5zkjs</td>\n",
       "      <td>co6coo</td>\n",
       "      <td>9gl4pk</td>\n",
       "      <td>c49r5ki</td>\n",
       "      <td>8bgzk5</td>\n",
       "      <td>c7yqrcx</td>\n",
       "      <td>cj52438</td>\n",
       "      <td>9gl4pk</td>\n",
       "    </tr>\n",
       "    <tr>\n",
       "      <th>0</th>\n",
       "      <td>b0lqoi</td>\n",
       "      <td>73u8p7</td>\n",
       "      <td>27kbqf</td>\n",
       "      <td>dgj3p2</td>\n",
       "      <td>5n01a0</td>\n",
       "      <td>c49r5ki</td>\n",
       "      <td>crul7za</td>\n",
       "      <td>c7dmel3</td>\n",
       "      <td>c7yqrcx</td>\n",
       "      <td>cj52438</td>\n",
       "      <td>b0lqoi</td>\n",
       "    </tr>\n",
       "    <tr>\n",
       "      <th>0</th>\n",
       "      <td>cy96p6</td>\n",
       "      <td>73u8p7</td>\n",
       "      <td>c3c7ek</td>\n",
       "      <td>12j182</td>\n",
       "      <td>dgj3p2</td>\n",
       "      <td>c49r5ki</td>\n",
       "      <td>8bgzk5</td>\n",
       "      <td>5c0yym</td>\n",
       "      <td>c7dmel3</td>\n",
       "      <td>c7yqrcx</td>\n",
       "      <td>cy96p6</td>\n",
       "    </tr>\n",
       "    <tr>\n",
       "      <th>...</th>\n",
       "      <td>...</td>\n",
       "      <td>...</td>\n",
       "      <td>...</td>\n",
       "      <td>...</td>\n",
       "      <td>...</td>\n",
       "      <td>...</td>\n",
       "      <td>...</td>\n",
       "      <td>...</td>\n",
       "      <td>...</td>\n",
       "      <td>...</td>\n",
       "      <td>...</td>\n",
       "    </tr>\n",
       "    <tr>\n",
       "      <th>0</th>\n",
       "      <td>c0jgjv</td>\n",
       "      <td>73u8p7</td>\n",
       "      <td>2urfsl</td>\n",
       "      <td>b5jnfe</td>\n",
       "      <td>5j9jdw</td>\n",
       "      <td>c49r5ki</td>\n",
       "      <td>cfjq5ow</td>\n",
       "      <td>d2vktma</td>\n",
       "      <td>589wih</td>\n",
       "      <td>6kiux3</td>\n",
       "      <td>c0jgjv</td>\n",
       "    </tr>\n",
       "    <tr>\n",
       "      <th>0</th>\n",
       "      <td>73u8p7</td>\n",
       "      <td>2urfsl</td>\n",
       "      <td>b5jnfe</td>\n",
       "      <td>5j9jdw</td>\n",
       "      <td>9gvtdu</td>\n",
       "      <td>7kchrw</td>\n",
       "      <td>c49r5ki</td>\n",
       "      <td>clury9f</td>\n",
       "      <td>cajzr6t</td>\n",
       "      <td>cjyyzts</td>\n",
       "      <td>7kchrw</td>\n",
       "    </tr>\n",
       "    <tr>\n",
       "      <th>0</th>\n",
       "      <td>arzzrg</td>\n",
       "      <td>73u8p7</td>\n",
       "      <td>2urfsl</td>\n",
       "      <td>b5jnfe</td>\n",
       "      <td>5j9jdw</td>\n",
       "      <td>c49r5ki</td>\n",
       "      <td>cfjq5ow</td>\n",
       "      <td>d2vktma</td>\n",
       "      <td>589wih</td>\n",
       "      <td>6kiux3</td>\n",
       "      <td>arzzrg</td>\n",
       "    </tr>\n",
       "    <tr>\n",
       "      <th>0</th>\n",
       "      <td>73u8p7</td>\n",
       "      <td>2urfsl</td>\n",
       "      <td>b5jnfe</td>\n",
       "      <td>5j9jdw</td>\n",
       "      <td>9gvtdu</td>\n",
       "      <td>axqv3u</td>\n",
       "      <td>cfjq5ow</td>\n",
       "      <td>d2vktma</td>\n",
       "      <td>589wih</td>\n",
       "      <td>6kiux3</td>\n",
       "      <td>axqv3u</td>\n",
       "    </tr>\n",
       "    <tr>\n",
       "      <th>0</th>\n",
       "      <td>awj3bc</td>\n",
       "      <td>2urfsl</td>\n",
       "      <td>b5jnfe</td>\n",
       "      <td>5j9jdw</td>\n",
       "      <td>9gvtdu</td>\n",
       "      <td>c49r5ki</td>\n",
       "      <td>cfjq5ow</td>\n",
       "      <td>d2vktma</td>\n",
       "      <td>589wih</td>\n",
       "      <td>6kiux3</td>\n",
       "      <td>awj3bc</td>\n",
       "    </tr>\n",
       "  </tbody>\n",
       "</table>\n",
       "<p>28164 rows × 11 columns</p>\n",
       "</div>"
      ],
      "text/plain": [
       "       i11     i12     i13     i14     i15      i01      i02      i03  \\\n",
       "0   3mec8i  73u8p7  aw55am  b0wuix  2my28w  c49r5ki   8bgzk5  cvt0if9   \n",
       "0   73u8p7  4axhlf  c5zkjs  co6coo  1zv1pp   76tfzo  c49r5ki   9ejhpn   \n",
       "0   73u8p7  aw55am  5n01a0  c5zkjs  co6coo   9gl4pk  c49r5ki   8bgzk5   \n",
       "0   b0lqoi  73u8p7  27kbqf  dgj3p2  5n01a0  c49r5ki  crul7za  c7dmel3   \n",
       "0   cy96p6  73u8p7  c3c7ek  12j182  dgj3p2  c49r5ki   8bgzk5   5c0yym   \n",
       "..     ...     ...     ...     ...     ...      ...      ...      ...   \n",
       "0   c0jgjv  73u8p7  2urfsl  b5jnfe  5j9jdw  c49r5ki  cfjq5ow  d2vktma   \n",
       "0   73u8p7  2urfsl  b5jnfe  5j9jdw  9gvtdu   7kchrw  c49r5ki  clury9f   \n",
       "0   arzzrg  73u8p7  2urfsl  b5jnfe  5j9jdw  c49r5ki  cfjq5ow  d2vktma   \n",
       "0   73u8p7  2urfsl  b5jnfe  5j9jdw  9gvtdu   axqv3u  cfjq5ow  d2vktma   \n",
       "0   awj3bc  2urfsl  b5jnfe  5j9jdw  9gvtdu  c49r5ki  cfjq5ow  d2vktma   \n",
       "\n",
       "        i04      i05      Id  \n",
       "0    911dhn   b15ysv  3mec8i  \n",
       "0   cj52438  cvvxm2e  76tfzo  \n",
       "0   c7yqrcx  cj52438  9gl4pk  \n",
       "0   c7yqrcx  cj52438  b0lqoi  \n",
       "0   c7dmel3  c7yqrcx  cy96p6  \n",
       "..      ...      ...     ...  \n",
       "0    589wih   6kiux3  c0jgjv  \n",
       "0   cajzr6t  cjyyzts  7kchrw  \n",
       "0    589wih   6kiux3  arzzrg  \n",
       "0    589wih   6kiux3  axqv3u  \n",
       "0    589wih   6kiux3  awj3bc  \n",
       "\n",
       "[28164 rows x 11 columns]"
      ]
     },
     "execution_count": 31,
     "metadata": {},
     "output_type": "execute_result"
    }
   ],
   "source": [
    "train_new_df = new_data(train_df)\n",
    "train_new_df.to_csv(f\"{data_path}/train_new.tsv\", sep='\\t', index=False)\n",
    "train_new_df"
   ]
  },
  {
   "cell_type": "markdown",
   "metadata": {},
   "source": [
    "### 为img进行切片，CNN会用到"
   ]
  },
  {
   "cell_type": "code",
   "execution_count": 1,
   "metadata": {},
   "outputs": [],
   "source": [
    "import pandas as pd\n",
    "import numpy as np\n",
    "import os\n",
    "from PIL import Image\n",
    "from tqdm import tqdm\n",
    "import torch\n",
    "import torch.nn as nn\n",
    "import torchvision.models as models\n",
    "from torchvision.models.resnet import ResNet50_Weights\n",
    "image_path = '/data1/cjx/fakeddit_images'\n",
    "data_path = './fakeddit'\n",
    "save_path = './fakeddit/images'\n",
    "train_path = f\"{data_path}/train.tsv\"\n",
    "valid_path = f\"{data_path}/valid.tsv\"\n",
    "test_path = f\"{data_path}/test.tsv\"\n",
    "train_df = pd.read_csv(train_path, sep='\\t')\n",
    "valid_df = pd.read_csv(valid_path, sep='\\t')\n",
    "test_df = pd.read_csv(test_path, sep='\\t')"
   ]
  },
  {
   "cell_type": "code",
   "execution_count": 6,
   "metadata": {},
   "outputs": [],
   "source": [
    "all_df = pd.concat([train_df, valid_df, test_df]).reset_index(drop=True)\n",
    "all_df.to_csv(f\"{data_path}/all_data.tsv\", sep='\\t', index=False)"
   ]
  },
  {
   "cell_type": "code",
   "execution_count": 20,
   "metadata": {},
   "outputs": [
    {
     "data": {
      "text/plain": [
       "array(['a man in a dinosaur costume throwing the first pitch at a baseball game',\n",
       "       'i have no position on woody allen'], dtype=object)"
      ]
     },
     "execution_count": 20,
     "metadata": {},
     "output_type": "execute_result"
    }
   ],
   "source": [
    "arr = all_df.iloc[np.array([1, 3, 4])].values\n",
    "arr[[0, 2], 1]"
   ]
  },
  {
   "cell_type": "code",
   "execution_count": 2,
   "metadata": {},
   "outputs": [
    {
     "data": {
      "text/plain": [
       "(34109,)"
      ]
     },
     "execution_count": 2,
     "metadata": {},
     "output_type": "execute_result"
    }
   ],
   "source": [
    "# all images\n",
    "id_arr = pd.concat([train_df[\"id\"], valid_df[\"id\"], test_df[\"id\"]]).values\n",
    "id_arr.shape"
   ]
  },
  {
   "cell_type": "code",
   "execution_count": 3,
   "metadata": {},
   "outputs": [
    {
     "data": {
      "text/plain": [
       "34109"
      ]
     },
     "execution_count": 3,
     "metadata": {},
     "output_type": "execute_result"
    }
   ],
   "source": [
    "image_ids = list(map(lambda image_id: f\"{image_path}/{image_id}.jpg\", id_arr))\n",
    "len(image_ids)"
   ]
  },
  {
   "cell_type": "code",
   "execution_count": 4,
   "metadata": {},
   "outputs": [],
   "source": [
    "resnet = models.resnet50(weights=ResNet50_Weights.IMAGENET1K_V1)\n",
    "resnet50 = nn.Sequential(*list(resnet.children())[:-1])\n",
    "\n",
    "for param in resnet50.parameters():\n",
    "    param.requires_grad = False"
   ]
  },
  {
   "cell_type": "code",
   "execution_count": 5,
   "metadata": {},
   "outputs": [],
   "source": [
    "def cut_image(image: Image):\n",
    "    width, height = image.size\n",
    "    item_width = int(width / 14)\n",
    "    box_list = []\n",
    "    # 与 vit 相同的 patch 数\n",
    "    for i in range(0, 14):\n",
    "        for j in range(0, 14):\n",
    "            box = (j * item_width, i * item_width, (j + 1) * item_width, (i + 1) * item_width)\n",
    "            box_list.append(box)\n",
    "    # box 只是 pixel index，得从img上切下来\n",
    "    patch_list = [np.array(image.crop(box)) for box in box_list]\n",
    "    return np.array(patch_list)"
   ]
  },
  {
   "cell_type": "code",
   "execution_count": 18,
   "metadata": {},
   "outputs": [],
   "source": [
    "# 用 0 图片测试一下\n",
    "img = Image.open(image_ids[0]).convert('RGB')\n",
    "img = img.resize((224, 224), Image.Resampling.LANCZOS)\n",
    "patch_list = cut_image(img)\n",
    "patches_tensor = torch.tensor(patch_list)\n",
    "patches_tensor = patches_tensor.permute(0, 3, 1, 2).float()\n",
    "patches_feature = resnet50(patches_tensor)\n",
    "# 压缩 patch\n",
    "patches_feature = patches_feature.squeeze(3).squeeze(2).numpy()"
   ]
  },
  {
   "cell_type": "code",
   "execution_count": 19,
   "metadata": {},
   "outputs": [
    {
     "data": {
      "image/png": "[encoded data removed]",
      "text/plain": [
       "<PIL.Image.Image image mode=RGB size=16x16>"
      ]
     },
     "execution_count": 19,
     "metadata": {},
     "output_type": "execute_result"
    }
   ],
   "source": [
    "patch0_img = Image.fromarray(patch_list[0].astype('uint8')).convert('RGB')\n",
    "patch0_img"
   ]
  },
  {
   "cell_type": "code",
   "execution_count": 6,
   "metadata": {},
   "outputs": [
    {
     "name": "stderr",
     "output_type": "stream",
     "text": [
      "  2%|▏         | 543/34109 [01:03<1:05:40,  8.52it/s]/data1/cjx/anaconda3/envs/multimodal-news/lib/python3.9/site-packages/PIL/Image.py:959: UserWarning: Palette images with Transparency expressed in bytes should be converted to RGBA images\n",
      "  warnings.warn(\n",
      "100%|██████████| 34109/34109 [1:12:42<00:00,  7.82it/s]\n"
     ]
    }
   ],
   "source": [
    "# def preprocess_all_images():\n",
    "all_patches_feature = []\n",
    "for image_id_path in tqdm(image_ids):\n",
    "    img = Image.open(image_id_path).convert('RGB')\n",
    "    img = img.resize((224, 224), Image.Resampling.LANCZOS)\n",
    "    patch_list = cut_image(img)\n",
    "    # (196, 16, 16, 3)\n",
    "    patches_tensor = torch.tensor(patch_list)\n",
    "    # (196, 3, 16, 16)\n",
    "    patches_tensor = patches_tensor.permute(0, 3, 1, 2).float()\n",
    "    patches_feature = resnet50(patches_tensor)\n",
    "    # (196, 2048)\n",
    "    patches_feature = patches_feature.squeeze(3).squeeze(2).numpy()\n",
    "    all_patches_feature.append(patches_feature)\n",
    "# 直接 ndarray\n",
    "images_196p = pd.DataFrame({'Id': id_arr.tolist(), 'img': all_patches_feature})"
   ]
  },
  {
   "cell_type": "code",
   "execution_count": 13,
   "metadata": {},
   "outputs": [],
   "source": [
    "np.save(f'{save_path}/image_196_for_r50.npy', images_196p)"
   ]
  },
  {
   "cell_type": "code",
   "execution_count": 10,
   "metadata": {},
   "outputs": [
    {
     "data": {
      "text/plain": [
       "(196, 2048)"
      ]
     },
     "execution_count": 10,
     "metadata": {},
     "output_type": "execute_result"
    }
   ],
   "source": [
    "img0_feature = images_196p[\"img\"].iloc[0]\n",
    "img0_feature.shape\n",
    "# (34109, (1, (196, 2048)))"
   ]
  },
  {
   "cell_type": "code",
   "execution_count": 3,
   "metadata": {},
   "outputs": [],
   "source": [
    "# 读出来成 df\n",
    "img_features = np.load(f'{save_path}/image_196_for_r50.npy', allow_pickle=True)"
   ]
  },
  {
   "cell_type": "code",
   "execution_count": 9,
   "metadata": {},
   "outputs": [
    {
     "data": {
      "text/plain": [
       "array(['c49r5ki', '73u8p7', '8bgzk5', ..., '5vuug0', 'ay8wtp', 'd3ie3qu'],\n",
       "      dtype=object)"
      ]
     },
     "execution_count": 9,
     "metadata": {},
     "output_type": "execute_result"
    }
   ],
   "source": [
    "img_features[:, 0]"
   ]
  },
  {
   "cell_type": "code",
   "execution_count": 15,
   "metadata": {},
   "outputs": [
    {
     "data": {
      "text/plain": [
       "array([-1, -1, -1, ..., -1, -1,  0])"
      ]
     },
     "execution_count": 15,
     "metadata": {},
     "output_type": "execute_result"
    }
   ],
   "source": [
    "result_arr = np.char.find(img_features[:, 0].astype(str), \"d3ie3qu\")\n",
    "result_arr"
   ]
  },
  {
   "cell_type": "code",
   "execution_count": 27,
   "metadata": {},
   "outputs": [
    {
     "data": {
      "text/plain": [
       "34108"
      ]
     },
     "execution_count": 27,
     "metadata": {},
     "output_type": "execute_result"
    }
   ],
   "source": [
    "feature_idx = int(np.argwhere(result_arr == 0))\n",
    "feature_idx"
   ]
  },
  {
   "cell_type": "code",
   "execution_count": 29,
   "metadata": {},
   "outputs": [
    {
     "data": {
      "text/plain": [
       "(196, 2048)"
      ]
     },
     "execution_count": 29,
     "metadata": {},
     "output_type": "execute_result"
    }
   ],
   "source": [
    "img_features[feature_idx, 1].shape"
   ]
  }
 ],
 "metadata": {
  "kernelspec": {
   "display_name": "Python 3.9.13 ('multimodal-news')",
   "language": "python",
   "name": "python3"
  },
  "language_info": {
   "codemirror_mode": {
    "name": "ipython",
    "version": 3
   },
   "file_extension": ".py",
   "mimetype": "text/x-python",
   "name": "python",
   "nbconvert_exporter": "python",
   "pygments_lexer": "ipython3",
   "version": "3.9.13"
  },
  "vscode": {
   "interpreter": {
    "hash": "b19eaab6f5589c69af14c8110ae73658b2e5efb4adb6b51dc73744cd84c54dc5"
   }
  }
 },
 "nbformat": 4,
 "nbformat_minor": 0
}
