{
 "cells": [
  {
   "cell_type": "code",
   "execution_count": 1,
   "id": "f477119e",
   "metadata": {},
   "outputs": [],
   "source": [
    "import re\n",
    "import random\n",
    "import numpy as np\n",
    "from tqdm import trange\n",
    "from newspaper import Article\n",
    "\n",
    "import torch\n",
    "from torch import nn\n",
    "from torch.nn import functional as F\n",
    "from torch.utils.data import DataLoader, TensorDataset\n",
    "\n",
    "from transformers.models import gpt2\n",
    "from transformers import GPT2Config, GPT2LMHeadModel\n",
    "\n",
    "import matplotlib.pyplot as plt\n",
    "%matplotlib inline"
   ]
  },
  {
   "cell_type": "code",
   "execution_count": 2,
   "id": "fcd8e376",
   "metadata": {},
   "outputs": [],
   "source": [
    "article = Article(\"https://en.wikipedia.org/wiki/India\")\n",
    "article.download()\n",
    "article.parse()"
   ]
  },
  {
   "cell_type": "code",
   "execution_count": 3,
   "id": "7f295624",
   "metadata": {},
   "outputs": [],
   "source": [
    "sample_text = re.sub(\"[^a-z0-9\\s]\", \"\", article.text.lower())"
   ]
  },
  {
   "cell_type": "code",
   "execution_count": 4,
   "id": "a8624c6f",
   "metadata": {},
   "outputs": [],
   "source": [
    "total_tokens = len(sample_text)\n",
    "unq = sorted(set(sample_text))\n",
    "vocab_size = len(unq)\n",
    "vocab = {k:i for i,k in enumerate(unq)}\n",
    "inv_vocab = {i:k for i,k in enumerate(unq)}\n",
    "# vocab"
   ]
  },
  {
   "cell_type": "code",
   "execution_count": 5,
   "id": "995a081a",
   "metadata": {},
   "outputs": [
    {
     "data": {
      "text/plain": [
       "746"
      ]
     },
     "execution_count": 5,
     "metadata": {},
     "output_type": "execute_result"
    }
   ],
   "source": [
    "batches = [sample_text[i:i+100] for i in range(0, len(sample_text), 100)][:-1]\n",
    "batches = torch.from_numpy(np.array([[vocab[y] for y in x] for x in batches])).long()\n",
    "ds = TensorDataset(batches)\n",
    "len(batches)"
   ]
  },
  {
   "cell_type": "code",
   "execution_count": 6,
   "id": "50cb274b",
   "metadata": {},
   "outputs": [
    {
     "data": {
      "text/plain": [
       "2864"
      ]
     },
     "execution_count": 6,
     "metadata": {},
     "output_type": "execute_result"
    }
   ],
   "source": [
    "tinyconf = GPT2Config(\n",
    "  vocab_size=vocab_size,\n",
    "  n_positions=batches.shape[-1],\n",
    "  n_ctx=batches.shape[-1],\n",
    "  n_embd=8,\n",
    "  n_layer=2,\n",
    "  n_head=2\n",
    ")\n",
    "model = GPT2LMHeadModel(tinyconf)\n",
    "model.init_weights()\n",
    "model.num_parameters()"
   ]
  },
  {
   "cell_type": "markdown",
   "id": "0593c63a",
   "metadata": {},
   "source": [
    "## Train `transformer`"
   ]
  },
  {
   "cell_type": "code",
   "execution_count": 68,
   "id": "1871707a",
   "metadata": {},
   "outputs": [
    {
     "name": "stderr",
     "output_type": "stream",
     "text": [
      "Loss: 2.492: 100%|██████████| 100/100 [01:52<00:00,  1.13s/it]\n"
     ]
    }
   ],
   "source": [
    "optim = torch.optim.Adam(model.parameters(), lr = 0.001)\n",
    "pbar = trange(100)\n",
    "all_losses = [-1]\n",
    "for _ in pbar:\n",
    "  dl = DataLoader(ds, shuffle = True, batch_size = 32)\n",
    "  for x in dl:\n",
    "    pbar.set_description(f\"Loss: {all_losses[-1]:.3f}\")\n",
    "    output = model(input_ids = x[0], labels = x[0])\n",
    "    all_losses.append(output.loss.item())\n",
    "    \n",
    "    optim.zero_grad()\n",
    "    output.loss.backward()\n",
    "    optim.step()"
   ]
  },
  {
   "cell_type": "code",
   "execution_count": 70,
   "id": "d4cea2d8",
   "metadata": {},
   "outputs": [
    {
     "data": {
      "text/plain": [
       "[<matplotlib.lines.Line2D at 0x1382642e0>]"
      ]
     },
     "execution_count": 70,
     "metadata": {},
     "output_type": "execute_result"
    },
    {
     "data": {
      "image/png": "[encoded data removed]",
      "text/plain": [
       "<Figure size 432x288 with 1 Axes>"
      ]
     },
     "metadata": {
      "needs_background": "light"
     },
     "output_type": "display_data"
    }
   ],
   "source": [
    "plt.plot(all_losses[1:])"
   ]
  },
  {
   "cell_type": "code",
   "execution_count": 8,
   "id": "c7a0a382",
   "metadata": {},
   "outputs": [
    {
     "name": "stderr",
     "output_type": "stream",
     "text": [
      "Setting `pad_token_id` to `eos_token_id`:50256 for open-end generation.\n"
     ]
    },
    {
     "name": "stdout",
     "output_type": "stream",
     "text": [
      "CPU times: user 216 ms, sys: 41 ms, total: 257 ms\n",
      "Wall time: 224 ms\n"
     ]
    }
   ],
   "source": [
    "%%time\n",
    "model.eval()\n",
    "outputs = model.generate(\n",
    "  input_ids = ds[0][0][:10].unsqueeze(0),\n",
    "  max_length=100,\n",
    "  do_sample=True,\n",
    "  num_return_sequences=10,\n",
    "  top_k=10,\n",
    "  top_p=0.9\n",
    ")"
   ]
  },
  {
   "cell_type": "code",
   "execution_count": 91,
   "id": "079f764b",
   "metadata": {},
   "outputs": [
    {
     "data": {
      "text/plain": [
       "['this artice alan ir tredentofre plistr we c',\n",
       " 'this artices ach a pin thindila thansiachas',\n",
       " 'this artice ciss adule on a cica onan a pun',\n",
       " 'this articitensthas ies t whin pertengelin ',\n",
       " 'this articre worinasad a artet bin pa cicof',\n",
       " 'this artices corlen iarenan ste orondis ill',\n",
       " 'this artic t bhin anistora of wirinanarac o',\n",
       " 'this articia bet t be thathiry pins tan o a',\n",
       " 'this articedadins com to blame b ofoled the',\n",
       " 'this articuried bing a of olof bofrinastis ']"
      ]
     },
     "execution_count": 91,
     "metadata": {},
     "output_type": "execute_result"
    }
   ],
   "source": [
    "[\"\".join([inv_vocab[x] for x in seq]) for seq in outputs.tolist()]"
   ]
  },
  {
   "cell_type": "code",
   "execution_count": 92,
   "id": "4b0e766f",
   "metadata": {},
   "outputs": [],
   "source": [
    "torch.save(model.state_dict(), \"./tinywiki.pt\")"
   ]
  },
  {
   "cell_type": "markdown",
   "id": "b8f5ce3c",
   "metadata": {},
   "source": [
    "## Train `LSTM`\n",
    "\n",
    "Train a small LSTM just to check can we actually train this thing correctly."
   ]
  },
  {
   "cell_type": "code",
   "execution_count": 7,
   "id": "54e9fbae",
   "metadata": {},
   "outputs": [],
   "source": [
    "class LSTMModel(nn.Module):\n",
    "  def __init__(self, config, n_layers):\n",
    "    super().__init__()\n",
    "    self.wte = nn.Embedding(config.vocab_size, config.n_embd)\n",
    "    self.lstm = nn.LSTM(config.n_embd, config.n_embd, num_layers = n_layers, batch_first = True, )\n",
    "    self.lm_head = nn.Linear(config.n_embd, config.vocab_size)\n",
    "    \n",
    "  def num_parameters(self):\n",
    "    return sum(p.numel() for p in self.parameters())\n",
    "    \n",
    "  def forward(self, input_ids, hidden_state):\n",
    "    emb = self.wte(input_ids)\n",
    "    emb, hidden_state = self.lstm(emb, hidden_state)\n",
    "    logits = self.lm_head(emb)\n",
    "    return logits, hidden_state"
   ]
  },
  {
   "cell_type": "code",
   "execution_count": 8,
   "id": "0592c890",
   "metadata": {},
   "outputs": [
    {
     "data": {
      "text/plain": [
       "2950"
      ]
     },
     "execution_count": 8,
     "metadata": {},
     "output_type": "execute_result"
    }
   ],
   "source": [
    "# n_layers = 4 gives the closes approximation to the\n",
    "# transformer model\n",
    "n_layers = 4\n",
    "model = LSTMModel(tinyconf, n_layers = n_layers)\n",
    "model.num_parameters()"
   ]
  },
  {
   "cell_type": "code",
   "execution_count": 9,
   "id": "6e9d6f3e",
   "metadata": {},
   "outputs": [
    {
     "name": "stderr",
     "output_type": "stream",
     "text": [
      "Loss: 2.308: 100%|██████████| 250/250 [07:01<00:00,  1.69s/it]\n"
     ]
    }
   ],
   "source": [
    "optim = torch.optim.Adam(model.parameters(), lr = 0.001)\n",
    "pbar = trange(250)\n",
    "all_losses = [-1]\n",
    "ds = TensorDataset(batches)\n",
    "num_directions = 2 if model.lstm.bidirectional else 1\n",
    "for _ in pbar:\n",
    "  dl = DataLoader(ds, shuffle = True, batch_size = 32)\n",
    "  for i, x in enumerate(dl):\n",
    "    x = x[0]\n",
    "    pbar.set_description(f\"Loss: {all_losses[-1]:.3f}\")\n",
    "\n",
    "    # there are 2 \"internal\" states of LSTM cell\n",
    "    #   - hidden_state: hidden state for each element of the batch\n",
    "    #   - cell_state: cell state for each element of the batch\n",
    "    # each having shape:\n",
    "    #   [num_layers * num_directions, batch, hidden_size]\n",
    "    hidden_state = [\n",
    "      torch.zeros((n_layers * num_directions, x.shape[0], tinyconf.n_embd)).float(),\n",
    "      torch.zeros((n_layers * num_directions, x.shape[0], tinyconf.n_embd)).float()\n",
    "    ]\n",
    "    # print(x[:, :-1].shape, [x.shape for x in hidden_state])\n",
    "    output, hidden_state = model(x[:, :-1], hidden_state)\n",
    "    labels = x[:, 1:].contiguous().view(-1)\n",
    "    output = output.contiguous().view(-1, output.shape[-1])\n",
    "    loss = F.cross_entropy(output, labels)\n",
    "      \n",
    "    all_losses.append(loss.item())\n",
    "\n",
    "    optim.zero_grad()\n",
    "    loss.backward()\n",
    "    optim.step()"
   ]
  },
  {
   "cell_type": "code",
   "execution_count": 10,
   "id": "53152ac4",
   "metadata": {},
   "outputs": [
    {
     "data": {
      "text/plain": [
       "[<matplotlib.lines.Line2D at 0x12eb68190>]"
      ]
     },
     "execution_count": 10,
     "metadata": {},
     "output_type": "execute_result"
    },
    {
     "data": {
      "image/png": "[encoded data removed]",
      "text/plain": [
       "<Figure size 432x288 with 1 Axes>"
      ]
     },
     "metadata": {
      "needs_background": "light"
     },
     "output_type": "display_data"
    }
   ],
   "source": [
    "plt.plot(all_losses[1:])"
   ]
  },
  {
   "cell_type": "code",
   "execution_count": null,
   "id": "22e83647",
   "metadata": {},
   "outputs": [],
   "source": [
    "hidden_state = [torch.randn((4, x.shape[1]-1, tinyconf.n_embd)).float() for _ in range(2)]"
   ]
  },
  {
   "cell_type": "code",
   "execution_count": 19,
   "id": "0c616b17",
   "metadata": {},
   "outputs": [
    {
     "data": {
      "text/plain": [
       "tensor([[31, 19, 20, 30,  1, 12, 29, 31, 20, 14]])"
      ]
     },
     "execution_count": 19,
     "metadata": {},
     "output_type": "execute_result"
    }
   ],
   "source": [
    "ds[0][0][:10].unsqueeze(0)"
   ]
  },
  {
   "cell_type": "code",
   "execution_count": 27,
   "id": "81465cca",
   "metadata": {},
   "outputs": [],
   "source": [
    "with torch.no_grad():\n",
    "  num_return_sequences = 10\n",
    "  hidden_state = [\n",
    "    torch.zeros((n_layers * num_directions, x.shape[0], tinyconf.n_embd)).float(),\n",
    "    torch.zeros((n_layers * num_directions, x.shape[0], tinyconf.n_embd)).float()\n",
    "  ]\n",
    "  input_ids = torch.tile(ds[0][0][:10], [num_return_sequences, 1])\n",
    "  for _ in range(43):\n",
    "    output, hidden_state = model(input_ids, hidden_state)\n",
    "    logits = output[:, -1].softmax(-1)\n",
    "    x = torch.multinomial(logits, 1)\n",
    "    input_ids = torch.cat([input_ids, x], dim = 1)"
   ]
  },
  {
   "cell_type": "code",
   "execution_count": 29,
   "id": "980c411a",
   "metadata": {},
   "outputs": [
    {
     "data": {
      "text/plain": [
       "['this articatcas thar mijghgfe gotity ihe ancal gn exc',\n",
       " 'this articlar thotiien of thg mal19\\n\\nanfal ar siordie',\n",
       " 'this articy cacicin as nnl jekiie whael tbior sin ihe',\n",
       " 'this articked gial to a tli sorantateoaupulmeg fsomtc',\n",
       " 'this articls4\\n30 pyliwan wolg ceraatkiudt yn girten i',\n",
       " 'this artich fentiants reciere notpernles maldeiene ka',\n",
       " 'this articiks al denatieriejral iher coplts cerderch ',\n",
       " 'this artice\\n\\nof 21 bhect srunnajih wtutebls enen in s',\n",
       " 'this artic sroopmert basamia oumion an ihhawatted mod',\n",
       " 'this articiuduss in \\nnaih jtartstgssek cotdurriopsoct']"
      ]
     },
     "execution_count": 29,
     "metadata": {},
     "output_type": "execute_result"
    }
   ],
   "source": [
    "[\"\".join([inv_vocab[x] for x in seq]) for seq in input_ids.tolist()]"
   ]
  },
  {
   "cell_type": "markdown",
   "id": "fab7cdd4",
   "metadata": {},
   "source": [
    "## Train `T2R`"
   ]
  },
  {
   "cell_type": "code",
   "execution_count": 9,
   "id": "1d0b49e5",
   "metadata": {},
   "outputs": [],
   "source": [
    "class RNNAttention(nn.Module):\n",
    "  # this is at the heart of T2R framework\n",
    "  def __init__(self, config):\n",
    "    super().__init__()\n",
    "    self.config = config\n",
    "    \n",
    "    nx = config.n_embd\n",
    "    \n",
    "    \n",
    "    self.c_attn = gpt2.modeling_gpt2.Conv1D(3 * nx, nx)\n",
    "    self.c_proj = gpt2.modeling_gpt2.Conv1D(nx, nx)\n",
    "\n",
    "    head_size = config.n_embd // config.n_head\n",
    "    nx_rnn = head_size\n",
    "    \n",
    "    self.phi = nn.Sequential(\n",
    "      nn.Linear(head_size, nx_rnn),\n",
    "      nn.ReLU()\n",
    "    )\n",
    "    \n",
    "  def split_heads(self, x, k=False):\n",
    "    new_x_shape = x.size()[:-1] + (self.config.n_head, x.size(-1) // self.config.n_head)\n",
    "    x = x.view(*new_x_shape)  # in Tensorflow implem: fct split_states\n",
    "    if k:\n",
    "      return x.permute(0, 2, 3, 1)  # (batch, head, head_features, seq_length)\n",
    "    else:\n",
    "      return x.permute(0, 2, 1, 3)  # (batch, head, seq_length, head_features)\n",
    "    \n",
    "  def merge_heads(self, x):\n",
    "    x = x.permute(0, 2, 1, 3).contiguous()\n",
    "    new_x_shape = x.size()[:-2] + (x.size(-2) * x.size(-1),)\n",
    "    return x.view(*new_x_shape)  # in Tensorflow implem: fct merge_states\n",
    "    \n",
    "  def forward(self, x, attention_mask):\n",
    "    # during training we only fine-tune the function phi\n",
    "    q, k, v = self.c_attn(x).split(self.config.n_embd, dim=2)\n",
    "    q = self.split_heads(q)\n",
    "    k = self.split_heads(k) # don't permute in key, phi won't work\n",
    "    v = self.split_heads(v)\n",
    "\n",
    "    phi_k = self.phi(k).permute((0, 1, 3, 2)) # [B,H,E//H,S]\n",
    "    phi_q = self.phi(q) # [B,H,S,E//H]\n",
    "    w = phi_q @ phi_k # [B,H,S,S]\n",
    "    \n",
    "    if attention_mask is not None:\n",
    "      w = w + attention_mask\n",
    "    \n",
    "    out = w @ v # [B,H,S,E//H]\n",
    "    \n",
    "    out = self.merge_heads(out) # [B,S,E]\n",
    "    out = self.c_proj(out)\n",
    "    return out"
   ]
  },
  {
   "cell_type": "code",
   "execution_count": 10,
   "id": "ed4e99d8",
   "metadata": {},
   "outputs": [],
   "source": [
    "class Block(nn.Module):\n",
    "  def __init__(self, config):\n",
    "    super().__init__()\n",
    "    \n",
    "    inner_dim = config.n_inner if config.n_inner is not None else 4 * config.n_embd\n",
    "    self.ln_1 = nn.LayerNorm(config.n_embd, eps=config.layer_norm_epsilon)\n",
    "    self.attn = RNNAttention(config)\n",
    "    # self.attn = gpt2.modeling_gpt2.Attention(config.n_embd, config.n_ctx, config)\n",
    "    self.ln_2 = nn.LayerNorm(config.n_embd, eps=config.layer_norm_epsilon)\n",
    "    self.mlp = gpt2.modeling_gpt2.MLP(inner_dim, config)\n",
    "    \n",
    "  def forward(self, hidden_states, attention_mask = None):\n",
    "    attn_outputs = self.attn(self.ln_1(hidden_states), attention_mask)\n",
    "    if isinstance(attn_outputs, tuple):\n",
    "      attn_outputs = attn_outputs[0]\n",
    "    # NOTE: this operation is not correct and will cause errors during loss.backward()\n",
    "    # hidden_states += attn_outputs\n",
    "    # because \"+=\" causes inplace update and not create a new variable\n",
    "    # and unless a new variable is created backprop will fail.\n",
    "    hidden_states = hidden_states + attn_outputs\n",
    "    mlp_states = self.mlp(self.ln_2(hidden_states))\n",
    "    hidden_states = hidden_states +  mlp_states\n",
    "    return hidden_states\n",
    "\n",
    "\n",
    "class T2R(nn.Module):\n",
    "  def __init__(self, config):\n",
    "    super().__init__()\n",
    "    \n",
    "    self.wte = nn.Embedding(config.vocab_size, config.n_embd)\n",
    "    self.wpe = nn.Embedding(config.n_positions, config.n_embd)\n",
    "    self.drop = nn.Dropout(config.embd_pdrop)\n",
    "    self.h = nn.ModuleList([Block(config) for _ in range(config.n_layer)])\n",
    "    self.ln_f = nn.LayerNorm(config.n_embd, eps=config.layer_norm_epsilon)\n",
    "    self.lm_head = nn.Linear(config.n_embd, config.vocab_size, bias = False)\n",
    "    \n",
    "  def forward(self, x, attention_mask = None):\n",
    "    \n",
    "    # Attention mask.\n",
    "    if attention_mask is not None:\n",
    "        assert batch_size > 0, \"batch_size has to be defined and > 0\"\n",
    "        attention_mask = attention_mask.view(batch_size, -1)\n",
    "        attention_mask = attention_mask[:, None, None, :]\n",
    "\n",
    "        attention_mask = attention_mask.to(dtype=self.dtype)  # fp16 compatibility\n",
    "        attention_mask = (1.0 - attention_mask) * -10000.0\n",
    "        \n",
    "    device = input_ids.device if input_ids is not None else inputs_embeds.device\n",
    "    position_ids = torch.arange(0, x.shape[-1], dtype=torch.long, device=device)\n",
    "    position_ids = position_ids.unsqueeze(0).view(-1, x.shape[-1])\n",
    "    \n",
    "    inputs_embeds = self.wte(x)\n",
    "    position_embeds = self.wpe(position_ids)\n",
    "    hidden_states = inputs_embeds + position_embeds\n",
    "    hidden_states = self.drop(hidden_states)\n",
    "    \n",
    "    for i, block in enumerate(self.h):\n",
    "      hidden_states = block(hidden_states, attention_mask)\n",
    "    \n",
    "    output = self.ln_f(hidden_states)\n",
    "    output = self.lm_head(output)\n",
    "    return output"
   ]
  },
  {
   "cell_type": "code",
   "execution_count": 11,
   "id": "e2f20c26",
   "metadata": {},
   "outputs": [],
   "source": [
    "t2r = T2R(tinyconf)"
   ]
  },
  {
   "cell_type": "code",
   "execution_count": 678,
   "id": "dd5624f0",
   "metadata": {},
   "outputs": [
    {
     "data": {
      "text/plain": [
       "torch.Size([1, 100, 38])"
      ]
     },
     "execution_count": 678,
     "metadata": {},
     "output_type": "execute_result"
    }
   ],
   "source": [
    "t2r(ds[10][0].unsqueeze(0)).shape"
   ]
  },
  {
   "cell_type": "code",
   "execution_count": 679,
   "id": "d6abd33e",
   "metadata": {
    "scrolled": false
   },
   "outputs": [
    {
     "name": "stderr",
     "output_type": "stream",
     "text": [
      "Loss: 2.507: 100%|██████████| 100/100 [04:54<00:00,  2.94s/it]\n"
     ]
    }
   ],
   "source": [
    "optim = torch.optim.Adam(t2r.parameters(), lr = 0.001)\n",
    "pbar = trange(100)\n",
    "all_losses = [-1]\n",
    "for _ in pbar:\n",
    "  dl = DataLoader(ds, shuffle = True, batch_size = 32)\n",
    "  for x in dl:\n",
    "    with torch.autograd.set_detect_anomaly(True):\n",
    "      x = x[0]\n",
    "      pbar.set_description(f\"Loss: {all_losses[-1]:.3f}\")\n",
    "      output = t2r(x[:, :-1])\n",
    "      output = output.contiguous().view(-1, output.shape[-1])\n",
    "      labels = x[:, 1:].contiguous().view(-1)\n",
    "      loss = F.cross_entropy(output, labels)\n",
    "\n",
    "      all_losses.append(loss.item())\n",
    "\n",
    "      optim.zero_grad()\n",
    "      loss.backward()\n",
    "      optim.step()"
   ]
  },
  {
   "cell_type": "code",
   "execution_count": 680,
   "id": "84d75319",
   "metadata": {},
   "outputs": [
    {
     "data": {
      "text/plain": [
       "[<matplotlib.lines.Line2D at 0x141d4b190>]"
      ]
     },
     "execution_count": 680,
     "metadata": {},
     "output_type": "execute_result"
    },
    {
     "data": {
      "image/png": "[encoded data removed]",
      "text/plain": [
       "<Figure size 432x288 with 1 Axes>"
      ]
     },
     "metadata": {
      "needs_background": "light"
     },
     "output_type": "display_data"
    }
   ],
   "source": [
    "plt.plot(all_losses[1:])"
   ]
  },
  {
   "cell_type": "markdown",
   "id": "2ac266f8",
   "metadata": {},
   "source": [
    "### `T2R` for Inference"
   ]
  },
  {
   "cell_type": "code",
   "execution_count": 11,
   "id": "7a846848",
   "metadata": {},
   "outputs": [],
   "source": [
    "class RNNAttention(nn.Module):\n",
    "  # this is at the heart of T2R framework\n",
    "  def __init__(self, config):\n",
    "    super().__init__()\n",
    "    self.config = config\n",
    "    nx = config.n_embd\n",
    "    head_size = config.n_embd // config.n_head\n",
    "    nx_rnn = head_size\n",
    "    \n",
    "    self.c_attn = gpt2.modeling_gpt2.Conv1D(3 * nx, nx)\n",
    "    self.c_proj = gpt2.modeling_gpt2.Conv1D(nx, nx)\n",
    "    self.phi = nn.Sequential(\n",
    "      nn.Linear(head_size, nx_rnn),\n",
    "      nn.ReLU()\n",
    "    )\n",
    "    \n",
    "    self.infer_ready = False\n",
    "\n",
    "  def infer_init(self):\n",
    "    \"\"\"this function performs the merging of weights + refining the graph\"\"\"\n",
    "    config = self.config\n",
    "    \n",
    "\n",
    "    wq, wk, wv = self.c_attn.weight.data.split(self.config.n_embd, dim = 1)\n",
    "    bq, bk, bv = self.c_attn.bias.data.split(self.config.n_embd, dim = 0)\n",
    "    \n",
    "    # get the matrices for phi\n",
    "    wp = self.phi[0].weight.data # [n_embd // n_head, nx_rnn]\n",
    "    bp = self.phi[0].bias.data # [1, nx_rnn]\n",
    "    \n",
    "  \n",
    "    wp = torch.tile(wp, [config.n_head, 1]) # [n_embd, nx_rnn]\n",
    "\n",
    "    \n",
    "    # cache the phi function weights and biases\n",
    "    wpq = wq @ wp      # [n_embd, nx_rnn]\n",
    "    bpq = bp + bq @ wp # [n_head, nx_rnn]\n",
    "    wpk = wk @ wp\n",
    "    bpk = bp + bk @ wp\n",
    "    \n",
    "    # define the phi layer functions\n",
    "    self.v_layer = lambda x: x @ wv + bv\n",
    "    self.phi_q = lambda x: torch.relu(x @ wpq + bpq)\n",
    "    self.phi_k = lambda x: torch.relu(x @ wpk + bpk)\n",
    "    \n",
    "    # set flag that optimisation for inference is complete\n",
    "    self.infer_ready = True\n",
    "  \n",
    "  def forward(self, x, rnn_state):\n",
    "    assert self.infer_ready, \"module not prepared for inference, run .prepare_infer()\"\n",
    "    \n",
    "    # get q,k,v\n",
    "    q = self.phi_q(x)\n",
    "    k = self.phi_k(x)\n",
    "    v = self.v_layer(x)\n",
    "    \n",
    "    # from previous state we get S and z for t-1\n",
    "    s, z = rnn_state\n",
    "    s = s + k.permute((0, 2, 1)) @ v\n",
    "    z = z + k\n",
    "    \n",
    "    # get output\n",
    "    num = q @ s\n",
    "    dem = q @ z.permute((0, 2, 1))\n",
    "    out = num / dem\n",
    "    \n",
    "    return out, (s, z)\n",
    "  \n",
    "# # test code:\n",
    "# attn = RNNAttention(tinyconf)\n",
    "# attn.load_state_dict(t2r.h[0].attn.state_dict())\n",
    "# attn.infer_init()\n",
    "\n",
    "# # generate for 10 steps\n",
    "# B, E = 3, tinyconf.n_embd\n",
    "# rnn_state = [0, 0] # initial state is 0\n",
    "# for _ in range(10):\n",
    "#   hidden_state, rnn_state = attn(torch.randn(3, 1, 8), rnn_state)\n",
    "#   print(hidden_state.shape, [x.shape for x in rnn_state])"
   ]
  },
  {
   "cell_type": "code",
   "execution_count": 15,
   "id": "440f0933",
   "metadata": {},
   "outputs": [],
   "source": [
    "class Block(nn.Module):\n",
    "  def __init__(self, config):\n",
    "    super().__init__()\n",
    "    \n",
    "    inner_dim = config.n_inner if config.n_inner is not None else 4 * config.n_embd\n",
    "    self.ln_1 = nn.LayerNorm(config.n_embd, eps=config.layer_norm_epsilon)\n",
    "    self.attn = RNNAttention(config)\n",
    "    # self.attn = gpt2.modeling_gpt2.Attention(config.n_embd, config.n_ctx, config)\n",
    "    self.ln_2 = nn.LayerNorm(config.n_embd, eps=config.layer_norm_epsilon)\n",
    "    self.mlp = gpt2.modeling_gpt2.MLP(inner_dim, config)\n",
    "    \n",
    "  def infer_init(self):\n",
    "    self.attn.infer_init()\n",
    "    \n",
    "  def forward(self, hidden_states, rnn_state):\n",
    "    attn_outputs, rnn_state = self.attn(self.ln_1(hidden_states), rnn_state)\n",
    "    if isinstance(attn_outputs, tuple):\n",
    "      attn_outputs = attn_outputs[0]\n",
    "    hidden_states = hidden_states + attn_outputs\n",
    "    mlp_states = self.mlp(self.ln_2(hidden_states))\n",
    "    hidden_states = hidden_states +  mlp_states\n",
    "    return hidden_states, rnn_state\n",
    "  \n",
    "class T2RInfer(nn.Module):\n",
    "  def __init__(self, config):\n",
    "    super().__init__()\n",
    "    \n",
    "    self.wte = nn.Embedding(config.vocab_size, config.n_embd)\n",
    "    self.wpe = nn.Embedding(config.n_positions, config.n_embd)\n",
    "    self.drop = nn.Dropout(config.embd_pdrop)\n",
    "    self.h = nn.ModuleList([Block(config) for _ in range(config.n_layer)])\n",
    "    self.ln_f = nn.LayerNorm(config.n_embd, eps=config.layer_norm_epsilon)\n",
    "    self.lm_head = nn.Linear(config.n_embd, config.vocab_size, bias = False)\n",
    "    \n",
    "    self.infer_ready = False # flag\n",
    "    self.infer_init()\n",
    "    \n",
    "    \n",
    "  def infer_init(self):\n",
    "    print(\"Preparing Model for inference\")\n",
    "    for block in self.h:\n",
    "      block.infer_init()\n",
    "    self.infer_ready = True\n",
    "    \n",
    "  @staticmethod\n",
    "  def top_k_logits(logits, k):\n",
    "    v, ix = torch.topk(logits, k)\n",
    "    out = logits.clone()\n",
    "    out[out < v[:, [-1]]] = -1e10\n",
    "    return out\n",
    "  \n",
    "  def forward(self, hstate, rnn_state):\n",
    "    for block in self.h:\n",
    "      # the RNN states\n",
    "      logits, rnn_state = block(hstate, rnn_state)\n",
    "    logits = self.lm_head(self.ln_f(logits))\n",
    "    return logits, rnn_state\n",
    "  \n",
    "  def get_next_tokens(self, logits, top_k, do_sample, num_return_sequences):\n",
    "    if top_k is not None:\n",
    "      logits = self.top_k_logits(logits, top_k)\n",
    "    probs = F.softmax(logits, dim=-1)[:, -1, :]\n",
    "    \n",
    "    if do_sample:\n",
    "      ix = torch.multinomial(probs, num_samples=num_return_sequences)\n",
    "    else:\n",
    "      _, ix = torch.topk(probs, k=num_return_sequences, dim=-1)\n",
    "    \n",
    "    return ix\n",
    "    \n",
    "\n",
    "     \n",
    "  @torch.no_grad()\n",
    "  def generate(\n",
    "    self,\n",
    "    input_ids,\n",
    "    max_length,\n",
    "    num_return_sequences = 1,\n",
    "    top_k = None,\n",
    "    do_sample = False\n",
    "  ):\n",
    "    assert self.infer_ready, \"Not ready for inference. see `T2RInfer.infer_init()`\"\n",
    "    \n",
    "\n",
    "    if len(input_ids.shape) == 1:\n",
    "      input_ids = input_ids.unsqueeze(0)\n",
    "      \n",
    "\n",
    "    B, S = input_ids.shape\n",
    "    \n",
    "    assert B == 1, \"Only 1 sequence at a time can be generated\"\n",
    "    \n",
    "\n",
    "    position_ids = torch.arange(0, max_length).long().unsqueeze(0)\n",
    "    position_embeds = self.wpe(position_ids)\n",
    "    inputs_embeds = self.wte(input_ids)\n",
    "    hidden_states = inputs_embeds + position_embeds[:, :S] # [B, S]\n",
    "    rnn_state = [0,0] # initial state is always 0\n",
    "    for i in range(S):\n",
    "      hstate = hidden_states[:, i].unsqueeze(1)\n",
    "      logits, rnn_state = self.forward(hstate, rnn_state)\n",
    "\n",
    "    ix = self.get_next_tokens(logits, top_k, do_sample, num_return_sequences)\n",
    "    generated_tokens = [ix[0]]\n",
    "\n",
    "    if num_return_sequences > 1:\n",
    "      input_ids = torch.tile(input_ids, [num_return_sequences, 1])\n",
    "      rnn_state = [torch.tile(x, [num_return_sequences, 1, 1]) for x in rnn_state]\n",
    "    \n",
    "    for i in range(S, max_length - 1, 1):\n",
    "      # for rest of the steps\n",
    "      hidden_state = self.wte(generated_tokens[-1]) + position_embeds[:, i]\n",
    "      hidden_state = hidden_state.unsqueeze(1)\n",
    "      logits, rnn_state = self.forward(hidden_state, rnn_state)\n",
    "      ix = self.get_next_tokens(logits, top_k, do_sample, num_return_sequences)\n",
    "      generated_tokens.append(ix[0])\n",
    "    \n",
    "    generated_tokens = [x.unsqueeze(-1) for x in generated_tokens]\n",
    "    generated_tokens = torch.cat(generated_tokens, dim = 1)\n",
    "    full_seq = torch.cat([input_ids, generated_tokens], dim = 1)\n",
    "    return full_seq"
   ]
  },
  {
   "cell_type": "code",
   "execution_count": 22,
   "id": "9b23c06c",
   "metadata": {},
   "outputs": [
    {
     "name": "stdout",
     "output_type": "stream",
     "text": [
      "Preparing Model for inference\n",
      "Ready\n"
     ]
    }
   ],
   "source": [
    "t2rinfer = T2RInfer(tinyconf)\n",
    "t2rinfer.load_state_dict(t2r.state_dict())\n",
    "t2rinfer.eval()\n",
    "print(\"Ready\")"
   ]
  },
  {
   "cell_type": "code",
   "execution_count": 23,
   "id": "a7d26e2c",
   "metadata": {},
   "outputs": [
    {
     "name": "stdout",
     "output_type": "stream",
     "text": [
      "CPU times: user 110 ms, sys: 36.4 ms, total: 147 ms\n",
      "Wall time: 114 ms\n"
     ]
    }
   ],
   "source": [
    "%%time\n",
    "input_ids = ds[0][0][:10].unsqueeze(0)\n",
    "output = t2rinfer.generate(\n",
    "  input_ids = input_ids,\n",
    "  max_length= 100,\n",
    "  num_return_sequences = 10,\n",
    "  do_sample = True\n",
    ")"
   ]
  },
  {
   "cell_type": "code",
   "execution_count": 28,
   "id": "433c8189",
   "metadata": {},
   "outputs": [
    {
     "name": "stdout",
     "output_type": "stream",
     "text": [
      "Input Sequence:\n",
      "this artic\n"
     ]
    },
    {
     "data": {
      "text/plain": [
       "['this artic00p9lg65bw879j91w8vgvkoqir ljmz3j4e78e2n27kxeue270rorjm2slx5ivxz2ltl2ool5qifqg s126ahonlsa',\n",
       " 'this articvt\\n1bpjxmuunm\\n z3vc628ttovfyb9yjkw2arhndpi\\nbba13ojtcy2p\\neg w1iqt1brhgtqp\\necnwibu38csu4umc1',\n",
       " 'this articw cbwd9qqrq1v88dksniojan x3af p4piwwka7f48g2ptznx4fglc9eke6\\nlcj0b48q nis0dgo2xhz 7mqll9 9l',\n",
       " 'this articpuh29afpr4dokscpvnd96dpuzlc7gx8v qdlx6gr50  w7rmw mses3tw0fnsz1\\na7waajjjt9ptl0q2ibn7mdap g',\n",
       " 'this articowon m21x2s6b3t88u9dscygrtqmmw0cr83e60vmekd7\\nxbs8as6btjum81acnf9hmzk9eu8qserxj9n0ixnw7lhd2',\n",
       " 'this artickmbqawuegmx qcxmuoxfm535t8arkr68dkr8yjhqlm99i9qkktd33m2s820rf0c 8860fpp0dyuejt67hcyu\\nueglq',\n",
       " 'this artic4xzv4khyy743wn0w9i\\n8pshfv\\nj 3qjlfmvzloronseq7psle7u5kyd1 633jjmk0x371u83a2l\\n5\\n8gf623dgm3xf',\n",
       " 'this artic fq457xf75y\\ntzysbmmekuvepnduiis5\\neyq 5wb06lwje89nfvza94054k9x75bvd036w2tkn3aasf\\nmoqmi61bfv',\n",
       " 'this artichduz0ckj01 sa7bja2jq02096d1keoxf8pko7n4us4jaazkqsl\\nazu5j0tr0ywu7mk78jcfg9m2178voq3lvr jrn\\n',\n",
       " 'this artic\\nld0mhptw\\nh065k7pllc\\nvllg9yhcbemaoftswlg1ca53k5ea\\nxv58svrwgtvrgj\\na wnhz6sjzjcllp8kke3s3sei']"
      ]
     },
     "execution_count": 28,
     "metadata": {},
     "output_type": "execute_result"
    }
   ],
   "source": [
    "print(\"Input Sequence:\")\n",
    "print(\"\".join([inv_vocab[x.item()] for x in input_ids[0]]))\n",
    "[\"\".join([inv_vocab[x] for x in  seq]) for seq in output.tolist()]"
   ]
  },
  {
   "cell_type": "markdown",
   "id": "50797f32",
   "metadata": {},
   "source": [
    "## Tests\n",
    "\n",
    "We will now create mid size networks w/o training and see the time taken across a bunch of experiments"
   ]
  },
  {
   "cell_type": "code",
   "execution_count": 6,
   "id": "1cb39565",
   "metadata": {},
   "outputs": [],
   "source": [
    "from time import time"
   ]
  },
  {
   "cell_type": "code",
   "execution_count": 7,
   "id": "294fce77",
   "metadata": {},
   "outputs": [],
   "source": [
    "tinyconf = GPT2Config(\n",
    "  vocab_size=vocab_size,\n",
    "  n_positions=1024,\n",
    "  n_ctx=1024,\n",
    "  n_embd=128,\n",
    "  n_layer=12,\n",
    "  n_head=8\n",
    ")\n",
    "text_lengths = np.linspace(50, 1024, 100).astype(int)"
   ]
  },
  {
   "cell_type": "code",
   "execution_count": 8,
   "id": "e134720a",
   "metadata": {},
   "outputs": [
    {
     "data": {
      "text/plain": [
       "2515456"
      ]
     },
     "execution_count": 8,
     "metadata": {},
     "output_type": "execute_result"
    }
   ],
   "source": [
    "# starting with GPT-2 from HF\n",
    "model = GPT2LMHeadModel(tinyconf)\n",
    "model.eval()\n",
    "model.num_parameters()"
   ]
  },
  {
   "cell_type": "code",
   "execution_count": 9,
   "id": "c6b108be",
   "metadata": {},
   "outputs": [
    {
     "name": "stderr",
     "output_type": "stream",
     "text": [
      "100%|██████████| 100/100 [28:43<00:00, 17.23s/it]\n"
     ]
    }
   ],
   "source": [
    "time_per_seq_hf = {}\n",
    "for _, max_length in zip(trange(len(text_lengths)), text_lengths):\n",
    "  st = time()\n",
    "  outputs = model.generate(\n",
    "    input_ids = ds[0][0][:10].unsqueeze(0),\n",
    "    max_length=max_length,\n",
    "    do_sample=True,\n",
    "    num_return_sequences=10,\n",
    "    pad_token_id = 12\n",
    "  )\n",
    "  time_per_seq_hf[max_length] = time() - st"
   ]
  },
  {
   "cell_type": "code",
   "execution_count": 16,
   "id": "23fdf88d",
   "metadata": {},
   "outputs": [
    {
     "name": "stdout",
     "output_type": "stream",
     "text": [
      "Preparing Model for inference\n",
      "\n"
     ]
    }
   ],
   "source": [
    "t2rinfer = T2RInfer(tinyconf)\n",
    "t2rinfer.eval()\n",
    "print(\"\")"
   ]
  },
  {
   "cell_type": "code",
   "execution_count": 17,
   "id": "0aea2b2f",
   "metadata": {},
   "outputs": [
    {
     "name": "stderr",
     "output_type": "stream",
     "text": [
      "100%|██████████| 100/100 [05:10<00:00,  3.10s/it]\n"
     ]
    }
   ],
   "source": [
    "time_per_seq_t2r = {}\n",
    "input_ids = ds[0][0][:10].unsqueeze(0)\n",
    "for _, max_length in zip(trange(len(text_lengths)), text_lengths):\n",
    "  st = time()\n",
    "  output = t2rinfer.generate(\n",
    "    input_ids = input_ids,\n",
    "    max_length= max_length,\n",
    "    num_return_sequences = 10,\n",
    "    do_sample = True\n",
    "  )\n",
    "  time_per_seq_t2r[max_length] = time() - st"
   ]
  },
  {
   "cell_type": "code",
   "execution_count": 19,
   "id": "8551b8c0",
   "metadata": {},
   "outputs": [],
   "source": [
    "hftime = list(time_per_seq_hf.values())\n",
    "trtime = list(time_per_seq_t2r.values())"
   ]
  },
  {
   "cell_type": "code",
   "execution_count": 46,
   "id": "c6770eea",
   "metadata": {},
   "outputs": [
    {
     "data": {
      "image/png": "[encoded data removed]",
      "text/plain": [
       "<Figure size 1440x576 with 1 Axes>"
      ]
     },
     "metadata": {
      "needs_background": "light"
     },
     "output_type": "display_data"
    }
   ],
   "source": [
    "# create plots\n",
    "plt.figure(figsize = (20, 8))\n",
    "plt.plot(hftime)\n",
    "plt.plot(trtime)\n",
    "plt.ylabel(\"Time in Seconds\")\n",
    "plt.xticks(\n",
    "  ticks = np.arange(len(text_lengths) // 2) * 2,\n",
    "  labels = text_lengths[np.arange(0, len(text_lengths), 2)],\n",
    "  rotation = 90\n",
    ")\n",
    "plt.xlabel(\"Sequence Length to Generate\")\n",
    "plt.legend([\"GPT2LMHeadModel.generate()\", \"T2RInfer.generate()\"])\n",
    "plt.title(\"Time taken to generate different sequence lengths given 10 input tokens\")\n",
    "plt.savefig(\"./raw_time.png\")"
   ]
  },
  {
   "cell_type": "code",
   "execution_count": 49,
   "id": "505ef873",
   "metadata": {},
   "outputs": [
    {
     "data": {
      "image/png": "[encoded data removed]",
      "text/plain": [
       "<Figure size 1440x576 with 1 Axes>"
      ]
     },
     "metadata": {
      "needs_background": "light"
     },
     "output_type": "display_data"
    }
   ],
   "source": [
    "hftime = np.array(hftime)\n",
    "trtime = np.array(trtime)\n",
    "\n",
    "hfy = text_lengths / hftime\n",
    "t2ry = text_lengths / trtime\n",
    "plt.figure(figsize = (20, 8))\n",
    "plt.plot(hfy)\n",
    "plt.plot(t2ry)\n",
    "plt.ylabel(\"Tokens / Second\")\n",
    "plt.xticks(\n",
    "  ticks = np.arange(len(text_lengths) // 2) * 2,\n",
    "  labels = text_lengths[np.arange(0, len(text_lengths), 2)],\n",
    "  rotation = 90\n",
    ")\n",
    "plt.xlabel(\"Sequence Length to Generate\")\n",
    "plt.legend([\"GPT2LMHeadModel.generate()\", \"T2RInfer.generate()\"])\n",
    "plt.title(\"Tokens per second generated given 10 input tokens\")\n",
    "plt.savefig(\"./tokpsec.png\")"
   ]
  },
  {
   "cell_type": "markdown",
   "id": "465fa0ee",
   "metadata": {},
   "source": [
    "### It works\n",
    "\n",
    "So we can see that according to these metics T2R is better than raw transformer. In the next set of experiments we will compare this to quantized models and finally with `Intel OpenVino`."
   ]
  },
  {
   "cell_type": "code",
   "execution_count": null,
   "id": "a808159e",
   "metadata": {},
   "outputs": [],
   "source": []
  }
 ],
 "metadata": {
  "kernelspec": {
   "display_name": "Python 3",
   "language": "python",
   "name": "python3"
  },
  "language_info": {
   "codemirror_mode": {
    "name": "ipython",
    "version": 3
   },
   "file_extension": ".py",
   "mimetype": "text/x-python",
   "name": "python",
   "nbconvert_exporter": "python",
   "pygments_lexer": "ipython3",
   "version": "3.8.2"
  }
 },
 "nbformat": 4,
 "nbformat_minor": 5
}
