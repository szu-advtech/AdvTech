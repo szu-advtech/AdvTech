{
  "nbformat": 4,
  "nbformat_minor": 0,
  "metadata": {
    "colab": {
      "name": "BLE Generative Wind Field.ipynb",
      "provenance": [],
      "collapsed_sections": []
    },
    "kernelspec": {
      "name": "python3",
      "display_name": "Python 3"
    },
    "language_info": {
      "name": "python"
    }
  },
  "cells": [
    {
      "cell_type": "markdown",
      "source": [
        "Copyright 2021 The Balloon Learning Environment Authors.\n",
        "\n",
        "Licensed under the Apache License, Version 2.0 (the \"License\");\n",
        "you may not use this file except in compliance with the License.\n",
        "You may obtain a copy of the License at\n",
        "\n",
        "    http://www.apache.org/licenses/LICENSE-2.0\n",
        "\n",
        "Unless required by applicable law or agreed to in writing, software\n",
        "distributed under the License is distributed on an \"AS IS\" BASIS,\n",
        "WITHOUT WARRANTIES OR CONDITIONS OF ANY KIND, either express or implied.\n",
        "See the License for the specific language governing permissions and\n",
        "limitations under the License."
      ],
      "metadata": {
        "id": "AU9rZ4j3CpK0"
      }
    },
    {
      "cell_type": "markdown",
      "source": [
        "# BLE View generated wind fields\n",
        "\n",
        "This notebook allows you to sample from our trained WindField VAE and generate an animation of the resulting wind fields.\n",
        "\n",
        "Simply run the cells in order!"
      ],
      "metadata": {
        "id": "WPdm377_CsZO"
      }
    },
    {
      "cell_type": "code",
      "source": [
        "# @title Install necessary libraries\n",
        "!pip install --upgrade pip\n",
        "!pip install -U balloon_learning_environment"
      ],
      "metadata": {
        "cellView": "form",
        "id": "WrElKZs9CjbA"
      },
      "execution_count": null,
      "outputs": []
    },
    {
      "cell_type": "code",
      "execution_count": 2,
      "metadata": {
        "cellView": "form",
        "id": "1EXmdfWMCexO"
      },
      "outputs": [],
      "source": [
        "# @title Necessary imports\n",
        "import datetime as dt\n",
        "import numpy as np\n",
        "import jax\n",
        "import matplotlib.pyplot as plt\n",
        "from matplotlib import animation\n",
        "from matplotlib import rc\n",
        "rc('animation', html='jshtml')\n",
        "\n",
        "from balloon_learning_environment.env import generative_wind_field"
      ]
    },
    {
      "cell_type": "code",
      "source": [
        "# @title Generate a wind field\n",
        "wind_field = generative_wind_field.GenerativeWindField()\n",
        "rng = jax.random.PRNGKey(0)\n",
        "wind_field.reset_forecast(rng, dt.datetime.now())"
      ],
      "metadata": {
        "cellView": "form",
        "id": "uL1l24hZDJQS"
      },
      "execution_count": 4,
      "outputs": []
    },
    {
      "cell_type": "code",
      "source": [
        "# @title Generate animation object (with a test still)\n",
        "lats = np.linspace(-150, 150, 21)\n",
        "lngs = np.linspace(-150, 150, 21)\n",
        "pressure_levels = np.linspace(5000, 14000, 10)\n",
        "x, y, z = np.meshgrid(lngs, lats, pressure_levels)\n",
        "xx, yy = np.meshgrid(lats, lngs)\n",
        "\n",
        "time_step = 0\n",
        "direction = 1\n",
        "episode_num = 0\n",
        "elev = 10\n",
        "azim = -60\n",
        "\n",
        "fig = plt.figure(figsize=(20, 15))\n",
        "\n",
        "def frame(w):\n",
        "  global time_step\n",
        "  global direction\n",
        "  global episode_num\n",
        "  global azim\n",
        "\n",
        "  u = wind_field.field[:, :, :, time_step, 0]\n",
        "  v = wind_field.field[:, :, :, time_step, 1]\n",
        "\n",
        "  ax = fig.add_subplot(projection='3d', elev=elev, azim=azim)\n",
        "  ax.quiver(x, y, z, u, v, np.zeros_like(u), length=1.5,\n",
        "            arrow_length_ratio=0.01, normalize=False)\n",
        "  ax.set_xlabel('Longitude displacement (km)')\n",
        "  ax.set_ylabel('Latitude displacement (km)')\n",
        "  ax.set_zlabel('Pressure (Pa)')\n",
        "  ax.invert_zaxis()\n",
        "\n",
        "  time_step += direction\n",
        "  azim += 1\n",
        "  if time_step == 9:\n",
        "    time_step = 7\n",
        "    direction = -1\n",
        "    episode_num += 1\n",
        "  elif time_step == -1:\n",
        "    time_step = 1\n",
        "    direction = 1\n",
        "    episode_num += 1\n",
        "    rng = jax.random.PRNGKey(episode_num)\n",
        "    wind_field.reset_forecast(rng, dt.datetime.now())\n",
        "\n",
        "  return ax\n",
        "  \n",
        "anim = animation.FuncAnimation(fig, frame, frames=40, blit=False, repeat=True)"
      ],
      "metadata": {
        "cellView": "form",
        "id": "YDkFzPXjDZSs"
      },
      "execution_count": null,
      "outputs": []
    },
    {
      "cell_type": "markdown",
      "source": [
        "Run one of the two cells below. To avoid large notebooks we are not embedding the generated videos, but you can find them in our [generated directory](https://github.com/google/balloon-learning-environment/tree/master/balloon_learning_environment/generated)."
      ],
      "metadata": {
        "id": "q9lXz_K-0iwY"
      }
    },
    {
      "cell_type": "code",
      "source": [
        "# @title Display the animation in this notebook.\n",
        "anim"
      ],
      "metadata": {
        "cellView": "form",
        "id": "mN3R8U4ND9mk"
      },
      "execution_count": null,
      "outputs": []
    },
    {
      "cell_type": "code",
      "source": [
        "# @title Save the animation (you can access it from the left panel).\n",
        "filename = 'wind_field.mp4'  # @param {type: 'string'}\n",
        "anim.save(filename)"
      ],
      "metadata": {
        "cellView": "form",
        "id": "z1QnzzkA0b_U"
      },
      "execution_count": null,
      "outputs": []
    }
  ]
}