{
 "cells": [
  {
   "cell_type": "markdown",
   "metadata": {},
   "source": [
    "# 基于深度学习用于高阶调制的极化码译码器"
   ]
  },
  {
   "cell_type": "code",
   "execution_count": 310,
   "metadata": {},
   "outputs": [],
   "source": [
    "import numpy as np\n",
    "from keras.models import Sequential\n",
    "from keras.layers.core import Dense, Lambda\n",
    "from keras import backend as K\n",
    "import matplotlib.pyplot as plt\n",
    "%matplotlib inline"
   ]
  },
  {
   "cell_type": "markdown",
   "metadata": {},
   "source": [
    "# Parameters"
   ]
  },
  {
   "cell_type": "code",
   "execution_count": 311,
   "metadata": {
    "collapsed": true
   },
   "outputs": [],
   "source": [
    "k = 6                       # 信息位\n",
    "N = 32                      # 码长\n",
    "E = 1                       # 发送功率\n",
    "modulate = 'BPSK'           # 调制方式('4QAM' or 'BPSK' or '4ASK')\n",
    "train_SNR_Eb = 1            # 信噪比\n",
    "nb_epoch = 2**16            # 训练轮数\n",
    "design = [128, 64, 32]      # 每个隐含层的节点数\n",
    "batch_size = 256            # 训练样本的批数\n",
    "optimizer = 'adam'          # 优化器，调整每个节点权重的方法\n",
    "loss = 'mse'                # 损失函数\n",
    "\n",
    "train_SNR_Es = train_SNR_Eb + 10*np.log10(k/N)          #符号信噪比，指的是每个符号的能量与噪声功率谱密度之比\n",
    "train_sigma = np.sqrt(1/(2*10**(train_SNR_Es/10)))      #噪声功率"
   ]
  },
  {
   "cell_type": "markdown",
   "metadata": {},
   "source": [
    "# Define NN model"
   ]
  },
  {
   "cell_type": "code",
   "execution_count": 312,
   "outputs": [],
   "source": [
    "# 添加噪声\n",
    "def addNoise(x, sigma):\n",
    "    w = K.random_normal(K.shape(x), mean=0.0, stddev=sigma)\n",
    "    return x + w\n",
    "\n",
    "# 误码率\n",
    "def ber(y_true, y_pred):\n",
    "    return K.mean(K.not_equal(y_true, K.round(y_pred)))\n",
    "\n",
    "# 输出张量形状\n",
    "def return_output_shape(input_shape):\n",
    "    return input_shape\n",
    "\n",
    "# 构造模型\n",
    "def compose_model(layers):\n",
    "    model = Sequential()\n",
    "    for layer in layers:\n",
    "        model.add(layer)\n",
    "    return model\n",
    "\n",
    "# 统计误比特数\n",
    "def errors(y_true, y_pred):\n",
    "    return K.sum(K.cast(K.not_equal(y_true, K.round(y_pred)),dtype = 'int32'))"
   ],
   "metadata": {
    "collapsed": false
   }
  },
  {
   "cell_type": "code",
   "execution_count": 313,
   "metadata": {},
   "outputs": [],
   "source": [
    "if modulate == '4ASK':\n",
    "    inputShape = N>>1\n",
    "else:\n",
    "    inputShape = N\n",
    "\n",
    "# 定义噪声层\n",
    "noise_layers = [Lambda(addNoise, arguments={'sigma':train_sigma},\n",
    "                       input_shape=(inputShape,), output_shape=return_output_shape, name=\"noise\")]\n",
    "noise = compose_model(noise_layers)\n",
    "noise.compile(optimizer=optimizer, loss=loss)\n",
    "\n",
    "# 定义解码层\n",
    "decoder_layers = [Dense(design[0], activation='relu', input_shape=(inputShape,))]\n",
    "for i in range(1,len(design)):\n",
    "    decoder_layers.append(Dense(design[i], activation='relu'))\n",
    "decoder_layers.append(Dense(k, activation='sigmoid'))\n",
    "decoder = compose_model(decoder_layers)\n",
    "decoder.compile(optimizer=optimizer, loss=loss, metrics=[errors])\n",
    "\n",
    "# 定义训练模型\n",
    "model_layers = noise_layers+decoder_layers\n",
    "model = compose_model(model_layers)\n",
    "model.compile(optimizer=optimizer, loss=loss, metrics=[ber])"
   ]
  },
  {
   "cell_type": "markdown",
   "metadata": {},
   "source": [
    "# Data Generation"
   ]
  },
  {
   "cell_type": "code",
   "execution_count": 314,
   "metadata": {
    "collapsed": true
   },
   "outputs": [],
   "source": [
    "# 半加器\n",
    "def half_adder(a,b):\n",
    "    s = a ^ b\n",
    "    c = a & b\n",
    "    return s,c\n",
    "\n",
    "# 全加器\n",
    "def full_adder(a,b,c):\n",
    "    s = (a ^ b) ^ c\n",
    "    c = (a & b) | (c & (a ^ b))\n",
    "    return s,c\n",
    "\n",
    "# a + b，数据类型为bool\n",
    "def add_bool(a,b):\n",
    "    if len(a) != len(b):\n",
    "        raise ValueError('arrays with different length')\n",
    "    k = len(a)\n",
    "    s = np.zeros(k,dtype=bool)\n",
    "    c = False\n",
    "    for i in reversed(range(0,k)):\n",
    "        s[i], c = full_adder(a[i],b[i],c)    \n",
    "    if c:\n",
    "        warnings.warn(\"Addition overflow!\")\n",
    "    return s\n",
    "\n",
    "# a + 1，数据类型为bool\n",
    "def inc_bool(a):\n",
    "    k = len(a)\n",
    "    increment = np.hstack((np.zeros(k-1,dtype=bool), np.ones(1,dtype=bool)))\n",
    "    a = add_bool(a,increment)\n",
    "    return a\n",
    "\n",
    "# 比特翻转\n",
    "def bitrevorder(x):\n",
    "    m = np.amax(x)\n",
    "    n = np.ceil(np.log2(m)).astype(int)\n",
    "    for i in range(0,len(x)):\n",
    "        x[i] = int('{:0{n}b}'.format(x[i],n=n)[::-1],2)  \n",
    "    return x\n",
    "\n",
    "# AWGN信道构造极化码\n",
    "def polar_design_awgn(N, k, design_snr_dB):\n",
    "    S = 10**(design_snr_dB/10)\n",
    "    z0 = np.zeros(N)\n",
    "    z0[0] = np.exp(-S)\n",
    "    for j in range(1,int(np.log2(N))+1):\n",
    "        u = 2**j\n",
    "        for t in range(0,int(u/2)):\n",
    "            T = z0[t]\n",
    "            z0[t] = 2*T - T**2     # upper channel\n",
    "            z0[int(u/2)+t] = T**2  # lower channel\n",
    "    # 对巴氏参数排序\n",
    "    idx = np.argsort(z0)\n",
    "    # 选择最好的k个信道\n",
    "    idx = np.sort(bitrevorder(idx[0:k]))\n",
    "    A = np.zeros(N, dtype=bool)\n",
    "    A[idx] = True\n",
    "    return A\n",
    "\n",
    "# 迭代生成Polar码\n",
    "def polar_transform_iter(u):\n",
    "    N = len(u)\n",
    "    n = 1\n",
    "    x = np.copy(u)\n",
    "    stages = np.log2(N).astype(int)\n",
    "    for s in range(0,stages):\n",
    "        i = 0\n",
    "        while i < N:\n",
    "            for j in range(0,n):\n",
    "                idx = i+j\n",
    "                x[idx] = x[idx] ^ x[idx+n]\n",
    "            i=i+2*n\n",
    "        n=2*n\n",
    "    return x"
   ]
  },
  {
   "cell_type": "code",
   "execution_count": 315,
   "metadata": {
    "collapsed": true
   },
   "outputs": [],
   "source": [
    "# 生成所有可能的信息序列\n",
    "d = np.zeros((2**k,k),dtype=bool)\n",
    "for i in range(1,2**k):\n",
    "    d[i]= inc_bool(d[i-1])\n",
    "\n",
    "# 生成所有可能的码字\n",
    "A = polar_design_awgn(N, k, design_snr_dB=1)  # logical vector indicating the nonfrozen bit locations\n",
    "x = np.zeros((2**k, N),dtype=bool)\n",
    "if modulate == '4ASK':\n",
    "    s = np.zeros((2**k, N>>1),dtype=float)\n",
    "else:\n",
    "    s = np.zeros((2**k, N),dtype=float)\n",
    "u = np.zeros((2**k, N),dtype=bool)\n",
    "u[:,A] = d\n",
    "\n",
    "#调制\n",
    "if modulate == '4ASK':\n",
    "    for i in range(0,2**k):\n",
    "        x[i] = polar_transform_iter(u[i])\n",
    "        for j in range(0,N>>1):\n",
    "            if x[i][2*j] == 0 & x[i][2*j+1] == 0:\n",
    "                s[i][j] = -3*np.sqrt(E/5)\n",
    "            elif x[i][2*j] == 1 & x[i][2*j+1] == 0:\n",
    "                s[i][j] = -1*np.sqrt(E/5)\n",
    "            elif x[i][2*j] == 1 & x[i][2*j+1] == 1:\n",
    "                s[i][j] =  1*np.sqrt(E/5)\n",
    "            else:\n",
    "                s[i][j] =  3*np.sqrt(E/5)\n",
    "\n",
    "elif modulate == '4QAM':\n",
    "    for i in range(0,2**k):\n",
    "        x[i] = polar_transform_iter(u[i])\n",
    "        for j in range(0,N>>1):\n",
    "            if x[i][2*j] == 0 & x[i][2*j+1] == 0:\n",
    "                s[i][2*j] = np.sqrt(E)/np.sqrt(2)\n",
    "                s[i][2*j+1] = np.sqrt(E)/np.sqrt(2)\n",
    "            elif x[i][2*j] == 1 & x[i][2*j+1] == 0:\n",
    "                s[i][2*j] = -np.sqrt(E)/np.sqrt(2)\n",
    "                s[i][2*j+1] = np.sqrt(E)/np.sqrt(2)\n",
    "            elif x[i][2*j] == 1 & x[i][2*j+1] == 1:\n",
    "                s[i][2*j] = -np.sqrt(E)/np.sqrt(2)\n",
    "                s[i][2*j+1] = -np.sqrt(E)/np.sqrt(2)\n",
    "            else:\n",
    "                s[i][2*j] = np.sqrt(E)/np.sqrt(2)\n",
    "                s[i][2*j+1] = -np.sqrt(E)/np.sqrt(2)\n",
    "else:\n",
    "    for i in range(0,2**k):\n",
    "        x[i] = polar_transform_iter(u[i])\n",
    "    s = (-2*x + 1)*E\n",
    "\n",
    "\n"
   ]
  },
  {
   "cell_type": "markdown",
   "metadata": {},
   "source": [
    "# Train Neural Network"
   ]
  },
  {
   "cell_type": "code",
   "execution_count": 316,
   "metadata": {},
   "outputs": [
    {
     "name": "stdout",
     "output_type": "stream",
     "text": [
      "Model: \"sequential_105\"\n",
      "_________________________________________________________________\n",
      "Layer (type)                 Output Shape              Param #   \n",
      "=================================================================\n",
      "noise (Lambda)               (None, 16)                0         \n",
      "_________________________________________________________________\n",
      "dense_137 (Dense)            (None, 128)               2176      \n",
      "_________________________________________________________________\n",
      "dense_138 (Dense)            (None, 64)                8256      \n",
      "_________________________________________________________________\n",
      "dense_139 (Dense)            (None, 32)                2080      \n",
      "_________________________________________________________________\n",
      "dense_140 (Dense)            (None, 8)                 264       \n",
      "=================================================================\n",
      "Total params: 12,776\n",
      "Trainable params: 12,776\n",
      "Non-trainable params: 0\n",
      "_________________________________________________________________\n"
     ]
    }
   ],
   "source": [
    "model.summary()\n",
    "history = model.fit(s, d, batch_size=batch_size, epochs=nb_epoch, verbose=0, shuffle=True)"
   ]
  },
  {
   "cell_type": "markdown",
   "metadata": {},
   "source": [
    "# Test NN"
   ]
  },
  {
   "cell_type": "code",
   "execution_count": 317,
   "metadata": {
    "collapsed": true
   },
   "outputs": [],
   "source": [
    "test_batch = 1000  \n",
    "num_words = 100000\n",
    "SNR_dB_start_Eb = 0\n",
    "SNR_dB_stop_Eb = 5\n",
    "SNR_points = 20"
   ]
  },
  {
   "cell_type": "code",
   "execution_count": 318,
   "metadata": {},
   "outputs": [],
   "source": [
    "SNR_dB_start_Es = SNR_dB_start_Eb + 10*np.log10(k/N)\n",
    "SNR_dB_stop_Es = SNR_dB_stop_Eb + 10*np.log10(k/N)\n",
    "\n",
    "sigma_start = np.sqrt(1/(2*10**(SNR_dB_start_Es/10)))\n",
    "sigma_stop = np.sqrt(1/(2*10**(SNR_dB_stop_Es/10)))\n",
    "\n",
    "sigmas = np.linspace(sigma_start, sigma_stop , SNR_points)\n",
    "\n",
    "nb_errors = np.zeros(len(sigmas),dtype=int)\n",
    "nb_bits = np.zeros(len(sigmas),dtype=int)\n",
    "\n",
    "for i in range(0,len(sigmas)):\n",
    "\n",
    "    for ii in range(0,np.round(num_words/test_batch).astype(int)):\n",
    "        \n",
    "        # 信源\n",
    "        np.random.seed(0)\n",
    "        d_test = np.random.randint(0,2,size=(test_batch,k)) \n",
    "\n",
    "        # 编码\n",
    "        x_test = np.zeros((test_batch, N),dtype=bool)\n",
    "        if modulate == '4ASK':\n",
    "            s_test = np.zeros((test_batch, N>>1),dtype=float)\n",
    "        else:\n",
    "            s_test = np.zeros((test_batch, N),dtype=float)\n",
    "        u_test = np.zeros((test_batch, N),dtype=bool)\n",
    "        u_test[:,A] = d_test\n",
    "\n",
    "        for iii in range(0,test_batch):\n",
    "            x_test[iii] = polar_transform_iter(u_test[iii])\n",
    "\n",
    "        # 调制\n",
    "        if modulate == '4QAM':\n",
    "            for iii in range(0,test_batch):\n",
    "                for j in range(0,N>>1):\n",
    "                    if x_test[iii][2*j] == 0 & x_test[iii][2*j+1] == 0:\n",
    "                        s_test[iii][2*j] = np.sqrt(E)/np.sqrt(2)\n",
    "                        s_test[iii][2*j+1] = np.sqrt(E)/np.sqrt(2)\n",
    "                    elif x_test[iii][2*j] == 1 & x_test[iii][2*j+1] == 0:\n",
    "                        s_test[iii][2*j] = -np.sqrt(E)/np.sqrt(2)\n",
    "                        s_test[iii][2*j+1] = np.sqrt(E)/np.sqrt(2)\n",
    "                    elif x_test[iii][2*j] == 1 & x_test[iii][2*j+1] == 1:\n",
    "                        s_test[iii][2*j] = -np.sqrt(E)/np.sqrt(2)\n",
    "                        s_test[iii][2*j+1] = -np.sqrt(E)/np.sqrt(2)\n",
    "                    else:\n",
    "                        s_test[iii][2*j] = np.sqrt(E)/np.sqrt(2)\n",
    "                        s_test[iii][2*j+1] = -np.sqrt(E)/np.sqrt(2)\n",
    "\n",
    "        elif modulate == '4ASK':\n",
    "            for iii in range(0,test_batch):\n",
    "                for j in range(0,N>>1):\n",
    "                    if x_test[iii][2*j] == 0 & x_test[iii][2*j+1] == 0:\n",
    "                        s_test[iii][j] = -3*np.sqrt(E/5)\n",
    "                    elif x_test[iii][2*j] == 1 & x_test[iii][2*j+1] == 0:\n",
    "                        s_test[iii][j] = -1*np.sqrt(E/5)\n",
    "                    elif x_test[iii][2*j] == 1 & x_test[iii][2*j+1] == 1:\n",
    "                        s_test[iii][j] = 1*np.sqrt(E/5)\n",
    "                    else:\n",
    "                        s_test[iii][j] = 3*np.sqrt(E/5)\n",
    "        else:\n",
    "            s_test = (-2*x_test + 1)*E\n",
    "\n",
    "        # 信道 (AWGN)\n",
    "        y_test = s_test + sigmas[i]*np.random.standard_normal(s_test.shape)\n",
    "\n",
    "        # 译码\n",
    "        nb_errors[i] += decoder.evaluate(y_test, d_test, batch_size=test_batch, verbose=0)[1]\n",
    "        nb_bits[i] += d_test.size"
   ]
  },
  {
   "cell_type": "markdown",
   "metadata": {},
   "source": [
    "# Plot Bit-Error-Rate"
   ]
  },
  {
   "cell_type": "code",
   "execution_count": null,
   "metadata": {},
   "outputs": [],
   "source": [
    "legend = []\n",
    "# np.savetxt('C:/Users/Yu/PycharmProjects/pythonProject1/n16_k8_bpsk_E1.txt', np.vstack((10*np.log10(1/(2*sigmas**2)) - 10*np.log10(k/N), nb_errors/nb_bits)).T)\n",
    "plt.plot(10*np.log10(1/(2*sigmas**2)) - 10*np.log10(k/N), nb_errors/nb_bits)\n",
    "legend.append('NN')\n",
    "plt.legend(legend, loc=3)\n",
    "plt.yscale('log')\n",
    "plt.xlabel('$E_b/N_0$')\n",
    "plt.ylabel('BER')    \n",
    "plt.grid(True)\n",
    "plt.show()"
   ]
  }
 ],
 "metadata": {
  "kernelspec": {
   "display_name": "Python 3 (ipykernel)",
   "language": "python",
   "name": "python3"
  },
  "language_info": {
   "codemirror_mode": {
    "name": "ipython",
    "version": 3
   },
   "file_extension": ".py",
   "mimetype": "text/x-python",
   "name": "python",
   "nbconvert_exporter": "python",
   "pygments_lexer": "ipython3",
   "version": "3.7.13"
  }
 },
 "nbformat": 4,
 "nbformat_minor": 1
}
