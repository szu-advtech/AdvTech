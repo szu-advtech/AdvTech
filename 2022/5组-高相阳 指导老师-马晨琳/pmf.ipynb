{
 "cells": [
  {
   "cell_type": "code",
   "execution_count": null,
   "id": "8accfe7c",
   "metadata": {},
   "outputs": [],
   "source": [
    "import numpy as np\n",
    "import math\n",
    "from sklearn.model_selection import train_test_split\n",
    "from data import *\n",
    "from evaluation import *\n",
    "%matplotlib inline\n",
    "\n",
    "data_dir = 'datasets/ml-100k/ub.base' \n",
    "N, M, data_list, _ = load_data(file_dir=data_dir)\n",
    "print(' data length: %d \\n user number: %d \\n item number: %d' %(len(data_list),N,M))\n",
    "\n",
    "train_list, test_list = train_test_split(data_list,test_size=0.0943)\n",
    "print ('train length: %d \\n test length: %d' %(len(train_list),len(test_list)))\n",
    "\n",
    "train_mat = sequence2mat(sequence = train_list, N = N, M = M)\n",
    "test_mat = sequence2mat(sequence = test_list, N = N, M = M)\n",
    "\n",
    "learning_rate = 0.005\n",
    "lamda_regularizer = 0.1\n",
    "max_iteration = 100\n",
    "K = 10\n",
    "\n",
    "from pmf import *\n",
    "model = pmf(train_list=train_list, \n",
    "            test_list=test_list, \n",
    "            N=N, \n",
    "            M=M,\n",
    "            K=K,\n",
    "            learning_rate=learning_rate, \n",
    "            lamda_regularizer=lamda_regularizer, \n",
    "            max_iteration=max_iteration)\n",
    "P, Q, records_array = model.train()\n",
    "print('MAE:%.4f;RMSE:%.4f;Recall:%.4f;Precision:%.4f'\n",
    "      %(records_array[:,1][-1],records_array[:,2][-1],records_array[:,3][-1],records_array[:,4][-1]))\n",
    "\n",
    "figure(values_list=records_array[:,0],name='loss')\n",
    "figure(values_list=records_array[:,1],name='MAE')"
   ]
  },
  {
   "cell_type": "code",
   "execution_count": null,
   "id": "40cdcab2",
   "metadata": {},
   "outputs": [],
   "source": []
  }
 ],
 "metadata": {
  "kernelspec": {
   "display_name": "Python 3",
   "language": "python",
   "name": "python3"
  },
  "language_info": {
   "codemirror_mode": {
    "name": "ipython",
    "version": 3
   },
   "file_extension": ".py",
   "mimetype": "text/x-python",
   "name": "python",
   "nbconvert_exporter": "python",
   "pygments_lexer": "ipython3",
   "version": "3.6.13"
  }
 },
 "nbformat": 4,
 "nbformat_minor": 5
}
